{
 "cells": [
  {
   "cell_type": "code",
   "execution_count": 274,
   "metadata": {},
   "outputs": [],
   "source": [
    "import pandas as pd\n",
    "import numpy as np\n",
    "import os\n",
    "import seaborn as sns\n",
    "import chart_studio.plotly as py\n",
    "import plotly.offline as pyoff\n",
    "import plotly.graph_objs as go\n",
    "import random"
   ]
  },
  {
   "cell_type": "code",
   "execution_count": 275,
   "metadata": {},
   "outputs": [],
   "source": [
    "data = pd.read_csv('superstore_final.csv',encoding= 'unicode_escape')"
   ]
  },
  {
   "cell_type": "code",
   "execution_count": 276,
   "metadata": {},
   "outputs": [
    {
     "data": {
      "text/html": [
       "<div>\n",
       "<style scoped>\n",
       "    .dataframe tbody tr th:only-of-type {\n",
       "        vertical-align: middle;\n",
       "    }\n",
       "\n",
       "    .dataframe tbody tr th {\n",
       "        vertical-align: top;\n",
       "    }\n",
       "\n",
       "    .dataframe thead th {\n",
       "        text-align: right;\n",
       "    }\n",
       "</style>\n",
       "<table border=\"1\" class=\"dataframe\">\n",
       "  <thead>\n",
       "    <tr style=\"text-align: right;\">\n",
       "      <th></th>\n",
       "      <th>Row ID</th>\n",
       "      <th>Order ID</th>\n",
       "      <th>Order Date</th>\n",
       "      <th>Ship Date</th>\n",
       "      <th>Ship Mode</th>\n",
       "      <th>Customer ID</th>\n",
       "      <th>Customer Name</th>\n",
       "      <th>Segment</th>\n",
       "      <th>City</th>\n",
       "      <th>State</th>\n",
       "      <th>...</th>\n",
       "      <th>ProductID</th>\n",
       "      <th>Category</th>\n",
       "      <th>Sub-Category</th>\n",
       "      <th>ProductName</th>\n",
       "      <th>Sales</th>\n",
       "      <th>Quantity</th>\n",
       "      <th>Discount</th>\n",
       "      <th>Profit</th>\n",
       "      <th>Shipping Cost</th>\n",
       "      <th>Order Priority</th>\n",
       "    </tr>\n",
       "  </thead>\n",
       "  <tbody>\n",
       "    <tr>\n",
       "      <th>0</th>\n",
       "      <td>42433</td>\n",
       "      <td>AG-2011-2040</td>\n",
       "      <td>1/1/2014</td>\n",
       "      <td>6/1/2014</td>\n",
       "      <td>Standard Class</td>\n",
       "      <td>TB-11280</td>\n",
       "      <td>Toby Braunhardt</td>\n",
       "      <td>Consumer</td>\n",
       "      <td>Constantine</td>\n",
       "      <td>Constantine</td>\n",
       "      <td>...</td>\n",
       "      <td>1000000</td>\n",
       "      <td>Office Supplies</td>\n",
       "      <td>Storage</td>\n",
       "      <td>Tenex Lockers, Blue</td>\n",
       "      <td>408.300</td>\n",
       "      <td>2</td>\n",
       "      <td>0.0</td>\n",
       "      <td>106.140</td>\n",
       "      <td>35.46</td>\n",
       "      <td>Medium</td>\n",
       "    </tr>\n",
       "    <tr>\n",
       "      <th>1</th>\n",
       "      <td>22253</td>\n",
       "      <td>IN-2011-47883</td>\n",
       "      <td>1/1/2014</td>\n",
       "      <td>8/1/2014</td>\n",
       "      <td>Standard Class</td>\n",
       "      <td>JH-15985</td>\n",
       "      <td>Joseph Holt</td>\n",
       "      <td>Consumer</td>\n",
       "      <td>Wagga Wagga</td>\n",
       "      <td>New South Wales</td>\n",
       "      <td>...</td>\n",
       "      <td>1000001</td>\n",
       "      <td>Office Supplies</td>\n",
       "      <td>Supplies</td>\n",
       "      <td>Acme Trimmer, High Speed</td>\n",
       "      <td>120.366</td>\n",
       "      <td>3</td>\n",
       "      <td>0.1</td>\n",
       "      <td>36.036</td>\n",
       "      <td>9.72</td>\n",
       "      <td>Medium</td>\n",
       "    </tr>\n",
       "    <tr>\n",
       "      <th>2</th>\n",
       "      <td>48883</td>\n",
       "      <td>HU-2011-1220</td>\n",
       "      <td>1/1/2014</td>\n",
       "      <td>5/1/2014</td>\n",
       "      <td>Second Class</td>\n",
       "      <td>AT-735</td>\n",
       "      <td>Annie Thurman</td>\n",
       "      <td>Consumer</td>\n",
       "      <td>Budapest</td>\n",
       "      <td>Budapest</td>\n",
       "      <td>...</td>\n",
       "      <td>1000002</td>\n",
       "      <td>Office Supplies</td>\n",
       "      <td>Storage</td>\n",
       "      <td>Tenex Box, Single Width</td>\n",
       "      <td>66.120</td>\n",
       "      <td>4</td>\n",
       "      <td>0.0</td>\n",
       "      <td>29.640</td>\n",
       "      <td>8.17</td>\n",
       "      <td>High</td>\n",
       "    </tr>\n",
       "    <tr>\n",
       "      <th>3</th>\n",
       "      <td>11731</td>\n",
       "      <td>IT-2011-3647632</td>\n",
       "      <td>1/1/2014</td>\n",
       "      <td>5/1/2014</td>\n",
       "      <td>Second Class</td>\n",
       "      <td>EM-14140</td>\n",
       "      <td>Eugene Moren</td>\n",
       "      <td>Home Office</td>\n",
       "      <td>Stockholm</td>\n",
       "      <td>Stockholm</td>\n",
       "      <td>...</td>\n",
       "      <td>1000003</td>\n",
       "      <td>Office Supplies</td>\n",
       "      <td>Paper</td>\n",
       "      <td>Enermax Note Cards, Premium</td>\n",
       "      <td>44.865</td>\n",
       "      <td>3</td>\n",
       "      <td>0.5</td>\n",
       "      <td>-26.055</td>\n",
       "      <td>4.82</td>\n",
       "      <td>High</td>\n",
       "    </tr>\n",
       "    <tr>\n",
       "      <th>4</th>\n",
       "      <td>22255</td>\n",
       "      <td>IN-2011-47883</td>\n",
       "      <td>1/1/2014</td>\n",
       "      <td>8/1/2014</td>\n",
       "      <td>Standard Class</td>\n",
       "      <td>JH-15985</td>\n",
       "      <td>Joseph Holt</td>\n",
       "      <td>Consumer</td>\n",
       "      <td>Wagga Wagga</td>\n",
       "      <td>New South Wales</td>\n",
       "      <td>...</td>\n",
       "      <td>1000004</td>\n",
       "      <td>Furniture</td>\n",
       "      <td>Furnishings</td>\n",
       "      <td>Eldon Light Bulb, Duo Pack</td>\n",
       "      <td>113.670</td>\n",
       "      <td>5</td>\n",
       "      <td>0.1</td>\n",
       "      <td>37.770</td>\n",
       "      <td>4.70</td>\n",
       "      <td>Medium</td>\n",
       "    </tr>\n",
       "  </tbody>\n",
       "</table>\n",
       "<p>5 rows × 24 columns</p>\n",
       "</div>"
      ],
      "text/plain": [
       "   Row ID         Order ID Order Date Ship Date       Ship Mode Customer ID  \\\n",
       "0   42433     AG-2011-2040   1/1/2014  6/1/2014  Standard Class    TB-11280   \n",
       "1   22253    IN-2011-47883   1/1/2014  8/1/2014  Standard Class    JH-15985   \n",
       "2   48883     HU-2011-1220   1/1/2014  5/1/2014    Second Class      AT-735   \n",
       "3   11731  IT-2011-3647632   1/1/2014  5/1/2014    Second Class    EM-14140   \n",
       "4   22255    IN-2011-47883   1/1/2014  8/1/2014  Standard Class    JH-15985   \n",
       "\n",
       "     Customer Name      Segment         City            State  ... ProductID  \\\n",
       "0  Toby Braunhardt     Consumer  Constantine      Constantine  ...   1000000   \n",
       "1      Joseph Holt     Consumer  Wagga Wagga  New South Wales  ...   1000001   \n",
       "2    Annie Thurman     Consumer     Budapest         Budapest  ...   1000002   \n",
       "3     Eugene Moren  Home Office    Stockholm        Stockholm  ...   1000003   \n",
       "4      Joseph Holt     Consumer  Wagga Wagga  New South Wales  ...   1000004   \n",
       "\n",
       "          Category Sub-Category                  ProductName    Sales  \\\n",
       "0  Office Supplies      Storage          Tenex Lockers, Blue  408.300   \n",
       "1  Office Supplies     Supplies     Acme Trimmer, High Speed  120.366   \n",
       "2  Office Supplies      Storage      Tenex Box, Single Width   66.120   \n",
       "3  Office Supplies        Paper  Enermax Note Cards, Premium   44.865   \n",
       "4        Furniture  Furnishings   Eldon Light Bulb, Duo Pack  113.670   \n",
       "\n",
       "  Quantity Discount   Profit  Shipping Cost  Order Priority  \n",
       "0        2      0.0  106.140          35.46          Medium  \n",
       "1        3      0.1   36.036           9.72          Medium  \n",
       "2        4      0.0   29.640           8.17            High  \n",
       "3        3      0.5  -26.055           4.82            High  \n",
       "4        5      0.1   37.770           4.70          Medium  \n",
       "\n",
       "[5 rows x 24 columns]"
      ]
     },
     "execution_count": 276,
     "metadata": {},
     "output_type": "execute_result"
    }
   ],
   "source": [
    "data.head(5)"
   ]
  },
  {
   "cell_type": "code",
   "execution_count": 277,
   "metadata": {},
   "outputs": [
    {
     "data": {
      "text/plain": [
       "Row ID            51290\n",
       "Order ID          51290\n",
       "Order Date        51290\n",
       "Ship Date         51290\n",
       "Ship Mode         51290\n",
       "Customer ID       51290\n",
       "Customer Name     51290\n",
       "Segment           51290\n",
       "City              51290\n",
       "State             51290\n",
       "Country           51290\n",
       "Postal Code        9994\n",
       "Market            51290\n",
       "Region            51290\n",
       "ProductID         51290\n",
       "Category          51290\n",
       "Sub-Category      51290\n",
       "ProductName       51290\n",
       "Sales             51290\n",
       "Quantity          51290\n",
       "Discount          51290\n",
       "Profit            51290\n",
       "Shipping Cost     51290\n",
       "Order Priority    51290\n",
       "dtype: int64"
      ]
     },
     "execution_count": 277,
     "metadata": {},
     "output_type": "execute_result"
    }
   ],
   "source": [
    "data.count()"
   ]
  },
  {
   "cell_type": "code",
   "execution_count": 278,
   "metadata": {},
   "outputs": [
    {
     "name": "stdout",
     "output_type": "stream",
     "text": [
      "3788\n",
      "3788\n"
     ]
    }
   ],
   "source": [
    "print(data['ProductID'].unique().size)\n",
    "print(data['ProductName'].unique().size)"
   ]
  },
  {
   "cell_type": "code",
   "execution_count": 279,
   "metadata": {},
   "outputs": [
    {
     "data": {
      "text/plain": [
       "1590"
      ]
     },
     "execution_count": 279,
     "metadata": {},
     "output_type": "execute_result"
    }
   ],
   "source": [
    "data['Customer ID'].unique().size"
   ]
  },
  {
   "cell_type": "code",
   "execution_count": 280,
   "metadata": {},
   "outputs": [
    {
     "data": {
      "text/plain": [
       "Row ID                0\n",
       "Order ID              0\n",
       "Order Date            0\n",
       "Ship Date             0\n",
       "Ship Mode             0\n",
       "Customer ID           0\n",
       "Customer Name         0\n",
       "Segment               0\n",
       "City                  0\n",
       "State                 0\n",
       "Country               0\n",
       "Postal Code       41296\n",
       "Market                0\n",
       "Region                0\n",
       "ProductID             0\n",
       "Category              0\n",
       "Sub-Category          0\n",
       "ProductName           0\n",
       "Sales                 0\n",
       "Quantity              0\n",
       "Discount              0\n",
       "Profit                0\n",
       "Shipping Cost         0\n",
       "Order Priority        0\n",
       "dtype: int64"
      ]
     },
     "execution_count": 280,
     "metadata": {},
     "output_type": "execute_result"
    }
   ],
   "source": [
    "data.isnull().sum()"
   ]
  },
  {
   "cell_type": "code",
   "execution_count": 281,
   "metadata": {},
   "outputs": [],
   "source": [
    "data.columns = [c.replace(' ', '_') for c in data.columns]"
   ]
  },
  {
   "cell_type": "code",
   "execution_count": 282,
   "metadata": {},
   "outputs": [
    {
     "data": {
      "text/plain": [
       "Index(['Row_ID', 'Order_ID', 'Order_Date', 'Ship_Date', 'Ship_Mode',\n",
       "       'Customer_ID', 'Customer_Name', 'Segment', 'City', 'State', 'Country',\n",
       "       'Postal_Code', 'Market', 'Region', 'ProductID', 'Category',\n",
       "       'Sub-Category', 'ProductName', 'Sales', 'Quantity', 'Discount',\n",
       "       'Profit', 'Shipping_Cost', 'Order_Priority'],\n",
       "      dtype='object')"
      ]
     },
     "execution_count": 282,
     "metadata": {},
     "output_type": "execute_result"
    }
   ],
   "source": [
    "data.columns"
   ]
  },
  {
   "cell_type": "code",
   "execution_count": 283,
   "metadata": {},
   "outputs": [
    {
     "name": "stdout",
     "output_type": "stream",
     "text": [
      "Row_ID                     int64\n",
      "Order_ID                  object\n",
      "Order_Date        datetime64[ns]\n",
      "Ship_Date                 object\n",
      "Ship_Mode                 object\n",
      "Customer_ID               object\n",
      "Customer_Name             object\n",
      "Segment                   object\n",
      "City                      object\n",
      "State                     object\n",
      "Country                   object\n",
      "Postal_Code              float64\n",
      "Market                    object\n",
      "Region                    object\n",
      "ProductID                  int64\n",
      "Category                  object\n",
      "Sub-Category              object\n",
      "ProductName               object\n",
      "Sales                    float64\n",
      "Quantity                   int64\n",
      "Discount                 float64\n",
      "Profit                   float64\n",
      "Shipping_Cost            float64\n",
      "Order_Priority            object\n",
      "dtype: object\n",
      "2014-01-01 00:00:00\n",
      "2014-12-31 00:00:00\n",
      "(51290, 24)\n"
     ]
    }
   ],
   "source": [
    "# checking Order_Date  data is one full year because it's better to use a metric per Months or Years in RFM\n",
    "data['Order_Date'] = pd.to_datetime(data['Order_Date'])\n",
    "print(data.dtypes)\n",
    "print(data['Order_Date'].min())\n",
    "print(data['Order_Date'].max())\n",
    "print(data.shape)"
   ]
  },
  {
   "cell_type": "code",
   "execution_count": 284,
   "metadata": {},
   "outputs": [],
   "source": [
    "def review_generate(how_many):\n",
    "    review = []\n",
    "    for _ in range(0,how_many):\n",
    "        review.append(random.randint(0,5))\n",
    "    return review"
   ]
  },
  {
   "cell_type": "code",
   "execution_count": 285,
   "metadata": {},
   "outputs": [],
   "source": [
    "review = []\n",
    "for i in review_generate(51290):\n",
    "    review.append(i)\n",
    "data['Review'] = review"
   ]
  },
  {
   "cell_type": "markdown",
   "metadata": {},
   "source": [
    "## Recency"
   ]
  },
  {
   "cell_type": "code",
   "execution_count": 286,
   "metadata": {},
   "outputs": [],
   "source": [
    "cust_max_purchase = data.groupby('Customer_ID').Order_Date.max().reset_index()"
   ]
  },
  {
   "cell_type": "code",
   "execution_count": 287,
   "metadata": {},
   "outputs": [],
   "source": [
    "cust_max_purchase.columns = ['Customer_ID','MaxPurchaseDate']"
   ]
  },
  {
   "cell_type": "code",
   "execution_count": 288,
   "metadata": {},
   "outputs": [
    {
     "data": {
      "text/html": [
       "<div>\n",
       "<style scoped>\n",
       "    .dataframe tbody tr th:only-of-type {\n",
       "        vertical-align: middle;\n",
       "    }\n",
       "\n",
       "    .dataframe tbody tr th {\n",
       "        vertical-align: top;\n",
       "    }\n",
       "\n",
       "    .dataframe thead th {\n",
       "        text-align: right;\n",
       "    }\n",
       "</style>\n",
       "<table border=\"1\" class=\"dataframe\">\n",
       "  <thead>\n",
       "    <tr style=\"text-align: right;\">\n",
       "      <th></th>\n",
       "      <th>Customer_ID</th>\n",
       "      <th>MaxPurchaseDate</th>\n",
       "    </tr>\n",
       "  </thead>\n",
       "  <tbody>\n",
       "    <tr>\n",
       "      <th>0</th>\n",
       "      <td>AA-10315</td>\n",
       "      <td>2014-12-31</td>\n",
       "    </tr>\n",
       "    <tr>\n",
       "      <th>1</th>\n",
       "      <td>AA-10375</td>\n",
       "      <td>2014-12-30</td>\n",
       "    </tr>\n",
       "    <tr>\n",
       "      <th>2</th>\n",
       "      <td>AA-10480</td>\n",
       "      <td>2014-12-28</td>\n",
       "    </tr>\n",
       "    <tr>\n",
       "      <th>3</th>\n",
       "      <td>AA-10645</td>\n",
       "      <td>2014-12-26</td>\n",
       "    </tr>\n",
       "    <tr>\n",
       "      <th>4</th>\n",
       "      <td>AA-315</td>\n",
       "      <td>2014-12-29</td>\n",
       "    </tr>\n",
       "  </tbody>\n",
       "</table>\n",
       "</div>"
      ],
      "text/plain": [
       "  Customer_ID MaxPurchaseDate\n",
       "0    AA-10315      2014-12-31\n",
       "1    AA-10375      2014-12-30\n",
       "2    AA-10480      2014-12-28\n",
       "3    AA-10645      2014-12-26\n",
       "4      AA-315      2014-12-29"
      ]
     },
     "execution_count": 288,
     "metadata": {},
     "output_type": "execute_result"
    }
   ],
   "source": [
    "cust_max_purchase.head()"
   ]
  },
  {
   "cell_type": "code",
   "execution_count": 289,
   "metadata": {},
   "outputs": [],
   "source": [
    "cust_max_purchase['Recency'] = (cust_max_purchase['MaxPurchaseDate'].max() - cust_max_purchase['MaxPurchaseDate']).dt.days"
   ]
  },
  {
   "cell_type": "code",
   "execution_count": 290,
   "metadata": {},
   "outputs": [
    {
     "data": {
      "text/plain": [
       "Customer_ID    1590\n",
       "dtype: int64"
      ]
     },
     "execution_count": 290,
     "metadata": {},
     "output_type": "execute_result"
    }
   ],
   "source": [
    "# get unique cust_id's\n",
    "data_user = pd.DataFrame(data['Customer_ID'].unique())\n",
    "data_user.columns = ['Customer_ID']\n",
    "data_user.count()"
   ]
  },
  {
   "cell_type": "code",
   "execution_count": 291,
   "metadata": {},
   "outputs": [],
   "source": [
    "data_user = pd.merge(data_user, cust_max_purchase[['Customer_ID','Recency']], on='Customer_ID')"
   ]
  },
  {
   "cell_type": "code",
   "execution_count": 292,
   "metadata": {},
   "outputs": [
    {
     "data": {
      "text/html": [
       "<div>\n",
       "<style scoped>\n",
       "    .dataframe tbody tr th:only-of-type {\n",
       "        vertical-align: middle;\n",
       "    }\n",
       "\n",
       "    .dataframe tbody tr th {\n",
       "        vertical-align: top;\n",
       "    }\n",
       "\n",
       "    .dataframe thead th {\n",
       "        text-align: right;\n",
       "    }\n",
       "</style>\n",
       "<table border=\"1\" class=\"dataframe\">\n",
       "  <thead>\n",
       "    <tr style=\"text-align: right;\">\n",
       "      <th></th>\n",
       "      <th>Customer_ID</th>\n",
       "      <th>Recency</th>\n",
       "    </tr>\n",
       "  </thead>\n",
       "  <tbody>\n",
       "    <tr>\n",
       "      <th>0</th>\n",
       "      <td>TB-11280</td>\n",
       "      <td>13</td>\n",
       "    </tr>\n",
       "    <tr>\n",
       "      <th>1</th>\n",
       "      <td>JH-15985</td>\n",
       "      <td>11</td>\n",
       "    </tr>\n",
       "    <tr>\n",
       "      <th>2</th>\n",
       "      <td>AT-735</td>\n",
       "      <td>69</td>\n",
       "    </tr>\n",
       "    <tr>\n",
       "      <th>3</th>\n",
       "      <td>EM-14140</td>\n",
       "      <td>3</td>\n",
       "    </tr>\n",
       "    <tr>\n",
       "      <th>4</th>\n",
       "      <td>PO-18865</td>\n",
       "      <td>0</td>\n",
       "    </tr>\n",
       "  </tbody>\n",
       "</table>\n",
       "</div>"
      ],
      "text/plain": [
       "  Customer_ID  Recency\n",
       "0    TB-11280       13\n",
       "1    JH-15985       11\n",
       "2      AT-735       69\n",
       "3    EM-14140        3\n",
       "4    PO-18865        0"
      ]
     },
     "execution_count": 292,
     "metadata": {},
     "output_type": "execute_result"
    }
   ],
   "source": [
    "data_user.head()"
   ]
  },
  {
   "cell_type": "code",
   "execution_count": 293,
   "metadata": {},
   "outputs": [
    {
     "data": {
      "text/plain": [
       "count    1590.000000\n",
       "mean       27.738994\n",
       "std        38.509001\n",
       "min         0.000000\n",
       "25%         5.000000\n",
       "50%        12.000000\n",
       "75%        34.000000\n",
       "max       263.000000\n",
       "Name: Recency, dtype: float64"
      ]
     },
     "execution_count": 293,
     "metadata": {},
     "output_type": "execute_result"
    }
   ],
   "source": [
    "data_user.Recency.describe()"
   ]
  },
  {
   "cell_type": "markdown",
   "metadata": {},
   "source": [
    "## Frequency"
   ]
  },
  {
   "cell_type": "code",
   "execution_count": 294,
   "metadata": {},
   "outputs": [
    {
     "data": {
      "text/html": [
       "<div>\n",
       "<style scoped>\n",
       "    .dataframe tbody tr th:only-of-type {\n",
       "        vertical-align: middle;\n",
       "    }\n",
       "\n",
       "    .dataframe tbody tr th {\n",
       "        vertical-align: top;\n",
       "    }\n",
       "\n",
       "    .dataframe thead th {\n",
       "        text-align: right;\n",
       "    }\n",
       "</style>\n",
       "<table border=\"1\" class=\"dataframe\">\n",
       "  <thead>\n",
       "    <tr style=\"text-align: right;\">\n",
       "      <th></th>\n",
       "      <th>Customer_ID</th>\n",
       "      <th>Frequency</th>\n",
       "    </tr>\n",
       "  </thead>\n",
       "  <tbody>\n",
       "    <tr>\n",
       "      <th>0</th>\n",
       "      <td>AA-10315</td>\n",
       "      <td>42</td>\n",
       "    </tr>\n",
       "    <tr>\n",
       "      <th>1</th>\n",
       "      <td>AA-10375</td>\n",
       "      <td>42</td>\n",
       "    </tr>\n",
       "    <tr>\n",
       "      <th>2</th>\n",
       "      <td>AA-10480</td>\n",
       "      <td>38</td>\n",
       "    </tr>\n",
       "    <tr>\n",
       "      <th>3</th>\n",
       "      <td>AA-10645</td>\n",
       "      <td>73</td>\n",
       "    </tr>\n",
       "    <tr>\n",
       "      <th>4</th>\n",
       "      <td>AA-315</td>\n",
       "      <td>8</td>\n",
       "    </tr>\n",
       "  </tbody>\n",
       "</table>\n",
       "</div>"
      ],
      "text/plain": [
       "  Customer_ID  Frequency\n",
       "0    AA-10315         42\n",
       "1    AA-10375         42\n",
       "2    AA-10480         38\n",
       "3    AA-10645         73\n",
       "4      AA-315          8"
      ]
     },
     "execution_count": 294,
     "metadata": {},
     "output_type": "execute_result"
    }
   ],
   "source": [
    "frequency_df = data.groupby(by=['Customer_ID'], as_index=False)['Order_Date'].count()\n",
    "frequency_df.columns = ['Customer_ID','Frequency']\n",
    "frequency_df.head()"
   ]
  },
  {
   "cell_type": "markdown",
   "metadata": {},
   "source": [
    "## Monetary"
   ]
  },
  {
   "cell_type": "code",
   "execution_count": 295,
   "metadata": {},
   "outputs": [
    {
     "data": {
      "text/html": [
       "<div>\n",
       "<style scoped>\n",
       "    .dataframe tbody tr th:only-of-type {\n",
       "        vertical-align: middle;\n",
       "    }\n",
       "\n",
       "    .dataframe tbody tr th {\n",
       "        vertical-align: top;\n",
       "    }\n",
       "\n",
       "    .dataframe thead th {\n",
       "        text-align: right;\n",
       "    }\n",
       "</style>\n",
       "<table border=\"1\" class=\"dataframe\">\n",
       "  <thead>\n",
       "    <tr style=\"text-align: right;\">\n",
       "      <th></th>\n",
       "      <th>Customer_ID</th>\n",
       "      <th>Monetary</th>\n",
       "    </tr>\n",
       "  </thead>\n",
       "  <tbody>\n",
       "    <tr>\n",
       "      <th>0</th>\n",
       "      <td>AA-10315</td>\n",
       "      <td>13747.41300</td>\n",
       "    </tr>\n",
       "    <tr>\n",
       "      <th>1</th>\n",
       "      <td>AA-10375</td>\n",
       "      <td>5884.19500</td>\n",
       "    </tr>\n",
       "    <tr>\n",
       "      <th>2</th>\n",
       "      <td>AA-10480</td>\n",
       "      <td>17695.58978</td>\n",
       "    </tr>\n",
       "    <tr>\n",
       "      <th>3</th>\n",
       "      <td>AA-10645</td>\n",
       "      <td>15343.89070</td>\n",
       "    </tr>\n",
       "    <tr>\n",
       "      <th>4</th>\n",
       "      <td>AA-315</td>\n",
       "      <td>2243.25600</td>\n",
       "    </tr>\n",
       "  </tbody>\n",
       "</table>\n",
       "</div>"
      ],
      "text/plain": [
       "  Customer_ID     Monetary\n",
       "0    AA-10315  13747.41300\n",
       "1    AA-10375   5884.19500\n",
       "2    AA-10480  17695.58978\n",
       "3    AA-10645  15343.89070\n",
       "4      AA-315   2243.25600"
      ]
     },
     "execution_count": 295,
     "metadata": {},
     "output_type": "execute_result"
    }
   ],
   "source": [
    "monetary_df = data.groupby(by='Customer_ID',as_index=False).agg({'Sales': 'sum'})\n",
    "monetary_df.columns = ['Customer_ID','Monetary']\n",
    "monetary_df.head()"
   ]
  },
  {
   "cell_type": "code",
   "execution_count": 296,
   "metadata": {},
   "outputs": [
    {
     "data": {
      "text/html": [
       "<div>\n",
       "<style scoped>\n",
       "    .dataframe tbody tr th:only-of-type {\n",
       "        vertical-align: middle;\n",
       "    }\n",
       "\n",
       "    .dataframe tbody tr th {\n",
       "        vertical-align: top;\n",
       "    }\n",
       "\n",
       "    .dataframe thead th {\n",
       "        text-align: right;\n",
       "    }\n",
       "</style>\n",
       "<table border=\"1\" class=\"dataframe\">\n",
       "  <thead>\n",
       "    <tr style=\"text-align: right;\">\n",
       "      <th></th>\n",
       "      <th>Customer_ID</th>\n",
       "      <th>Recency</th>\n",
       "      <th>Frequency</th>\n",
       "    </tr>\n",
       "  </thead>\n",
       "  <tbody>\n",
       "    <tr>\n",
       "      <th>0</th>\n",
       "      <td>TB-11280</td>\n",
       "      <td>13</td>\n",
       "      <td>15</td>\n",
       "    </tr>\n",
       "    <tr>\n",
       "      <th>1</th>\n",
       "      <td>JH-15985</td>\n",
       "      <td>11</td>\n",
       "      <td>68</td>\n",
       "    </tr>\n",
       "    <tr>\n",
       "      <th>2</th>\n",
       "      <td>AT-735</td>\n",
       "      <td>69</td>\n",
       "      <td>6</td>\n",
       "    </tr>\n",
       "    <tr>\n",
       "      <th>3</th>\n",
       "      <td>EM-14140</td>\n",
       "      <td>3</td>\n",
       "      <td>79</td>\n",
       "    </tr>\n",
       "    <tr>\n",
       "      <th>4</th>\n",
       "      <td>PO-18865</td>\n",
       "      <td>0</td>\n",
       "      <td>61</td>\n",
       "    </tr>\n",
       "  </tbody>\n",
       "</table>\n",
       "</div>"
      ],
      "text/plain": [
       "  Customer_ID  Recency  Frequency\n",
       "0    TB-11280       13         15\n",
       "1    JH-15985       11         68\n",
       "2      AT-735       69          6\n",
       "3    EM-14140        3         79\n",
       "4    PO-18865        0         61"
      ]
     },
     "execution_count": 296,
     "metadata": {},
     "output_type": "execute_result"
    }
   ],
   "source": [
    "#merge recency dataframe with frequency dataframe\n",
    "temp_df = data_user.merge(frequency_df,on='Customer_ID')\n",
    "temp_df.head()"
   ]
  },
  {
   "cell_type": "code",
   "execution_count": 297,
   "metadata": {},
   "outputs": [
    {
     "data": {
      "text/html": [
       "<div>\n",
       "<style scoped>\n",
       "    .dataframe tbody tr th:only-of-type {\n",
       "        vertical-align: middle;\n",
       "    }\n",
       "\n",
       "    .dataframe tbody tr th {\n",
       "        vertical-align: top;\n",
       "    }\n",
       "\n",
       "    .dataframe thead th {\n",
       "        text-align: right;\n",
       "    }\n",
       "</style>\n",
       "<table border=\"1\" class=\"dataframe\">\n",
       "  <thead>\n",
       "    <tr style=\"text-align: right;\">\n",
       "      <th></th>\n",
       "      <th>Recency</th>\n",
       "      <th>Frequency</th>\n",
       "      <th>Monetary</th>\n",
       "    </tr>\n",
       "    <tr>\n",
       "      <th>Customer_ID</th>\n",
       "      <th></th>\n",
       "      <th></th>\n",
       "      <th></th>\n",
       "    </tr>\n",
       "  </thead>\n",
       "  <tbody>\n",
       "    <tr>\n",
       "      <th>TB-11280</th>\n",
       "      <td>13</td>\n",
       "      <td>15</td>\n",
       "      <td>1574.32200</td>\n",
       "    </tr>\n",
       "    <tr>\n",
       "      <th>JH-15985</th>\n",
       "      <td>11</td>\n",
       "      <td>68</td>\n",
       "      <td>18863.40440</td>\n",
       "    </tr>\n",
       "    <tr>\n",
       "      <th>AT-735</th>\n",
       "      <td>69</td>\n",
       "      <td>6</td>\n",
       "      <td>403.65000</td>\n",
       "    </tr>\n",
       "    <tr>\n",
       "      <th>EM-14140</th>\n",
       "      <td>3</td>\n",
       "      <td>79</td>\n",
       "      <td>21507.29126</td>\n",
       "    </tr>\n",
       "    <tr>\n",
       "      <th>PO-18865</th>\n",
       "      <td>0</td>\n",
       "      <td>61</td>\n",
       "      <td>21051.05980</td>\n",
       "    </tr>\n",
       "  </tbody>\n",
       "</table>\n",
       "</div>"
      ],
      "text/plain": [
       "             Recency  Frequency     Monetary\n",
       "Customer_ID                                 \n",
       "TB-11280          13         15   1574.32200\n",
       "JH-15985          11         68  18863.40440\n",
       "AT-735            69          6    403.65000\n",
       "EM-14140           3         79  21507.29126\n",
       "PO-18865           0         61  21051.05980"
      ]
     },
     "execution_count": 297,
     "metadata": {},
     "output_type": "execute_result"
    }
   ],
   "source": [
    "\n",
    "#merge with monetary dataframe to get a table with the 3 columns\n",
    "rfm_df = temp_df.merge(monetary_df,on='Customer_ID')\n",
    "#use CustomerID as index\n",
    "rfm_df.set_index('Customer_ID',inplace=True)\n",
    "#check the head\n",
    "rfm_df.head()"
   ]
  },
  {
   "cell_type": "code",
   "execution_count": 298,
   "metadata": {},
   "outputs": [
    {
     "data": {
      "text/html": [
       "<div>\n",
       "<style scoped>\n",
       "    .dataframe tbody tr th:only-of-type {\n",
       "        vertical-align: middle;\n",
       "    }\n",
       "\n",
       "    .dataframe tbody tr th {\n",
       "        vertical-align: top;\n",
       "    }\n",
       "\n",
       "    .dataframe thead th {\n",
       "        text-align: right;\n",
       "    }\n",
       "</style>\n",
       "<table border=\"1\" class=\"dataframe\">\n",
       "  <thead>\n",
       "    <tr style=\"text-align: right;\">\n",
       "      <th></th>\n",
       "      <th>Recency</th>\n",
       "      <th>Frequency</th>\n",
       "      <th>Monetary</th>\n",
       "      <th>Rank</th>\n",
       "    </tr>\n",
       "    <tr>\n",
       "      <th>Customer_ID</th>\n",
       "      <th></th>\n",
       "      <th></th>\n",
       "      <th></th>\n",
       "      <th></th>\n",
       "    </tr>\n",
       "  </thead>\n",
       "  <tbody>\n",
       "    <tr>\n",
       "      <th>TB-11280</th>\n",
       "      <td>13</td>\n",
       "      <td>15</td>\n",
       "      <td>1574.32200</td>\n",
       "      <td>1215.0</td>\n",
       "    </tr>\n",
       "    <tr>\n",
       "      <th>JH-15985</th>\n",
       "      <td>11</td>\n",
       "      <td>68</td>\n",
       "      <td>18863.40440</td>\n",
       "      <td>116.0</td>\n",
       "    </tr>\n",
       "    <tr>\n",
       "      <th>AT-735</th>\n",
       "      <td>69</td>\n",
       "      <td>6</td>\n",
       "      <td>403.65000</td>\n",
       "      <td>1522.0</td>\n",
       "    </tr>\n",
       "    <tr>\n",
       "      <th>EM-14140</th>\n",
       "      <td>3</td>\n",
       "      <td>79</td>\n",
       "      <td>21507.29126</td>\n",
       "      <td>59.0</td>\n",
       "    </tr>\n",
       "    <tr>\n",
       "      <th>PO-18865</th>\n",
       "      <td>0</td>\n",
       "      <td>61</td>\n",
       "      <td>21051.05980</td>\n",
       "      <td>65.0</td>\n",
       "    </tr>\n",
       "  </tbody>\n",
       "</table>\n",
       "</div>"
      ],
      "text/plain": [
       "             Recency  Frequency     Monetary    Rank\n",
       "Customer_ID                                         \n",
       "TB-11280          13         15   1574.32200  1215.0\n",
       "JH-15985          11         68  18863.40440   116.0\n",
       "AT-735            69          6    403.65000  1522.0\n",
       "EM-14140           3         79  21507.29126    59.0\n",
       "PO-18865           0         61  21051.05980    65.0"
      ]
     },
     "execution_count": 298,
     "metadata": {},
     "output_type": "execute_result"
    }
   ],
   "source": [
    "customers_rank = rfm_df\n",
    "# Create a new column that is the rank of the value of coverage in ascending order\n",
    "customers_rank['Rank'] = customers_rank['Monetary'].rank(ascending=0)\n",
    "\n",
    "customers_rank.head()"
   ]
  },
  {
   "cell_type": "code",
   "execution_count": 299,
   "metadata": {},
   "outputs": [
    {
     "data": {
      "text/html": [
       "<div>\n",
       "<style scoped>\n",
       "    .dataframe tbody tr th:only-of-type {\n",
       "        vertical-align: middle;\n",
       "    }\n",
       "\n",
       "    .dataframe tbody tr th {\n",
       "        vertical-align: top;\n",
       "    }\n",
       "\n",
       "    .dataframe thead th {\n",
       "        text-align: right;\n",
       "    }\n",
       "</style>\n",
       "<table border=\"1\" class=\"dataframe\">\n",
       "  <thead>\n",
       "    <tr style=\"text-align: right;\">\n",
       "      <th></th>\n",
       "      <th>Recency</th>\n",
       "      <th>Frequency</th>\n",
       "      <th>Monetary</th>\n",
       "      <th>Rank</th>\n",
       "    </tr>\n",
       "    <tr>\n",
       "      <th>Customer_ID</th>\n",
       "      <th></th>\n",
       "      <th></th>\n",
       "      <th></th>\n",
       "      <th></th>\n",
       "    </tr>\n",
       "  </thead>\n",
       "  <tbody>\n",
       "    <tr>\n",
       "      <th>TA-21385</th>\n",
       "      <td>0</td>\n",
       "      <td>65</td>\n",
       "      <td>35668.12080</td>\n",
       "      <td>1.0</td>\n",
       "    </tr>\n",
       "    <tr>\n",
       "      <th>GT-14710</th>\n",
       "      <td>1</td>\n",
       "      <td>74</td>\n",
       "      <td>34471.89028</td>\n",
       "      <td>2.0</td>\n",
       "    </tr>\n",
       "    <tr>\n",
       "      <th>TC-20980</th>\n",
       "      <td>0</td>\n",
       "      <td>59</td>\n",
       "      <td>34218.26900</td>\n",
       "      <td>3.0</td>\n",
       "    </tr>\n",
       "    <tr>\n",
       "      <th>SM-20320</th>\n",
       "      <td>6</td>\n",
       "      <td>39</td>\n",
       "      <td>31125.29496</td>\n",
       "      <td>4.0</td>\n",
       "    </tr>\n",
       "    <tr>\n",
       "      <th>BW-11110</th>\n",
       "      <td>19</td>\n",
       "      <td>81</td>\n",
       "      <td>30613.61650</td>\n",
       "      <td>5.0</td>\n",
       "    </tr>\n",
       "    <tr>\n",
       "      <th>...</th>\n",
       "      <td>...</td>\n",
       "      <td>...</td>\n",
       "      <td>...</td>\n",
       "      <td>...</td>\n",
       "    </tr>\n",
       "    <tr>\n",
       "      <th>MP-7470</th>\n",
       "      <td>114</td>\n",
       "      <td>3</td>\n",
       "      <td>58.11000</td>\n",
       "      <td>1586.0</td>\n",
       "    </tr>\n",
       "    <tr>\n",
       "      <th>BD-1500</th>\n",
       "      <td>5</td>\n",
       "      <td>3</td>\n",
       "      <td>52.04700</td>\n",
       "      <td>1587.0</td>\n",
       "    </tr>\n",
       "    <tr>\n",
       "      <th>RC-9825</th>\n",
       "      <td>11</td>\n",
       "      <td>1</td>\n",
       "      <td>37.44000</td>\n",
       "      <td>1588.0</td>\n",
       "    </tr>\n",
       "    <tr>\n",
       "      <th>MG-7890</th>\n",
       "      <td>8</td>\n",
       "      <td>1</td>\n",
       "      <td>19.12800</td>\n",
       "      <td>1589.0</td>\n",
       "    </tr>\n",
       "    <tr>\n",
       "      <th>ZC-11910</th>\n",
       "      <td>200</td>\n",
       "      <td>1</td>\n",
       "      <td>7.17300</td>\n",
       "      <td>1590.0</td>\n",
       "    </tr>\n",
       "  </tbody>\n",
       "</table>\n",
       "<p>1590 rows × 4 columns</p>\n",
       "</div>"
      ],
      "text/plain": [
       "             Recency  Frequency     Monetary    Rank\n",
       "Customer_ID                                         \n",
       "TA-21385           0         65  35668.12080     1.0\n",
       "GT-14710           1         74  34471.89028     2.0\n",
       "TC-20980           0         59  34218.26900     3.0\n",
       "SM-20320           6         39  31125.29496     4.0\n",
       "BW-11110          19         81  30613.61650     5.0\n",
       "...              ...        ...          ...     ...\n",
       "MP-7470          114          3     58.11000  1586.0\n",
       "BD-1500            5          3     52.04700  1587.0\n",
       "RC-9825           11          1     37.44000  1588.0\n",
       "MG-7890            8          1     19.12800  1589.0\n",
       "ZC-11910         200          1      7.17300  1590.0\n",
       "\n",
       "[1590 rows x 4 columns]"
      ]
     },
     "execution_count": 299,
     "metadata": {},
     "output_type": "execute_result"
    }
   ],
   "source": [
    "customers_rank.sort_values('Rank',ascending=True)"
   ]
  },
  {
   "cell_type": "markdown",
   "metadata": {},
   "source": [
    "## RFM Quartiles"
   ]
  },
  {
   "cell_type": "code",
   "execution_count": 300,
   "metadata": {},
   "outputs": [
    {
     "data": {
      "text/html": [
       "<div>\n",
       "<style scoped>\n",
       "    .dataframe tbody tr th:only-of-type {\n",
       "        vertical-align: middle;\n",
       "    }\n",
       "\n",
       "    .dataframe tbody tr th {\n",
       "        vertical-align: top;\n",
       "    }\n",
       "\n",
       "    .dataframe thead th {\n",
       "        text-align: right;\n",
       "    }\n",
       "</style>\n",
       "<table border=\"1\" class=\"dataframe\">\n",
       "  <thead>\n",
       "    <tr style=\"text-align: right;\">\n",
       "      <th></th>\n",
       "      <th>Recency</th>\n",
       "      <th>Frequency</th>\n",
       "      <th>Monetary</th>\n",
       "      <th>Rank</th>\n",
       "    </tr>\n",
       "  </thead>\n",
       "  <tbody>\n",
       "    <tr>\n",
       "      <th>0.25</th>\n",
       "      <td>5.0</td>\n",
       "      <td>12.0</td>\n",
       "      <td>1674.81225</td>\n",
       "      <td>398.25</td>\n",
       "    </tr>\n",
       "    <tr>\n",
       "      <th>0.50</th>\n",
       "      <td>12.0</td>\n",
       "      <td>28.0</td>\n",
       "      <td>6248.13559</td>\n",
       "      <td>795.50</td>\n",
       "    </tr>\n",
       "    <tr>\n",
       "      <th>0.75</th>\n",
       "      <td>34.0</td>\n",
       "      <td>52.0</td>\n",
       "      <td>13133.09842</td>\n",
       "      <td>1192.75</td>\n",
       "    </tr>\n",
       "  </tbody>\n",
       "</table>\n",
       "</div>"
      ],
      "text/plain": [
       "      Recency  Frequency     Monetary     Rank\n",
       "0.25      5.0       12.0   1674.81225   398.25\n",
       "0.50     12.0       28.0   6248.13559   795.50\n",
       "0.75     34.0       52.0  13133.09842  1192.75"
      ]
     },
     "execution_count": 300,
     "metadata": {},
     "output_type": "execute_result"
    }
   ],
   "source": [
    "quantiles = rfm_df.quantile(q=[0.25,0.5,0.75])\n",
    "quantiles"
   ]
  },
  {
   "cell_type": "code",
   "execution_count": 301,
   "metadata": {},
   "outputs": [
    {
     "data": {
      "text/plain": [
       "{'Recency': {0.25: 5.0, 0.5: 12.0, 0.75: 34.0},\n",
       " 'Frequency': {0.25: 12.0, 0.5: 28.0, 0.75: 52.0},\n",
       " 'Monetary': {0.25: 1674.81225,\n",
       "  0.5: 6248.135590000002,\n",
       "  0.75: 13133.098419999998},\n",
       " 'Rank': {0.25: 398.25, 0.5: 795.5, 0.75: 1192.75}}"
      ]
     },
     "execution_count": 301,
     "metadata": {},
     "output_type": "execute_result"
    }
   ],
   "source": [
    "quantiles.to_dict()"
   ]
  },
  {
   "cell_type": "code",
   "execution_count": 302,
   "metadata": {},
   "outputs": [],
   "source": [
    "# Arguments (x = value, p = recency, monetary_value, frequency, d = quartiles dict)\n",
    "def RScore(x,p,d):\n",
    "    if x <= d[p][0.25]:\n",
    "        return 4\n",
    "    elif x <= d[p][0.50]:\n",
    "        return 3\n",
    "    elif x <= d[p][0.75]: \n",
    "        return 2\n",
    "    else:\n",
    "        return 1\n",
    "# Arguments (x = value, p = recency, monetary_value, frequency, k = quartiles dict)\n",
    "def FMScore(x,p,d):\n",
    "    if x <= d[p][0.25]:\n",
    "        return 1\n",
    "    elif x <= d[p][0.50]:\n",
    "        return 2\n",
    "    elif x <= d[p][0.75]: \n",
    "        return 3\n",
    "    else:\n",
    "        return 4"
   ]
  },
  {
   "cell_type": "code",
   "execution_count": 303,
   "metadata": {},
   "outputs": [],
   "source": [
    "#create rfm segmentation table\n",
    "rfm_segmentation = rfm_df\n",
    "rfm_segmentation['R_Quartile'] = rfm_segmentation['Recency'].apply(RScore, args=('Recency',quantiles,))\n",
    "rfm_segmentation['F_Quartile'] = rfm_segmentation['Frequency'].apply(FMScore, args=('Frequency',quantiles,))\n",
    "rfm_segmentation['M_Quartile'] = rfm_segmentation['Monetary'].apply(FMScore, args=('Monetary',quantiles,))"
   ]
  },
  {
   "cell_type": "code",
   "execution_count": 304,
   "metadata": {},
   "outputs": [
    {
     "data": {
      "text/html": [
       "<div>\n",
       "<style scoped>\n",
       "    .dataframe tbody tr th:only-of-type {\n",
       "        vertical-align: middle;\n",
       "    }\n",
       "\n",
       "    .dataframe tbody tr th {\n",
       "        vertical-align: top;\n",
       "    }\n",
       "\n",
       "    .dataframe thead th {\n",
       "        text-align: right;\n",
       "    }\n",
       "</style>\n",
       "<table border=\"1\" class=\"dataframe\">\n",
       "  <thead>\n",
       "    <tr style=\"text-align: right;\">\n",
       "      <th></th>\n",
       "      <th>Recency</th>\n",
       "      <th>Frequency</th>\n",
       "      <th>Monetary</th>\n",
       "      <th>Rank</th>\n",
       "      <th>R_Quartile</th>\n",
       "      <th>F_Quartile</th>\n",
       "      <th>M_Quartile</th>\n",
       "    </tr>\n",
       "    <tr>\n",
       "      <th>Customer_ID</th>\n",
       "      <th></th>\n",
       "      <th></th>\n",
       "      <th></th>\n",
       "      <th></th>\n",
       "      <th></th>\n",
       "      <th></th>\n",
       "      <th></th>\n",
       "    </tr>\n",
       "  </thead>\n",
       "  <tbody>\n",
       "    <tr>\n",
       "      <th>TB-11280</th>\n",
       "      <td>13</td>\n",
       "      <td>15</td>\n",
       "      <td>1574.32200</td>\n",
       "      <td>1215.0</td>\n",
       "      <td>2</td>\n",
       "      <td>2</td>\n",
       "      <td>1</td>\n",
       "    </tr>\n",
       "    <tr>\n",
       "      <th>JH-15985</th>\n",
       "      <td>11</td>\n",
       "      <td>68</td>\n",
       "      <td>18863.40440</td>\n",
       "      <td>116.0</td>\n",
       "      <td>3</td>\n",
       "      <td>4</td>\n",
       "      <td>4</td>\n",
       "    </tr>\n",
       "    <tr>\n",
       "      <th>AT-735</th>\n",
       "      <td>69</td>\n",
       "      <td>6</td>\n",
       "      <td>403.65000</td>\n",
       "      <td>1522.0</td>\n",
       "      <td>1</td>\n",
       "      <td>1</td>\n",
       "      <td>1</td>\n",
       "    </tr>\n",
       "    <tr>\n",
       "      <th>EM-14140</th>\n",
       "      <td>3</td>\n",
       "      <td>79</td>\n",
       "      <td>21507.29126</td>\n",
       "      <td>59.0</td>\n",
       "      <td>4</td>\n",
       "      <td>4</td>\n",
       "      <td>4</td>\n",
       "    </tr>\n",
       "    <tr>\n",
       "      <th>PO-18865</th>\n",
       "      <td>0</td>\n",
       "      <td>61</td>\n",
       "      <td>21051.05980</td>\n",
       "      <td>65.0</td>\n",
       "      <td>4</td>\n",
       "      <td>4</td>\n",
       "      <td>4</td>\n",
       "    </tr>\n",
       "  </tbody>\n",
       "</table>\n",
       "</div>"
      ],
      "text/plain": [
       "             Recency  Frequency     Monetary    Rank  R_Quartile  F_Quartile  \\\n",
       "Customer_ID                                                                    \n",
       "TB-11280          13         15   1574.32200  1215.0           2           2   \n",
       "JH-15985          11         68  18863.40440   116.0           3           4   \n",
       "AT-735            69          6    403.65000  1522.0           1           1   \n",
       "EM-14140           3         79  21507.29126    59.0           4           4   \n",
       "PO-18865           0         61  21051.05980    65.0           4           4   \n",
       "\n",
       "             M_Quartile  \n",
       "Customer_ID              \n",
       "TB-11280              1  \n",
       "JH-15985              4  \n",
       "AT-735                1  \n",
       "EM-14140              4  \n",
       "PO-18865              4  "
      ]
     },
     "execution_count": 304,
     "metadata": {},
     "output_type": "execute_result"
    }
   ],
   "source": [
    "rfm_segmentation.head()"
   ]
  },
  {
   "cell_type": "code",
   "execution_count": 305,
   "metadata": {},
   "outputs": [
    {
     "data": {
      "text/html": [
       "<div>\n",
       "<style scoped>\n",
       "    .dataframe tbody tr th:only-of-type {\n",
       "        vertical-align: middle;\n",
       "    }\n",
       "\n",
       "    .dataframe tbody tr th {\n",
       "        vertical-align: top;\n",
       "    }\n",
       "\n",
       "    .dataframe thead th {\n",
       "        text-align: right;\n",
       "    }\n",
       "</style>\n",
       "<table border=\"1\" class=\"dataframe\">\n",
       "  <thead>\n",
       "    <tr style=\"text-align: right;\">\n",
       "      <th></th>\n",
       "      <th>Recency</th>\n",
       "      <th>Frequency</th>\n",
       "      <th>Monetary</th>\n",
       "      <th>Rank</th>\n",
       "      <th>R_Quartile</th>\n",
       "      <th>F_Quartile</th>\n",
       "      <th>M_Quartile</th>\n",
       "      <th>RFMScore</th>\n",
       "    </tr>\n",
       "    <tr>\n",
       "      <th>Customer_ID</th>\n",
       "      <th></th>\n",
       "      <th></th>\n",
       "      <th></th>\n",
       "      <th></th>\n",
       "      <th></th>\n",
       "      <th></th>\n",
       "      <th></th>\n",
       "      <th></th>\n",
       "    </tr>\n",
       "  </thead>\n",
       "  <tbody>\n",
       "    <tr>\n",
       "      <th>TB-11280</th>\n",
       "      <td>13</td>\n",
       "      <td>15</td>\n",
       "      <td>1574.32200</td>\n",
       "      <td>1215.0</td>\n",
       "      <td>2</td>\n",
       "      <td>2</td>\n",
       "      <td>1</td>\n",
       "      <td>221</td>\n",
       "    </tr>\n",
       "    <tr>\n",
       "      <th>JH-15985</th>\n",
       "      <td>11</td>\n",
       "      <td>68</td>\n",
       "      <td>18863.40440</td>\n",
       "      <td>116.0</td>\n",
       "      <td>3</td>\n",
       "      <td>4</td>\n",
       "      <td>4</td>\n",
       "      <td>344</td>\n",
       "    </tr>\n",
       "    <tr>\n",
       "      <th>AT-735</th>\n",
       "      <td>69</td>\n",
       "      <td>6</td>\n",
       "      <td>403.65000</td>\n",
       "      <td>1522.0</td>\n",
       "      <td>1</td>\n",
       "      <td>1</td>\n",
       "      <td>1</td>\n",
       "      <td>111</td>\n",
       "    </tr>\n",
       "    <tr>\n",
       "      <th>EM-14140</th>\n",
       "      <td>3</td>\n",
       "      <td>79</td>\n",
       "      <td>21507.29126</td>\n",
       "      <td>59.0</td>\n",
       "      <td>4</td>\n",
       "      <td>4</td>\n",
       "      <td>4</td>\n",
       "      <td>444</td>\n",
       "    </tr>\n",
       "    <tr>\n",
       "      <th>PO-18865</th>\n",
       "      <td>0</td>\n",
       "      <td>61</td>\n",
       "      <td>21051.05980</td>\n",
       "      <td>65.0</td>\n",
       "      <td>4</td>\n",
       "      <td>4</td>\n",
       "      <td>4</td>\n",
       "      <td>444</td>\n",
       "    </tr>\n",
       "  </tbody>\n",
       "</table>\n",
       "</div>"
      ],
      "text/plain": [
       "             Recency  Frequency     Monetary    Rank  R_Quartile  F_Quartile  \\\n",
       "Customer_ID                                                                    \n",
       "TB-11280          13         15   1574.32200  1215.0           2           2   \n",
       "JH-15985          11         68  18863.40440   116.0           3           4   \n",
       "AT-735            69          6    403.65000  1522.0           1           1   \n",
       "EM-14140           3         79  21507.29126    59.0           4           4   \n",
       "PO-18865           0         61  21051.05980    65.0           4           4   \n",
       "\n",
       "             M_Quartile RFMScore  \n",
       "Customer_ID                       \n",
       "TB-11280              1      221  \n",
       "JH-15985              4      344  \n",
       "AT-735                1      111  \n",
       "EM-14140              4      444  \n",
       "PO-18865              4      444  "
      ]
     },
     "execution_count": 305,
     "metadata": {},
     "output_type": "execute_result"
    }
   ],
   "source": [
    "rfm_segmentation['RFMScore'] = rfm_segmentation.R_Quartile.map(str) \\\n",
    "                            + rfm_segmentation.F_Quartile.map(str) \\\n",
    "                            + rfm_segmentation.M_Quartile.map(str)\n",
    "rfm_segmentation.head()"
   ]
  },
  {
   "cell_type": "code",
   "execution_count": 306,
   "metadata": {},
   "outputs": [
    {
     "name": "stdout",
     "output_type": "stream",
     "text": [
      "Best Customers:  141\n",
      "Loyal Customers:  376\n",
      "Big Spenders:  398\n",
      "Almost Lost:  56\n",
      "Lost Customers:  8\n",
      "Lost Cheap Customers:  167\n"
     ]
    }
   ],
   "source": [
    "print(\"Best Customers: \",len(rfm_segmentation[rfm_segmentation['RFMScore']=='444']))\n",
    "print('Loyal Customers: ',len(rfm_segmentation[rfm_segmentation['F_Quartile']==4]))\n",
    "print(\"Big Spenders: \",len(rfm_segmentation[rfm_segmentation['M_Quartile']==4]))\n",
    "print('Almost Lost: ', len(rfm_segmentation[rfm_segmentation['RFMScore']=='244']))\n",
    "print('Lost Customers: ',len(rfm_segmentation[rfm_segmentation['RFMScore']=='144']))\n",
    "print('Lost Cheap Customers: ',len(rfm_segmentation[rfm_segmentation['RFMScore']=='111']))"
   ]
  },
  {
   "cell_type": "code",
   "execution_count": 307,
   "metadata": {},
   "outputs": [],
   "source": [
    "rfm_segmentation=rfm_segmentation.reset_index()"
   ]
  },
  {
   "cell_type": "code",
   "execution_count": 308,
   "metadata": {},
   "outputs": [],
   "source": [
    "rfm_segmentation.loc[rfm_segmentation['RFMScore']=='444','Type']= 'Top'\n",
    "rfm_segmentation.loc[rfm_segmentation['R_Quartile']==1,'Type']= 'Lost'\n",
    "rfm_segmentation.loc[(rfm_segmentation['R_Quartile']==2) | (rfm_segmentation['R_Quartile']==3) |(rfm_segmentation['F_Quartile']==3) | (rfm_segmentation['F_Quartile']==2) | (rfm_segmentation['M_Quartile']==3) | (rfm_segmentation['M_Quartile']==2) ,'Type']= 'Regular'\n"
   ]
  },
  {
   "cell_type": "code",
   "execution_count": 309,
   "metadata": {},
   "outputs": [],
   "source": [
    "## Adding segments to the database\n",
    "data=pd.merge(data,rfm_segmentation, how ='left', left_on='Customer_ID', right_on='Customer_ID')"
   ]
  },
  {
   "cell_type": "code",
   "execution_count": 310,
   "metadata": {},
   "outputs": [],
   "source": [
    "top = data[data['Type']=='Top']\n",
    "lost = data[data['Type']=='Lost']\n",
    "regular = data[data['Type']=='Regular']\n",
    "\n",
    "#best_customer_comp.to_csv(\"C:/Users/yashr/OneDrive/Desktop/best_customer.csv\", index=False)"
   ]
  },
  {
   "cell_type": "code",
   "execution_count": 311,
   "metadata": {},
   "outputs": [],
   "source": [
    "top.to_csv(\"top.csv\", index=False)\n",
    "lost.to_csv(\"lost.csv\", index=False)\n",
    "regular.to_csv(\"regular.csv\", index=False)\n"
   ]
  },
  {
   "cell_type": "code",
   "execution_count": 312,
   "metadata": {},
   "outputs": [
    {
     "data": {
      "application/vnd.plotly.v1+json": {
       "config": {
        "linkText": "Export to plot.ly",
        "plotlyServerURL": "https://plot.ly",
        "showLink": false
       },
       "data": [
        {
         "marker": {
          "color": "blue",
          "line": {
           "width": 1
          },
          "opacity": 0.8,
          "size": 7
         },
         "mode": "markers",
         "name": "Low",
         "type": "scatter",
         "x": [
          6,
          5,
          5,
          6,
          11,
          9,
          8,
          3,
          3,
          11,
          11,
          6,
          12,
          8,
          11,
          12,
          9,
          8,
          5,
          7,
          7,
          7,
          9,
          4,
          6,
          5,
          12,
          7,
          11,
          10,
          11,
          8,
          10,
          5,
          9,
          9,
          5,
          4,
          6,
          4,
          11,
          11,
          8,
          11,
          7,
          10,
          10,
          10,
          12,
          11,
          10,
          11,
          10,
          8,
          6,
          12,
          12,
          7,
          12,
          11,
          5,
          5,
          4,
          2,
          12,
          6,
          9,
          9,
          6,
          3,
          8,
          9,
          3,
          8,
          7,
          7,
          8,
          8,
          2,
          4,
          7,
          10,
          10,
          7,
          10,
          4,
          3,
          11,
          5,
          9,
          8,
          7,
          9,
          10,
          7,
          1,
          6,
          10,
          8,
          10,
          6,
          5,
          8,
          6,
          10,
          6,
          6,
          9,
          1,
          7,
          7,
          6,
          6,
          6,
          7,
          5,
          5,
          4,
          11,
          11,
          9,
          5,
          10,
          8,
          10,
          10,
          5,
          8,
          8,
          6,
          7,
          11,
          3,
          11,
          11,
          12,
          5,
          11,
          7,
          10,
          6,
          6,
          4,
          9,
          3,
          3,
          10,
          1,
          5,
          5,
          10,
          4,
          8,
          12,
          5,
          4,
          3,
          8,
          10,
          6,
          3,
          5,
          4,
          1,
          2,
          8,
          6
         ],
         "y": [
          403.65,
          1432.986,
          182.53199999999998,
          431.874,
          1535.7809999999997,
          831.498,
          180.3,
          161.91,
          442.32000000000005,
          939.1529999999998,
          999.6990000000001,
          952.536,
          1433.4000000000003,
          819.45,
          606.105,
          560.745,
          468.654,
          1556.16,
          424.53,
          636.06,
          650.826,
          435.20399999999995,
          1049.52,
          208.41000000000003,
          184.872,
          1232.568,
          1485.897,
          1636.5119999999997,
          1323.0720000000001,
          473.11199999999997,
          1110.7799999999997,
          684.264,
          488.85,
          166.29899999999998,
          361.686,
          476.33399999999995,
          580.614,
          714.417,
          129.03,
          659.3399999999999,
          1517.5500000000002,
          1241.226,
          1617.6000000000001,
          1429.296,
          291.564,
          1503.426,
          919.9740000000002,
          1246.56,
          756.855,
          1160.43,
          1026.597,
          1424.7779999999998,
          1174.824,
          747.21,
          745.6500000000001,
          571.722,
          586.761,
          1451.49,
          695.2860000000001,
          1507.758,
          556.314,
          933.192,
          318.72,
          548.682,
          1256.4720000000002,
          689.64,
          609.3000000000001,
          1554.06,
          328.584,
          422.778,
          1020.0480000000001,
          948.4559999999999,
          58.11,
          1478.0819999999999,
          469.45799999999997,
          403.014,
          896.391,
          1628.166,
          813.0600000000001,
          251.322,
          1573.038,
          847.8269999999999,
          1524.1499999999999,
          1656.9660000000001,
          992.784,
          221.61,
          454.06800000000004,
          914.1779999999999,
          1340.31,
          1460.796,
          1131.912,
          281.208,
          1261.449,
          567.093,
          487.94999999999993,
          160.5,
          1011.798,
          782.0550000000001,
          1115.37,
          1374.1979999999999,
          428.43,
          1497.5700000000002,
          1321.1490000000001,
          579.336,
          1116.2039999999997,
          782.3879999999999,
          836.9939999999999,
          1615.662,
          124.416,
          700.692,
          752.07,
          622.452,
          814.5720000000001,
          1639.9650000000001,
          488.42999999999995,
          1367.268,
          188.544,
          300.666,
          1260.702,
          1350.03,
          432,
          461.87399999999997,
          780.3779999999998,
          950.13,
          1631.3160000000003,
          829.356,
          391.93800000000005,
          398.91900000000004,
          525.9,
          671.232,
          613.7099999999999,
          1033.2900000000002,
          187.35,
          1216.587,
          1365.54,
          1500.5880000000002,
          113.064,
          1468.8990000000003,
          243.03000000000003,
          943.26,
          185.13599999999997,
          354.99,
          203.38799999999998,
          387.051,
          131.808,
          1572.33,
          886.23,
          7.172999999999999,
          420.66,
          208.38000000000002,
          1664.13,
          223.56,
          658.98,
          1601.73,
          1041.5700000000002,
          307.8,
          273.768,
          1164.1499999999999,
          773.604,
          404.50800000000004,
          205.98,
          1159.3500000000001,
          641.6460000000001,
          301.71,
          80.19,
          662.28,
          1540.5299999999997
         ]
        },
        {
         "marker": {
          "color": "green",
          "line": {
           "width": 1
          },
          "opacity": 0.5,
          "size": 9
         },
         "mode": "markers",
         "name": "Mid",
         "type": "scatter",
         "x": [
          26,
          15,
          24,
          13,
          17,
          15,
          25,
          19,
          21,
          14,
          22,
          18,
          15,
          21,
          21,
          15,
          14,
          25,
          14,
          17,
          14,
          16,
          18,
          26,
          16,
          15,
          13,
          15,
          18,
          18,
          18,
          21,
          22,
          21,
          17,
          16,
          15,
          13,
          13,
          17,
          18,
          26,
          23,
          15,
          22,
          15,
          24,
          16,
          18,
          27,
          19,
          18,
          22,
          16,
          24,
          21,
          18,
          15,
          21,
          19,
          18,
          20,
          16,
          14,
          20,
          19,
          17,
          13,
          21,
          17,
          13,
          14,
          17,
          18
         ],
         "y": [
          5154.83976,
          4860.924000000001,
          2987.8979999999997,
          2870.6760000000004,
          4550.322,
          3179.1539999999995,
          6134.987999999999,
          3991.5209999999997,
          1869.7709999999997,
          3105.816,
          4629.155999999999,
          2395.716,
          3709.8810000000008,
          5689.263,
          3294.018,
          2093.6099999999997,
          2513.07,
          6018.071999999999,
          3914.9399999999996,
          5080.688999999999,
          1830.7890000000002,
          3357.7799999999993,
          4573.584,
          5369.268999999999,
          3051.18,
          2420.2259999999997,
          2838.264,
          3846.78,
          4013.9940000000006,
          2677.98,
          1828.086,
          2961.1890000000003,
          3901.347,
          5935.9800000000005,
          1924.9110000000003,
          1929.0810000000001,
          2855.874,
          2822.706,
          1831.3380000000002,
          1928.0069999999998,
          1771.437,
          2231.277,
          5079.897,
          2677.3409999999994,
          4747.370999999999,
          4555.716,
          2184.06,
          1898.4810000000002,
          4294.266000000001,
          2957.7149999999997,
          3586.695,
          3776.7000000000003,
          3193.161,
          1881.0060000000003,
          4938.4619999999995,
          3207.1800000000003,
          4131.144,
          2433.9420000000005,
          3183.0749999999994,
          3325.6080000000006,
          2417.7569999999996,
          3835.6259999999997,
          3749.8290000000006,
          2158.446,
          2325.2400000000002,
          5651.894999999999,
          2044.278,
          2028.9119999999998,
          3166.5179999999996,
          3331.1340000000005,
          2823.8520000000008,
          2064.0660000000003,
          1810.7520000000002,
          2668.0800000000004
         ]
        },
        {
         "marker": {
          "color": "orange",
          "line": {
           "width": 1
          },
          "opacity": 0.9,
          "size": 11
         },
         "mode": "markers",
         "name": "High",
         "type": "scatter",
         "x": [
          40,
          47,
          45,
          36,
          48,
          50,
          46,
          42,
          51,
          43,
          52,
          41,
          40,
          52,
          52,
          32,
          52,
          52,
          30,
          52,
          48,
          38,
          42,
          50,
          29,
          48,
          42,
          37,
          42,
          45,
          47,
          45,
          43,
          41,
          42,
          35,
          48,
          51,
          32,
          30,
          37,
          48,
          44,
          45,
          46,
          51,
          40,
          48,
          46,
          48,
          42,
          47,
          43,
          51,
          52,
          40,
          36,
          50,
          38,
          49,
          40,
          50,
          37,
          48,
          46,
          37,
          36,
          50,
          46,
          46,
          46,
          35,
          39
         ],
         "y": [
          10515.862000000001,
          12596.294399999993,
          10758.988,
          7134.304000000001,
          11690.3695,
          11370.465219999998,
          10630.914899999996,
          12801.825879999995,
          11552.77814,
          7825.564600000001,
          10127.012660000002,
          13089.8495,
          13098.337999999994,
          9927.898319999998,
          7832.686019999999,
          11157.040399999998,
          11618.07552,
          10321.82,
          9356.779739999996,
          12686.03922,
          6805.941999999999,
          9640.381680000002,
          10917.0012,
          12448.899780000002,
          6918.482399999999,
          12325.286960000001,
          11321.2786,
          8677.598999999998,
          9974.274720000003,
          12896.252000000002,
          13057.2946,
          9689.3171,
          10981.230999999998,
          6942.403000000001,
          10085.79,
          11397.064840000001,
          11657.752999999997,
          13035.368260000001,
          10443.100100000003,
          6923.2494400000005,
          8189.785800000001,
          10168.32526,
          10887.2118,
          12721.248939999998,
          12075.397740000002,
          10637.40422,
          7677.435260000002,
          12917.6316,
          9578.59864,
          10547.631919999996,
          8770.73964,
          12560.130000000001,
          7090.956779999999,
          12910.87688,
          9532.916599999999,
          10607.6947,
          8370.783000000001,
          10961.631,
          9961.049999999997,
          11079.104880000003,
          10889.6997,
          9240.896999999999,
          8944.311,
          10932.97152,
          10118.841680000003,
          9111.8495,
          11054.378000000002,
          11685.3186,
          12589.959000000004,
          10201.2813,
          9927.835880000002,
          8969.439999999999,
          9637.154359999999
         ]
        },
        {
         "marker": {
          "color": "red",
          "line": {
           "width": 1
          },
          "opacity": 0.9,
          "size": 11
         },
         "mode": "markers",
         "name": "Most",
         "type": "scatter",
         "x": [
          79,
          61,
          54,
          60,
          58,
          63,
          54,
          60,
          75,
          61,
          60,
          85,
          70,
          58,
          90,
          70,
          70,
          59,
          69,
          73,
          61,
          55,
          75,
          67,
          55,
          69,
          66,
          58,
          70,
          71,
          89,
          54,
          68,
          79,
          81,
          65,
          57,
          60,
          97,
          56,
          63,
          55,
          54,
          60,
          68,
          59,
          62,
          66,
          65,
          58,
          77,
          72,
          60,
          68,
          64,
          54,
          62,
          58,
          57,
          63,
          65,
          58,
          62,
          65,
          62,
          58,
          72,
          58,
          65,
          60,
          66,
          70,
          58,
          68,
          53,
          59,
          59,
          59,
          61,
          54,
          73,
          53,
          65,
          64,
          69,
          71,
          53,
          63,
          65,
          74,
          61,
          64,
          60,
          55,
          59,
          54,
          71,
          75,
          72,
          72,
          68,
          55,
          68,
          76,
          54,
          85,
          53,
          57,
          67,
          53,
          83,
          57,
          56,
          79,
          62,
          70,
          65,
          59,
          66,
          54,
          68,
          70,
          79,
          67,
          59,
          74,
          84,
          71,
          59,
          60,
          59,
          84,
          57,
          63,
          63,
          54,
          62,
          59,
          65,
          64,
          54
         ],
         "y": [
          21507.291259999998,
          21051.05979999999,
          23476.911659999998,
          14063.489800000001,
          13725.5769,
          16336.855599999999,
          18703.606,
          19941.698119999997,
          20425.299599999995,
          15055.405180000003,
          19844.148659999995,
          25228.529479999987,
          27649.326520000002,
          16236.005799999995,
          22015.3862,
          18359.76861999999,
          16114.907500000003,
          14452.820620000004,
          20825.89199999999,
          15343.890699999993,
          13975.42408,
          14277.885359999993,
          17449.900119999995,
          22553.1085,
          13997.592560000001,
          16315.107900000003,
          16276.161119999999,
          17000.843319999993,
          17178.439399999992,
          17557.459499999994,
          23321.580000000005,
          22573.371160000002,
          18446.8529,
          16704.661200000006,
          26487.258500000007,
          17008.135879999994,
          13718.696659999994,
          22551.025959999995,
          25274.47020000001,
          13905.347119999999,
          17763.948239999994,
          19350.14634,
          16294.698100000001,
          15197.692699999998,
          20317.006699999994,
          14312.796199999995,
          18018.878999999997,
          14542.762279999995,
          18174.17176,
          14947.884019999996,
          20037.497499999998,
          16716.76171999999,
          16118.972199999993,
          21113.510700000003,
          17643.5253,
          15626.531799999999,
          15380.310059999996,
          22142.431140000004,
          19215.7699,
          19218.812979999995,
          18505.600500000008,
          13361.932579999993,
          18103.64108,
          28044.359500000002,
          13162.248900000002,
          13483.623679999999,
          13941.686199999996,
          20869.698999999997,
          16283.357739999996,
          16455.32732,
          19899.1474,
          23537.335000000003,
          14744.230880000003,
          22127.18112,
          15713.71812,
          34218.269,
          18305.9783,
          14674.001159999998,
          18099.3061,
          13708.122320000002,
          14789.447000000002,
          19852.773,
          19963.41,
          23347.838660000012,
          24527.029,
          25641.464919999995,
          18340.62916,
          14823.9685,
          13405.601299999998,
          34471.89027999999,
          16258.534,
          18109.86142,
          16573.5984,
          15376.031719999997,
          13973.777299999998,
          16487.190899999994,
          15614.215499999997,
          21918.736839999998,
          21884.184599999993,
          19113.6707,
          19493.76566000001,
          14064.011059999995,
          20138.603039999995,
          18158.460099999997,
          15009.286600000001,
          25570.494179999998,
          14537.796600000001,
          19862.575919999996,
          14415.338300000003,
          13366.531340000001,
          13625.207839999994,
          15785.377399999996,
          17199.202,
          22697.577280000005,
          18296.7474,
          20259.916000000005,
          35668.1208,
          17105.470699999998,
          15077.475679999998,
          13928.468299999999,
          24996.503099999998,
          16394.460639999998,
          27434.1676,
          14534.506179999997,
          18472.668900000004,
          22275.268900000006,
          17228.4977,
          16480.866180000005,
          16221.626799999996,
          19391.898099999995,
          15311.035600000001,
          28472.819259999993,
          15797.571879999998,
          20592.081299999994,
          16810.6866,
          18281.84948,
          22966.78,
          17613.4163,
          14709.698680000003,
          15009.472720000002,
          16362.895599999998
         ]
        }
       ],
       "layout": {
        "template": {
         "data": {
          "bar": [
           {
            "error_x": {
             "color": "#2a3f5f"
            },
            "error_y": {
             "color": "#2a3f5f"
            },
            "marker": {
             "line": {
              "color": "#E5ECF6",
              "width": 0.5
             }
            },
            "type": "bar"
           }
          ],
          "barpolar": [
           {
            "marker": {
             "line": {
              "color": "#E5ECF6",
              "width": 0.5
             }
            },
            "type": "barpolar"
           }
          ],
          "carpet": [
           {
            "aaxis": {
             "endlinecolor": "#2a3f5f",
             "gridcolor": "white",
             "linecolor": "white",
             "minorgridcolor": "white",
             "startlinecolor": "#2a3f5f"
            },
            "baxis": {
             "endlinecolor": "#2a3f5f",
             "gridcolor": "white",
             "linecolor": "white",
             "minorgridcolor": "white",
             "startlinecolor": "#2a3f5f"
            },
            "type": "carpet"
           }
          ],
          "choropleth": [
           {
            "colorbar": {
             "outlinewidth": 0,
             "ticks": ""
            },
            "type": "choropleth"
           }
          ],
          "contour": [
           {
            "colorbar": {
             "outlinewidth": 0,
             "ticks": ""
            },
            "colorscale": [
             [
              0,
              "#0d0887"
             ],
             [
              0.1111111111111111,
              "#46039f"
             ],
             [
              0.2222222222222222,
              "#7201a8"
             ],
             [
              0.3333333333333333,
              "#9c179e"
             ],
             [
              0.4444444444444444,
              "#bd3786"
             ],
             [
              0.5555555555555556,
              "#d8576b"
             ],
             [
              0.6666666666666666,
              "#ed7953"
             ],
             [
              0.7777777777777778,
              "#fb9f3a"
             ],
             [
              0.8888888888888888,
              "#fdca26"
             ],
             [
              1,
              "#f0f921"
             ]
            ],
            "type": "contour"
           }
          ],
          "contourcarpet": [
           {
            "colorbar": {
             "outlinewidth": 0,
             "ticks": ""
            },
            "type": "contourcarpet"
           }
          ],
          "heatmap": [
           {
            "colorbar": {
             "outlinewidth": 0,
             "ticks": ""
            },
            "colorscale": [
             [
              0,
              "#0d0887"
             ],
             [
              0.1111111111111111,
              "#46039f"
             ],
             [
              0.2222222222222222,
              "#7201a8"
             ],
             [
              0.3333333333333333,
              "#9c179e"
             ],
             [
              0.4444444444444444,
              "#bd3786"
             ],
             [
              0.5555555555555556,
              "#d8576b"
             ],
             [
              0.6666666666666666,
              "#ed7953"
             ],
             [
              0.7777777777777778,
              "#fb9f3a"
             ],
             [
              0.8888888888888888,
              "#fdca26"
             ],
             [
              1,
              "#f0f921"
             ]
            ],
            "type": "heatmap"
           }
          ],
          "heatmapgl": [
           {
            "colorbar": {
             "outlinewidth": 0,
             "ticks": ""
            },
            "colorscale": [
             [
              0,
              "#0d0887"
             ],
             [
              0.1111111111111111,
              "#46039f"
             ],
             [
              0.2222222222222222,
              "#7201a8"
             ],
             [
              0.3333333333333333,
              "#9c179e"
             ],
             [
              0.4444444444444444,
              "#bd3786"
             ],
             [
              0.5555555555555556,
              "#d8576b"
             ],
             [
              0.6666666666666666,
              "#ed7953"
             ],
             [
              0.7777777777777778,
              "#fb9f3a"
             ],
             [
              0.8888888888888888,
              "#fdca26"
             ],
             [
              1,
              "#f0f921"
             ]
            ],
            "type": "heatmapgl"
           }
          ],
          "histogram": [
           {
            "marker": {
             "colorbar": {
              "outlinewidth": 0,
              "ticks": ""
             }
            },
            "type": "histogram"
           }
          ],
          "histogram2d": [
           {
            "colorbar": {
             "outlinewidth": 0,
             "ticks": ""
            },
            "colorscale": [
             [
              0,
              "#0d0887"
             ],
             [
              0.1111111111111111,
              "#46039f"
             ],
             [
              0.2222222222222222,
              "#7201a8"
             ],
             [
              0.3333333333333333,
              "#9c179e"
             ],
             [
              0.4444444444444444,
              "#bd3786"
             ],
             [
              0.5555555555555556,
              "#d8576b"
             ],
             [
              0.6666666666666666,
              "#ed7953"
             ],
             [
              0.7777777777777778,
              "#fb9f3a"
             ],
             [
              0.8888888888888888,
              "#fdca26"
             ],
             [
              1,
              "#f0f921"
             ]
            ],
            "type": "histogram2d"
           }
          ],
          "histogram2dcontour": [
           {
            "colorbar": {
             "outlinewidth": 0,
             "ticks": ""
            },
            "colorscale": [
             [
              0,
              "#0d0887"
             ],
             [
              0.1111111111111111,
              "#46039f"
             ],
             [
              0.2222222222222222,
              "#7201a8"
             ],
             [
              0.3333333333333333,
              "#9c179e"
             ],
             [
              0.4444444444444444,
              "#bd3786"
             ],
             [
              0.5555555555555556,
              "#d8576b"
             ],
             [
              0.6666666666666666,
              "#ed7953"
             ],
             [
              0.7777777777777778,
              "#fb9f3a"
             ],
             [
              0.8888888888888888,
              "#fdca26"
             ],
             [
              1,
              "#f0f921"
             ]
            ],
            "type": "histogram2dcontour"
           }
          ],
          "mesh3d": [
           {
            "colorbar": {
             "outlinewidth": 0,
             "ticks": ""
            },
            "type": "mesh3d"
           }
          ],
          "parcoords": [
           {
            "line": {
             "colorbar": {
              "outlinewidth": 0,
              "ticks": ""
             }
            },
            "type": "parcoords"
           }
          ],
          "pie": [
           {
            "automargin": true,
            "type": "pie"
           }
          ],
          "scatter": [
           {
            "marker": {
             "colorbar": {
              "outlinewidth": 0,
              "ticks": ""
             }
            },
            "type": "scatter"
           }
          ],
          "scatter3d": [
           {
            "line": {
             "colorbar": {
              "outlinewidth": 0,
              "ticks": ""
             }
            },
            "marker": {
             "colorbar": {
              "outlinewidth": 0,
              "ticks": ""
             }
            },
            "type": "scatter3d"
           }
          ],
          "scattercarpet": [
           {
            "marker": {
             "colorbar": {
              "outlinewidth": 0,
              "ticks": ""
             }
            },
            "type": "scattercarpet"
           }
          ],
          "scattergeo": [
           {
            "marker": {
             "colorbar": {
              "outlinewidth": 0,
              "ticks": ""
             }
            },
            "type": "scattergeo"
           }
          ],
          "scattergl": [
           {
            "marker": {
             "colorbar": {
              "outlinewidth": 0,
              "ticks": ""
             }
            },
            "type": "scattergl"
           }
          ],
          "scattermapbox": [
           {
            "marker": {
             "colorbar": {
              "outlinewidth": 0,
              "ticks": ""
             }
            },
            "type": "scattermapbox"
           }
          ],
          "scatterpolar": [
           {
            "marker": {
             "colorbar": {
              "outlinewidth": 0,
              "ticks": ""
             }
            },
            "type": "scatterpolar"
           }
          ],
          "scatterpolargl": [
           {
            "marker": {
             "colorbar": {
              "outlinewidth": 0,
              "ticks": ""
             }
            },
            "type": "scatterpolargl"
           }
          ],
          "scatterternary": [
           {
            "marker": {
             "colorbar": {
              "outlinewidth": 0,
              "ticks": ""
             }
            },
            "type": "scatterternary"
           }
          ],
          "surface": [
           {
            "colorbar": {
             "outlinewidth": 0,
             "ticks": ""
            },
            "colorscale": [
             [
              0,
              "#0d0887"
             ],
             [
              0.1111111111111111,
              "#46039f"
             ],
             [
              0.2222222222222222,
              "#7201a8"
             ],
             [
              0.3333333333333333,
              "#9c179e"
             ],
             [
              0.4444444444444444,
              "#bd3786"
             ],
             [
              0.5555555555555556,
              "#d8576b"
             ],
             [
              0.6666666666666666,
              "#ed7953"
             ],
             [
              0.7777777777777778,
              "#fb9f3a"
             ],
             [
              0.8888888888888888,
              "#fdca26"
             ],
             [
              1,
              "#f0f921"
             ]
            ],
            "type": "surface"
           }
          ],
          "table": [
           {
            "cells": {
             "fill": {
              "color": "#EBF0F8"
             },
             "line": {
              "color": "white"
             }
            },
            "header": {
             "fill": {
              "color": "#C8D4E3"
             },
             "line": {
              "color": "white"
             }
            },
            "type": "table"
           }
          ]
         },
         "layout": {
          "annotationdefaults": {
           "arrowcolor": "#2a3f5f",
           "arrowhead": 0,
           "arrowwidth": 1
          },
          "coloraxis": {
           "colorbar": {
            "outlinewidth": 0,
            "ticks": ""
           }
          },
          "colorscale": {
           "diverging": [
            [
             0,
             "#8e0152"
            ],
            [
             0.1,
             "#c51b7d"
            ],
            [
             0.2,
             "#de77ae"
            ],
            [
             0.3,
             "#f1b6da"
            ],
            [
             0.4,
             "#fde0ef"
            ],
            [
             0.5,
             "#f7f7f7"
            ],
            [
             0.6,
             "#e6f5d0"
            ],
            [
             0.7,
             "#b8e186"
            ],
            [
             0.8,
             "#7fbc41"
            ],
            [
             0.9,
             "#4d9221"
            ],
            [
             1,
             "#276419"
            ]
           ],
           "sequential": [
            [
             0,
             "#0d0887"
            ],
            [
             0.1111111111111111,
             "#46039f"
            ],
            [
             0.2222222222222222,
             "#7201a8"
            ],
            [
             0.3333333333333333,
             "#9c179e"
            ],
            [
             0.4444444444444444,
             "#bd3786"
            ],
            [
             0.5555555555555556,
             "#d8576b"
            ],
            [
             0.6666666666666666,
             "#ed7953"
            ],
            [
             0.7777777777777778,
             "#fb9f3a"
            ],
            [
             0.8888888888888888,
             "#fdca26"
            ],
            [
             1,
             "#f0f921"
            ]
           ],
           "sequentialminus": [
            [
             0,
             "#0d0887"
            ],
            [
             0.1111111111111111,
             "#46039f"
            ],
            [
             0.2222222222222222,
             "#7201a8"
            ],
            [
             0.3333333333333333,
             "#9c179e"
            ],
            [
             0.4444444444444444,
             "#bd3786"
            ],
            [
             0.5555555555555556,
             "#d8576b"
            ],
            [
             0.6666666666666666,
             "#ed7953"
            ],
            [
             0.7777777777777778,
             "#fb9f3a"
            ],
            [
             0.8888888888888888,
             "#fdca26"
            ],
            [
             1,
             "#f0f921"
            ]
           ]
          },
          "colorway": [
           "#636efa",
           "#EF553B",
           "#00cc96",
           "#ab63fa",
           "#FFA15A",
           "#19d3f3",
           "#FF6692",
           "#B6E880",
           "#FF97FF",
           "#FECB52"
          ],
          "font": {
           "color": "#2a3f5f"
          },
          "geo": {
           "bgcolor": "white",
           "lakecolor": "white",
           "landcolor": "#E5ECF6",
           "showlakes": true,
           "showland": true,
           "subunitcolor": "white"
          },
          "hoverlabel": {
           "align": "left"
          },
          "hovermode": "closest",
          "mapbox": {
           "style": "light"
          },
          "paper_bgcolor": "white",
          "plot_bgcolor": "#E5ECF6",
          "polar": {
           "angularaxis": {
            "gridcolor": "white",
            "linecolor": "white",
            "ticks": ""
           },
           "bgcolor": "#E5ECF6",
           "radialaxis": {
            "gridcolor": "white",
            "linecolor": "white",
            "ticks": ""
           }
          },
          "scene": {
           "xaxis": {
            "backgroundcolor": "#E5ECF6",
            "gridcolor": "white",
            "gridwidth": 2,
            "linecolor": "white",
            "showbackground": true,
            "ticks": "",
            "zerolinecolor": "white"
           },
           "yaxis": {
            "backgroundcolor": "#E5ECF6",
            "gridcolor": "white",
            "gridwidth": 2,
            "linecolor": "white",
            "showbackground": true,
            "ticks": "",
            "zerolinecolor": "white"
           },
           "zaxis": {
            "backgroundcolor": "#E5ECF6",
            "gridcolor": "white",
            "gridwidth": 2,
            "linecolor": "white",
            "showbackground": true,
            "ticks": "",
            "zerolinecolor": "white"
           }
          },
          "shapedefaults": {
           "line": {
            "color": "#2a3f5f"
           }
          },
          "ternary": {
           "aaxis": {
            "gridcolor": "white",
            "linecolor": "white",
            "ticks": ""
           },
           "baxis": {
            "gridcolor": "white",
            "linecolor": "white",
            "ticks": ""
           },
           "bgcolor": "#E5ECF6",
           "caxis": {
            "gridcolor": "white",
            "linecolor": "white",
            "ticks": ""
           }
          },
          "title": {
           "x": 0.05
          },
          "xaxis": {
           "automargin": true,
           "gridcolor": "white",
           "linecolor": "white",
           "ticks": "",
           "title": {
            "standoff": 15
           },
           "zerolinecolor": "white",
           "zerolinewidth": 2
          },
          "yaxis": {
           "automargin": true,
           "gridcolor": "white",
           "linecolor": "white",
           "ticks": "",
           "title": {
            "standoff": 15
           },
           "zerolinecolor": "white",
           "zerolinewidth": 2
          }
         }
        },
        "title": {
         "text": "Frequent customers generate most revenue"
        },
        "xaxis": {
         "title": {
          "text": "Frequency"
         }
        },
        "yaxis": {
         "title": {
          "text": "Monetary"
         }
        }
       }
      },
      "text/html": [
       "<div>                            <div id=\"70fd6a5b-fc43-4864-b069-40ed1e4ff431\" class=\"plotly-graph-div\" style=\"height:525px; width:100%;\"></div>            <script type=\"text/javascript\">                require([\"plotly\"], function(Plotly) {                    window.PLOTLYENV=window.PLOTLYENV || {};                                    if (document.getElementById(\"70fd6a5b-fc43-4864-b069-40ed1e4ff431\")) {                    Plotly.newPlot(                        \"70fd6a5b-fc43-4864-b069-40ed1e4ff431\",                        [{\"marker\": {\"color\": \"blue\", \"line\": {\"width\": 1}, \"opacity\": 0.8, \"size\": 7}, \"mode\": \"markers\", \"name\": \"Low\", \"type\": \"scatter\", \"x\": [6, 5, 5, 6, 11, 9, 8, 3, 3, 11, 11, 6, 12, 8, 11, 12, 9, 8, 5, 7, 7, 7, 9, 4, 6, 5, 12, 7, 11, 10, 11, 8, 10, 5, 9, 9, 5, 4, 6, 4, 11, 11, 8, 11, 7, 10, 10, 10, 12, 11, 10, 11, 10, 8, 6, 12, 12, 7, 12, 11, 5, 5, 4, 2, 12, 6, 9, 9, 6, 3, 8, 9, 3, 8, 7, 7, 8, 8, 2, 4, 7, 10, 10, 7, 10, 4, 3, 11, 5, 9, 8, 7, 9, 10, 7, 1, 6, 10, 8, 10, 6, 5, 8, 6, 10, 6, 6, 9, 1, 7, 7, 6, 6, 6, 7, 5, 5, 4, 11, 11, 9, 5, 10, 8, 10, 10, 5, 8, 8, 6, 7, 11, 3, 11, 11, 12, 5, 11, 7, 10, 6, 6, 4, 9, 3, 3, 10, 1, 5, 5, 10, 4, 8, 12, 5, 4, 3, 8, 10, 6, 3, 5, 4, 1, 2, 8, 6], \"y\": [403.65, 1432.986, 182.53199999999998, 431.874, 1535.7809999999997, 831.498, 180.3, 161.91, 442.32000000000005, 939.1529999999998, 999.6990000000001, 952.536, 1433.4000000000003, 819.45, 606.105, 560.745, 468.654, 1556.16, 424.53, 636.06, 650.826, 435.20399999999995, 1049.52, 208.41000000000003, 184.872, 1232.568, 1485.897, 1636.5119999999997, 1323.0720000000001, 473.11199999999997, 1110.7799999999997, 684.264, 488.85, 166.29899999999998, 361.686, 476.33399999999995, 580.614, 714.417, 129.03, 659.3399999999999, 1517.5500000000002, 1241.226, 1617.6000000000001, 1429.296, 291.564, 1503.426, 919.9740000000002, 1246.56, 756.855, 1160.43, 1026.597, 1424.7779999999998, 1174.824, 747.21, 745.6500000000001, 571.722, 586.761, 1451.49, 695.2860000000001, 1507.758, 556.314, 933.192, 318.72, 548.682, 1256.4720000000002, 689.64, 609.3000000000001, 1554.06, 328.584, 422.778, 1020.0480000000001, 948.4559999999999, 58.11, 1478.0819999999999, 469.45799999999997, 403.014, 896.391, 1628.166, 813.0600000000001, 251.322, 1573.038, 847.8269999999999, 1524.1499999999999, 1656.9660000000001, 992.784, 221.61, 454.06800000000004, 914.1779999999999, 1340.31, 1460.796, 1131.912, 281.208, 1261.449, 567.093, 487.94999999999993, 160.5, 1011.798, 782.0550000000001, 1115.37, 1374.1979999999999, 428.43, 1497.5700000000002, 1321.1490000000001, 579.336, 1116.2039999999997, 782.3879999999999, 836.9939999999999, 1615.662, 124.416, 700.692, 752.07, 622.452, 814.5720000000001, 1639.9650000000001, 488.42999999999995, 1367.268, 188.544, 300.666, 1260.702, 1350.03, 432.0, 461.87399999999997, 780.3779999999998, 950.13, 1631.3160000000003, 829.356, 391.93800000000005, 398.91900000000004, 525.9, 671.232, 613.7099999999999, 1033.2900000000002, 187.35, 1216.587, 1365.54, 1500.5880000000002, 113.064, 1468.8990000000003, 243.03000000000003, 943.26, 185.13599999999997, 354.99, 203.38799999999998, 387.051, 131.808, 1572.33, 886.23, 7.172999999999999, 420.66, 208.38000000000002, 1664.13, 223.56, 658.98, 1601.73, 1041.5700000000002, 307.8, 273.768, 1164.1499999999999, 773.604, 404.50800000000004, 205.98, 1159.3500000000001, 641.6460000000001, 301.71, 80.19, 662.28, 1540.5299999999997]}, {\"marker\": {\"color\": \"green\", \"line\": {\"width\": 1}, \"opacity\": 0.5, \"size\": 9}, \"mode\": \"markers\", \"name\": \"Mid\", \"type\": \"scatter\", \"x\": [26, 15, 24, 13, 17, 15, 25, 19, 21, 14, 22, 18, 15, 21, 21, 15, 14, 25, 14, 17, 14, 16, 18, 26, 16, 15, 13, 15, 18, 18, 18, 21, 22, 21, 17, 16, 15, 13, 13, 17, 18, 26, 23, 15, 22, 15, 24, 16, 18, 27, 19, 18, 22, 16, 24, 21, 18, 15, 21, 19, 18, 20, 16, 14, 20, 19, 17, 13, 21, 17, 13, 14, 17, 18], \"y\": [5154.83976, 4860.924000000001, 2987.8979999999997, 2870.6760000000004, 4550.322, 3179.1539999999995, 6134.987999999999, 3991.5209999999997, 1869.7709999999997, 3105.816, 4629.155999999999, 2395.716, 3709.8810000000008, 5689.263, 3294.018, 2093.6099999999997, 2513.07, 6018.071999999999, 3914.9399999999996, 5080.688999999999, 1830.7890000000002, 3357.7799999999993, 4573.584, 5369.268999999999, 3051.18, 2420.2259999999997, 2838.264, 3846.78, 4013.9940000000006, 2677.98, 1828.086, 2961.1890000000003, 3901.347, 5935.9800000000005, 1924.9110000000003, 1929.0810000000001, 2855.874, 2822.706, 1831.3380000000002, 1928.0069999999998, 1771.437, 2231.277, 5079.897, 2677.3409999999994, 4747.370999999999, 4555.716, 2184.06, 1898.4810000000002, 4294.266000000001, 2957.7149999999997, 3586.695, 3776.7000000000003, 3193.161, 1881.0060000000003, 4938.4619999999995, 3207.1800000000003, 4131.144, 2433.9420000000005, 3183.0749999999994, 3325.6080000000006, 2417.7569999999996, 3835.6259999999997, 3749.8290000000006, 2158.446, 2325.2400000000002, 5651.894999999999, 2044.278, 2028.9119999999998, 3166.5179999999996, 3331.1340000000005, 2823.8520000000008, 2064.0660000000003, 1810.7520000000002, 2668.0800000000004]}, {\"marker\": {\"color\": \"orange\", \"line\": {\"width\": 1}, \"opacity\": 0.9, \"size\": 11}, \"mode\": \"markers\", \"name\": \"High\", \"type\": \"scatter\", \"x\": [40, 47, 45, 36, 48, 50, 46, 42, 51, 43, 52, 41, 40, 52, 52, 32, 52, 52, 30, 52, 48, 38, 42, 50, 29, 48, 42, 37, 42, 45, 47, 45, 43, 41, 42, 35, 48, 51, 32, 30, 37, 48, 44, 45, 46, 51, 40, 48, 46, 48, 42, 47, 43, 51, 52, 40, 36, 50, 38, 49, 40, 50, 37, 48, 46, 37, 36, 50, 46, 46, 46, 35, 39], \"y\": [10515.862000000001, 12596.294399999993, 10758.988, 7134.304000000001, 11690.3695, 11370.465219999998, 10630.914899999996, 12801.825879999995, 11552.77814, 7825.564600000001, 10127.012660000002, 13089.8495, 13098.337999999994, 9927.898319999998, 7832.686019999999, 11157.040399999998, 11618.07552, 10321.82, 9356.779739999996, 12686.03922, 6805.941999999999, 9640.381680000002, 10917.0012, 12448.899780000002, 6918.482399999999, 12325.286960000001, 11321.2786, 8677.598999999998, 9974.274720000003, 12896.252000000002, 13057.2946, 9689.3171, 10981.230999999998, 6942.403000000001, 10085.79, 11397.064840000001, 11657.752999999997, 13035.368260000001, 10443.100100000003, 6923.2494400000005, 8189.785800000001, 10168.32526, 10887.2118, 12721.248939999998, 12075.397740000002, 10637.40422, 7677.435260000002, 12917.6316, 9578.59864, 10547.631919999996, 8770.73964, 12560.130000000001, 7090.956779999999, 12910.87688, 9532.916599999999, 10607.6947, 8370.783000000001, 10961.631, 9961.049999999997, 11079.104880000003, 10889.6997, 9240.896999999999, 8944.311, 10932.97152, 10118.841680000003, 9111.8495, 11054.378000000002, 11685.3186, 12589.959000000004, 10201.2813, 9927.835880000002, 8969.439999999999, 9637.154359999999]}, {\"marker\": {\"color\": \"red\", \"line\": {\"width\": 1}, \"opacity\": 0.9, \"size\": 11}, \"mode\": \"markers\", \"name\": \"Most\", \"type\": \"scatter\", \"x\": [79, 61, 54, 60, 58, 63, 54, 60, 75, 61, 60, 85, 70, 58, 90, 70, 70, 59, 69, 73, 61, 55, 75, 67, 55, 69, 66, 58, 70, 71, 89, 54, 68, 79, 81, 65, 57, 60, 97, 56, 63, 55, 54, 60, 68, 59, 62, 66, 65, 58, 77, 72, 60, 68, 64, 54, 62, 58, 57, 63, 65, 58, 62, 65, 62, 58, 72, 58, 65, 60, 66, 70, 58, 68, 53, 59, 59, 59, 61, 54, 73, 53, 65, 64, 69, 71, 53, 63, 65, 74, 61, 64, 60, 55, 59, 54, 71, 75, 72, 72, 68, 55, 68, 76, 54, 85, 53, 57, 67, 53, 83, 57, 56, 79, 62, 70, 65, 59, 66, 54, 68, 70, 79, 67, 59, 74, 84, 71, 59, 60, 59, 84, 57, 63, 63, 54, 62, 59, 65, 64, 54], \"y\": [21507.291259999998, 21051.05979999999, 23476.911659999998, 14063.489800000001, 13725.5769, 16336.855599999999, 18703.606, 19941.698119999997, 20425.299599999995, 15055.405180000003, 19844.148659999995, 25228.529479999987, 27649.326520000002, 16236.005799999995, 22015.3862, 18359.76861999999, 16114.907500000003, 14452.820620000004, 20825.89199999999, 15343.890699999993, 13975.42408, 14277.885359999993, 17449.900119999995, 22553.1085, 13997.592560000001, 16315.107900000003, 16276.161119999999, 17000.843319999993, 17178.439399999992, 17557.459499999994, 23321.580000000005, 22573.371160000002, 18446.8529, 16704.661200000006, 26487.258500000007, 17008.135879999994, 13718.696659999994, 22551.025959999995, 25274.47020000001, 13905.347119999999, 17763.948239999994, 19350.14634, 16294.698100000001, 15197.692699999998, 20317.006699999994, 14312.796199999995, 18018.878999999997, 14542.762279999995, 18174.17176, 14947.884019999996, 20037.497499999998, 16716.76171999999, 16118.972199999993, 21113.510700000003, 17643.5253, 15626.531799999999, 15380.310059999996, 22142.431140000004, 19215.7699, 19218.812979999995, 18505.600500000008, 13361.932579999993, 18103.64108, 28044.359500000002, 13162.248900000002, 13483.623679999999, 13941.686199999996, 20869.698999999997, 16283.357739999996, 16455.32732, 19899.1474, 23537.335000000003, 14744.230880000003, 22127.18112, 15713.71812, 34218.269, 18305.9783, 14674.001159999998, 18099.3061, 13708.122320000002, 14789.447000000002, 19852.773, 19963.41, 23347.838660000012, 24527.029, 25641.464919999995, 18340.62916, 14823.9685, 13405.601299999998, 34471.89027999999, 16258.534, 18109.86142, 16573.5984, 15376.031719999997, 13973.777299999998, 16487.190899999994, 15614.215499999997, 21918.736839999998, 21884.184599999993, 19113.6707, 19493.76566000001, 14064.011059999995, 20138.603039999995, 18158.460099999997, 15009.286600000001, 25570.494179999998, 14537.796600000001, 19862.575919999996, 14415.338300000003, 13366.531340000001, 13625.207839999994, 15785.377399999996, 17199.202, 22697.577280000005, 18296.7474, 20259.916000000005, 35668.1208, 17105.470699999998, 15077.475679999998, 13928.468299999999, 24996.503099999998, 16394.460639999998, 27434.1676, 14534.506179999997, 18472.668900000004, 22275.268900000006, 17228.4977, 16480.866180000005, 16221.626799999996, 19391.898099999995, 15311.035600000001, 28472.819259999993, 15797.571879999998, 20592.081299999994, 16810.6866, 18281.84948, 22966.78, 17613.4163, 14709.698680000003, 15009.472720000002, 16362.895599999998]}],                        {\"template\": {\"data\": {\"bar\": [{\"error_x\": {\"color\": \"#2a3f5f\"}, \"error_y\": {\"color\": \"#2a3f5f\"}, \"marker\": {\"line\": {\"color\": \"#E5ECF6\", \"width\": 0.5}}, \"type\": \"bar\"}], \"barpolar\": [{\"marker\": {\"line\": {\"color\": \"#E5ECF6\", \"width\": 0.5}}, \"type\": \"barpolar\"}], \"carpet\": [{\"aaxis\": {\"endlinecolor\": \"#2a3f5f\", \"gridcolor\": \"white\", \"linecolor\": \"white\", \"minorgridcolor\": \"white\", \"startlinecolor\": \"#2a3f5f\"}, \"baxis\": {\"endlinecolor\": \"#2a3f5f\", \"gridcolor\": \"white\", \"linecolor\": \"white\", \"minorgridcolor\": \"white\", \"startlinecolor\": \"#2a3f5f\"}, \"type\": \"carpet\"}], \"choropleth\": [{\"colorbar\": {\"outlinewidth\": 0, \"ticks\": \"\"}, \"type\": \"choropleth\"}], \"contour\": [{\"colorbar\": {\"outlinewidth\": 0, \"ticks\": \"\"}, \"colorscale\": [[0.0, \"#0d0887\"], [0.1111111111111111, \"#46039f\"], [0.2222222222222222, \"#7201a8\"], [0.3333333333333333, \"#9c179e\"], [0.4444444444444444, \"#bd3786\"], [0.5555555555555556, \"#d8576b\"], [0.6666666666666666, \"#ed7953\"], [0.7777777777777778, \"#fb9f3a\"], [0.8888888888888888, \"#fdca26\"], [1.0, \"#f0f921\"]], \"type\": \"contour\"}], \"contourcarpet\": [{\"colorbar\": {\"outlinewidth\": 0, \"ticks\": \"\"}, \"type\": \"contourcarpet\"}], \"heatmap\": [{\"colorbar\": {\"outlinewidth\": 0, \"ticks\": \"\"}, \"colorscale\": [[0.0, \"#0d0887\"], [0.1111111111111111, \"#46039f\"], [0.2222222222222222, \"#7201a8\"], [0.3333333333333333, \"#9c179e\"], [0.4444444444444444, \"#bd3786\"], [0.5555555555555556, \"#d8576b\"], [0.6666666666666666, \"#ed7953\"], [0.7777777777777778, \"#fb9f3a\"], [0.8888888888888888, \"#fdca26\"], [1.0, \"#f0f921\"]], \"type\": \"heatmap\"}], \"heatmapgl\": [{\"colorbar\": {\"outlinewidth\": 0, \"ticks\": \"\"}, \"colorscale\": [[0.0, \"#0d0887\"], [0.1111111111111111, \"#46039f\"], [0.2222222222222222, \"#7201a8\"], [0.3333333333333333, \"#9c179e\"], [0.4444444444444444, \"#bd3786\"], [0.5555555555555556, \"#d8576b\"], [0.6666666666666666, \"#ed7953\"], [0.7777777777777778, \"#fb9f3a\"], [0.8888888888888888, \"#fdca26\"], [1.0, \"#f0f921\"]], \"type\": \"heatmapgl\"}], \"histogram\": [{\"marker\": {\"colorbar\": {\"outlinewidth\": 0, \"ticks\": \"\"}}, \"type\": \"histogram\"}], \"histogram2d\": [{\"colorbar\": {\"outlinewidth\": 0, \"ticks\": \"\"}, \"colorscale\": [[0.0, \"#0d0887\"], [0.1111111111111111, \"#46039f\"], [0.2222222222222222, \"#7201a8\"], [0.3333333333333333, \"#9c179e\"], [0.4444444444444444, \"#bd3786\"], [0.5555555555555556, \"#d8576b\"], [0.6666666666666666, \"#ed7953\"], [0.7777777777777778, \"#fb9f3a\"], [0.8888888888888888, \"#fdca26\"], [1.0, \"#f0f921\"]], \"type\": \"histogram2d\"}], \"histogram2dcontour\": [{\"colorbar\": {\"outlinewidth\": 0, \"ticks\": \"\"}, \"colorscale\": [[0.0, \"#0d0887\"], [0.1111111111111111, \"#46039f\"], [0.2222222222222222, \"#7201a8\"], [0.3333333333333333, \"#9c179e\"], [0.4444444444444444, \"#bd3786\"], [0.5555555555555556, \"#d8576b\"], [0.6666666666666666, \"#ed7953\"], [0.7777777777777778, \"#fb9f3a\"], [0.8888888888888888, \"#fdca26\"], [1.0, \"#f0f921\"]], \"type\": \"histogram2dcontour\"}], \"mesh3d\": [{\"colorbar\": {\"outlinewidth\": 0, \"ticks\": \"\"}, \"type\": \"mesh3d\"}], \"parcoords\": [{\"line\": {\"colorbar\": {\"outlinewidth\": 0, \"ticks\": \"\"}}, \"type\": \"parcoords\"}], \"pie\": [{\"automargin\": true, \"type\": \"pie\"}], \"scatter\": [{\"marker\": {\"colorbar\": {\"outlinewidth\": 0, \"ticks\": \"\"}}, \"type\": \"scatter\"}], \"scatter3d\": [{\"line\": {\"colorbar\": {\"outlinewidth\": 0, \"ticks\": \"\"}}, \"marker\": {\"colorbar\": {\"outlinewidth\": 0, \"ticks\": \"\"}}, \"type\": \"scatter3d\"}], \"scattercarpet\": [{\"marker\": {\"colorbar\": {\"outlinewidth\": 0, \"ticks\": \"\"}}, \"type\": \"scattercarpet\"}], \"scattergeo\": [{\"marker\": {\"colorbar\": {\"outlinewidth\": 0, \"ticks\": \"\"}}, \"type\": \"scattergeo\"}], \"scattergl\": [{\"marker\": {\"colorbar\": {\"outlinewidth\": 0, \"ticks\": \"\"}}, \"type\": \"scattergl\"}], \"scattermapbox\": [{\"marker\": {\"colorbar\": {\"outlinewidth\": 0, \"ticks\": \"\"}}, \"type\": \"scattermapbox\"}], \"scatterpolar\": [{\"marker\": {\"colorbar\": {\"outlinewidth\": 0, \"ticks\": \"\"}}, \"type\": \"scatterpolar\"}], \"scatterpolargl\": [{\"marker\": {\"colorbar\": {\"outlinewidth\": 0, \"ticks\": \"\"}}, \"type\": \"scatterpolargl\"}], \"scatterternary\": [{\"marker\": {\"colorbar\": {\"outlinewidth\": 0, \"ticks\": \"\"}}, \"type\": \"scatterternary\"}], \"surface\": [{\"colorbar\": {\"outlinewidth\": 0, \"ticks\": \"\"}, \"colorscale\": [[0.0, \"#0d0887\"], [0.1111111111111111, \"#46039f\"], [0.2222222222222222, \"#7201a8\"], [0.3333333333333333, \"#9c179e\"], [0.4444444444444444, \"#bd3786\"], [0.5555555555555556, \"#d8576b\"], [0.6666666666666666, \"#ed7953\"], [0.7777777777777778, \"#fb9f3a\"], [0.8888888888888888, \"#fdca26\"], [1.0, \"#f0f921\"]], \"type\": \"surface\"}], \"table\": [{\"cells\": {\"fill\": {\"color\": \"#EBF0F8\"}, \"line\": {\"color\": \"white\"}}, \"header\": {\"fill\": {\"color\": \"#C8D4E3\"}, \"line\": {\"color\": \"white\"}}, \"type\": \"table\"}]}, \"layout\": {\"annotationdefaults\": {\"arrowcolor\": \"#2a3f5f\", \"arrowhead\": 0, \"arrowwidth\": 1}, \"coloraxis\": {\"colorbar\": {\"outlinewidth\": 0, \"ticks\": \"\"}}, \"colorscale\": {\"diverging\": [[0, \"#8e0152\"], [0.1, \"#c51b7d\"], [0.2, \"#de77ae\"], [0.3, \"#f1b6da\"], [0.4, \"#fde0ef\"], [0.5, \"#f7f7f7\"], [0.6, \"#e6f5d0\"], [0.7, \"#b8e186\"], [0.8, \"#7fbc41\"], [0.9, \"#4d9221\"], [1, \"#276419\"]], \"sequential\": [[0.0, \"#0d0887\"], [0.1111111111111111, \"#46039f\"], [0.2222222222222222, \"#7201a8\"], [0.3333333333333333, \"#9c179e\"], [0.4444444444444444, \"#bd3786\"], [0.5555555555555556, \"#d8576b\"], [0.6666666666666666, \"#ed7953\"], [0.7777777777777778, \"#fb9f3a\"], [0.8888888888888888, \"#fdca26\"], [1.0, \"#f0f921\"]], \"sequentialminus\": [[0.0, \"#0d0887\"], [0.1111111111111111, \"#46039f\"], [0.2222222222222222, \"#7201a8\"], [0.3333333333333333, \"#9c179e\"], [0.4444444444444444, \"#bd3786\"], [0.5555555555555556, \"#d8576b\"], [0.6666666666666666, \"#ed7953\"], [0.7777777777777778, \"#fb9f3a\"], [0.8888888888888888, \"#fdca26\"], [1.0, \"#f0f921\"]]}, \"colorway\": [\"#636efa\", \"#EF553B\", \"#00cc96\", \"#ab63fa\", \"#FFA15A\", \"#19d3f3\", \"#FF6692\", \"#B6E880\", \"#FF97FF\", \"#FECB52\"], \"font\": {\"color\": \"#2a3f5f\"}, \"geo\": {\"bgcolor\": \"white\", \"lakecolor\": \"white\", \"landcolor\": \"#E5ECF6\", \"showlakes\": true, \"showland\": true, \"subunitcolor\": \"white\"}, \"hoverlabel\": {\"align\": \"left\"}, \"hovermode\": \"closest\", \"mapbox\": {\"style\": \"light\"}, \"paper_bgcolor\": \"white\", \"plot_bgcolor\": \"#E5ECF6\", \"polar\": {\"angularaxis\": {\"gridcolor\": \"white\", \"linecolor\": \"white\", \"ticks\": \"\"}, \"bgcolor\": \"#E5ECF6\", \"radialaxis\": {\"gridcolor\": \"white\", \"linecolor\": \"white\", \"ticks\": \"\"}}, \"scene\": {\"xaxis\": {\"backgroundcolor\": \"#E5ECF6\", \"gridcolor\": \"white\", \"gridwidth\": 2, \"linecolor\": \"white\", \"showbackground\": true, \"ticks\": \"\", \"zerolinecolor\": \"white\"}, \"yaxis\": {\"backgroundcolor\": \"#E5ECF6\", \"gridcolor\": \"white\", \"gridwidth\": 2, \"linecolor\": \"white\", \"showbackground\": true, \"ticks\": \"\", \"zerolinecolor\": \"white\"}, \"zaxis\": {\"backgroundcolor\": \"#E5ECF6\", \"gridcolor\": \"white\", \"gridwidth\": 2, \"linecolor\": \"white\", \"showbackground\": true, \"ticks\": \"\", \"zerolinecolor\": \"white\"}}, \"shapedefaults\": {\"line\": {\"color\": \"#2a3f5f\"}}, \"ternary\": {\"aaxis\": {\"gridcolor\": \"white\", \"linecolor\": \"white\", \"ticks\": \"\"}, \"baxis\": {\"gridcolor\": \"white\", \"linecolor\": \"white\", \"ticks\": \"\"}, \"bgcolor\": \"#E5ECF6\", \"caxis\": {\"gridcolor\": \"white\", \"linecolor\": \"white\", \"ticks\": \"\"}}, \"title\": {\"x\": 0.05}, \"xaxis\": {\"automargin\": true, \"gridcolor\": \"white\", \"linecolor\": \"white\", \"ticks\": \"\", \"title\": {\"standoff\": 15}, \"zerolinecolor\": \"white\", \"zerolinewidth\": 2}, \"yaxis\": {\"automargin\": true, \"gridcolor\": \"white\", \"linecolor\": \"white\", \"ticks\": \"\", \"title\": {\"standoff\": 15}, \"zerolinecolor\": \"white\", \"zerolinewidth\": 2}}}, \"title\": {\"text\": \"Frequent customers generate most revenue\"}, \"xaxis\": {\"title\": {\"text\": \"Frequency\"}}, \"yaxis\": {\"title\": {\"text\": \"Monetary\"}}},                        {\"responsive\": true}                    ).then(function(){\n",
       "                            \n",
       "var gd = document.getElementById('70fd6a5b-fc43-4864-b069-40ed1e4ff431');\n",
       "var x = new MutationObserver(function (mutations, observer) {{\n",
       "        var display = window.getComputedStyle(gd).display;\n",
       "        if (!display || display === 'none') {{\n",
       "            console.log([gd, 'removed!']);\n",
       "            Plotly.purge(gd);\n",
       "            observer.disconnect();\n",
       "        }}\n",
       "}});\n",
       "\n",
       "// Listen for the removal of the full notebook cells\n",
       "var notebookContainer = gd.closest('#notebook-container');\n",
       "if (notebookContainer) {{\n",
       "    x.observe(notebookContainer, {childList: true});\n",
       "}}\n",
       "\n",
       "// Listen for the clearing of the current output cell\n",
       "var outputEl = gd.closest('.output');\n",
       "if (outputEl) {{\n",
       "    x.observe(outputEl, {childList: true});\n",
       "}}\n",
       "\n",
       "                        })                };                });            </script>        </div>"
      ]
     },
     "metadata": {},
     "output_type": "display_data"
    }
   ],
   "source": [
    "plot_data = [\n",
    "    go.Scatter(\n",
    "        x=rfm_segmentation.query(\"RFMScore == '111'\")['Frequency'],\n",
    "        y=rfm_segmentation.query(\"RFMScore == '111'\")['Monetary'],\n",
    "        mode='markers',\n",
    "        name='Low',\n",
    "        marker= dict(size= 7,\n",
    "            line= dict(width=1),\n",
    "            color= 'blue',\n",
    "            opacity= 0.8\n",
    "           )\n",
    "    ),\n",
    "        go.Scatter(\n",
    "        x=rfm_segmentation.query(\"RFMScore == '222'\")['Frequency'],\n",
    "        y=rfm_segmentation.query(\"RFMScore == '222'\")['Monetary'],\n",
    "        mode='markers',\n",
    "        name='Mid',\n",
    "        marker= dict(size= 9,\n",
    "            line= dict(width=1),\n",
    "            color= 'green',\n",
    "            opacity= 0.5\n",
    "           )\n",
    "    ),\n",
    "        go.Scatter(\n",
    "        x=rfm_segmentation.query(\"RFMScore == '333' \")['Frequency'],\n",
    "        y=rfm_segmentation.query(\"RFMScore == '333'\")['Monetary'],\n",
    "        mode='markers',\n",
    "        name='High',\n",
    "        marker= dict(size= 11,\n",
    "            line= dict(width=1),\n",
    "            color= 'orange',\n",
    "            opacity= 0.9\n",
    "           )\n",
    "    ),\n",
    "    go.Scatter(\n",
    "        x=rfm_segmentation.query(\"RFMScore == '444'\")['Frequency'],\n",
    "        y=rfm_segmentation.query(\"RFMScore == '444'\")['Monetary'],\n",
    "        mode='markers',\n",
    "        name='Most',\n",
    "        marker= dict(size= 11,\n",
    "            line= dict(width=1),\n",
    "            color= 'red',\n",
    "            opacity= 0.9\n",
    "           )\n",
    "    )\n",
    "]\n",
    "\n",
    "plot_layout = go.Layout(\n",
    "        yaxis= {'title': \"Monetary\"},\n",
    "        xaxis= {'title': \"Frequency\"},\n",
    "        title='Frequent customers generate most revenue'\n",
    "    )\n",
    "fig = go.Figure(data=plot_data, layout=plot_layout)\n",
    "pyoff.iplot(fig)"
   ]
  },
  {
   "cell_type": "code",
   "execution_count": 313,
   "metadata": {},
   "outputs": [
    {
     "data": {
      "application/vnd.plotly.v1+json": {
       "config": {
        "linkText": "Export to plot.ly",
        "plotlyServerURL": "https://plot.ly",
        "showLink": false
       },
       "data": [
        {
         "marker": {
          "color": "blue",
          "line": {
           "width": 1
          },
          "opacity": 0.8,
          "size": 7
         },
         "mode": "markers",
         "name": "Low",
         "type": "scatter",
         "x": [
          69,
          40,
          144,
          40,
          95,
          35,
          67,
          46,
          96,
          38,
          37,
          105,
          111,
          148,
          41,
          63,
          40,
          209,
          47,
          114,
          68,
          80,
          63,
          195,
          117,
          142,
          83,
          48,
          129,
          83,
          147,
          128,
          44,
          99,
          43,
          42,
          66,
          115,
          63,
          104,
          62,
          73,
          80,
          40,
          40,
          102,
          55,
          50,
          115,
          178,
          35,
          35,
          99,
          88,
          125,
          40,
          40,
          59,
          85,
          94,
          133,
          98,
          49,
          180,
          133,
          67,
          73,
          84,
          99,
          65,
          141,
          119,
          114,
          56,
          62,
          48,
          78,
          53,
          51,
          50,
          139,
          58,
          45,
          170,
          129,
          106,
          214,
          174,
          176,
          70,
          48,
          44,
          139,
          45,
          75,
          263,
          160,
          37,
          144,
          82,
          54,
          98,
          39,
          125,
          152,
          120,
          43,
          111,
          87,
          35,
          58,
          55,
          54,
          51,
          49,
          94,
          112,
          225,
          95,
          48,
          162,
          152,
          95,
          239,
          37,
          61,
          157,
          40,
          109,
          38,
          78,
          37,
          39,
          99,
          39,
          99,
          47,
          48,
          81,
          36,
          59,
          55,
          95,
          61,
          165,
          37,
          48,
          200,
          139,
          93,
          132,
          46,
          46,
          188,
          106,
          106,
          68,
          94,
          95,
          93,
          95,
          125,
          161,
          130,
          38,
          215,
          158
         ],
         "y": [
          403.65,
          1432.986,
          182.53199999999998,
          431.874,
          1535.7809999999997,
          831.498,
          180.3,
          161.91,
          442.32000000000005,
          939.1529999999998,
          999.6990000000001,
          952.536,
          1433.4000000000003,
          819.45,
          606.105,
          560.745,
          468.654,
          1556.16,
          424.53,
          636.06,
          650.826,
          435.20399999999995,
          1049.52,
          208.41000000000003,
          184.872,
          1232.568,
          1485.897,
          1636.5119999999997,
          1323.0720000000001,
          473.11199999999997,
          1110.7799999999997,
          684.264,
          488.85,
          166.29899999999998,
          361.686,
          476.33399999999995,
          580.614,
          714.417,
          129.03,
          659.3399999999999,
          1517.5500000000002,
          1241.226,
          1617.6000000000001,
          1429.296,
          291.564,
          1503.426,
          919.9740000000002,
          1246.56,
          756.855,
          1160.43,
          1026.597,
          1424.7779999999998,
          1174.824,
          747.21,
          745.6500000000001,
          571.722,
          586.761,
          1451.49,
          695.2860000000001,
          1507.758,
          556.314,
          933.192,
          318.72,
          548.682,
          1256.4720000000002,
          689.64,
          609.3000000000001,
          1554.06,
          328.584,
          422.778,
          1020.0480000000001,
          948.4559999999999,
          58.11,
          1478.0819999999999,
          469.45799999999997,
          403.014,
          896.391,
          1628.166,
          813.0600000000001,
          251.322,
          1573.038,
          847.8269999999999,
          1524.1499999999999,
          1656.9660000000001,
          992.784,
          221.61,
          454.06800000000004,
          914.1779999999999,
          1340.31,
          1460.796,
          1131.912,
          281.208,
          1261.449,
          567.093,
          487.94999999999993,
          160.5,
          1011.798,
          782.0550000000001,
          1115.37,
          1374.1979999999999,
          428.43,
          1497.5700000000002,
          1321.1490000000001,
          579.336,
          1116.2039999999997,
          782.3879999999999,
          836.9939999999999,
          1615.662,
          124.416,
          700.692,
          752.07,
          622.452,
          814.5720000000001,
          1639.9650000000001,
          488.42999999999995,
          1367.268,
          188.544,
          300.666,
          1260.702,
          1350.03,
          432,
          461.87399999999997,
          780.3779999999998,
          950.13,
          1631.3160000000003,
          829.356,
          391.93800000000005,
          398.91900000000004,
          525.9,
          671.232,
          613.7099999999999,
          1033.2900000000002,
          187.35,
          1216.587,
          1365.54,
          1500.5880000000002,
          113.064,
          1468.8990000000003,
          243.03000000000003,
          943.26,
          185.13599999999997,
          354.99,
          203.38799999999998,
          387.051,
          131.808,
          1572.33,
          886.23,
          7.172999999999999,
          420.66,
          208.38000000000002,
          1664.13,
          223.56,
          658.98,
          1601.73,
          1041.5700000000002,
          307.8,
          273.768,
          1164.1499999999999,
          773.604,
          404.50800000000004,
          205.98,
          1159.3500000000001,
          641.6460000000001,
          301.71,
          80.19,
          662.28,
          1540.5299999999997
         ]
        },
        {
         "marker": {
          "color": "green",
          "line": {
           "width": 1
          },
          "opacity": 0.5,
          "size": 9
         },
         "mode": "markers",
         "name": "Mid",
         "type": "scatter",
         "x": [
          15,
          14,
          23,
          15,
          22,
          33,
          18,
          18,
          14,
          19,
          28,
          32,
          33,
          33,
          24,
          14,
          34,
          19,
          24,
          21,
          14,
          18,
          18,
          20,
          23,
          16,
          26,
          23,
          19,
          23,
          29,
          13,
          14,
          14,
          14,
          30,
          29,
          14,
          14,
          16,
          21,
          19,
          19,
          25,
          15,
          27,
          33,
          14,
          14,
          33,
          25,
          23,
          24,
          18,
          32,
          16,
          13,
          13,
          15,
          24,
          13,
          23,
          18,
          22,
          25,
          27,
          28,
          33,
          23,
          34,
          14,
          26,
          33,
          13
         ],
         "y": [
          5154.83976,
          4860.924000000001,
          2987.8979999999997,
          2870.6760000000004,
          4550.322,
          3179.1539999999995,
          6134.987999999999,
          3991.5209999999997,
          1869.7709999999997,
          3105.816,
          4629.155999999999,
          2395.716,
          3709.8810000000008,
          5689.263,
          3294.018,
          2093.6099999999997,
          2513.07,
          6018.071999999999,
          3914.9399999999996,
          5080.688999999999,
          1830.7890000000002,
          3357.7799999999993,
          4573.584,
          5369.268999999999,
          3051.18,
          2420.2259999999997,
          2838.264,
          3846.78,
          4013.9940000000006,
          2677.98,
          1828.086,
          2961.1890000000003,
          3901.347,
          5935.9800000000005,
          1924.9110000000003,
          1929.0810000000001,
          2855.874,
          2822.706,
          1831.3380000000002,
          1928.0069999999998,
          1771.437,
          2231.277,
          5079.897,
          2677.3409999999994,
          4747.370999999999,
          4555.716,
          2184.06,
          1898.4810000000002,
          4294.266000000001,
          2957.7149999999997,
          3586.695,
          3776.7000000000003,
          3193.161,
          1881.0060000000003,
          4938.4619999999995,
          3207.1800000000003,
          4131.144,
          2433.9420000000005,
          3183.0749999999994,
          3325.6080000000006,
          2417.7569999999996,
          3835.6259999999997,
          3749.8290000000006,
          2158.446,
          2325.2400000000002,
          5651.894999999999,
          2044.278,
          2028.9119999999998,
          3166.5179999999996,
          3331.1340000000005,
          2823.8520000000008,
          2064.0660000000003,
          1810.7520000000002,
          2668.0800000000004
         ]
        },
        {
         "marker": {
          "color": "orange",
          "line": {
           "width": 1
          },
          "opacity": 0.9,
          "size": 11
         },
         "mode": "markers",
         "name": "High",
         "type": "scatter",
         "x": [
          7,
          12,
          10,
          12,
          6,
          12,
          6,
          12,
          11,
          12,
          6,
          8,
          7,
          11,
          11,
          11,
          10,
          9,
          7,
          9,
          8,
          11,
          8,
          6,
          8,
          7,
          10,
          7,
          11,
          8,
          12,
          6,
          11,
          6,
          7,
          12,
          9,
          9,
          10,
          12,
          6,
          11,
          9,
          8,
          8,
          10,
          9,
          8,
          6,
          8,
          11,
          12,
          7,
          10,
          8,
          6,
          6,
          7,
          12,
          7,
          8,
          6,
          7,
          8,
          7,
          9,
          6,
          9,
          12,
          6,
          12,
          11,
          7
         ],
         "y": [
          10515.862000000001,
          12596.294399999993,
          10758.988,
          7134.304000000001,
          11690.3695,
          11370.465219999998,
          10630.914899999996,
          12801.825879999995,
          11552.77814,
          7825.564600000001,
          10127.012660000002,
          13089.8495,
          13098.337999999994,
          9927.898319999998,
          7832.686019999999,
          11157.040399999998,
          11618.07552,
          10321.82,
          9356.779739999996,
          12686.03922,
          6805.941999999999,
          9640.381680000002,
          10917.0012,
          12448.899780000002,
          6918.482399999999,
          12325.286960000001,
          11321.2786,
          8677.598999999998,
          9974.274720000003,
          12896.252000000002,
          13057.2946,
          9689.3171,
          10981.230999999998,
          6942.403000000001,
          10085.79,
          11397.064840000001,
          11657.752999999997,
          13035.368260000001,
          10443.100100000003,
          6923.2494400000005,
          8189.785800000001,
          10168.32526,
          10887.2118,
          12721.248939999998,
          12075.397740000002,
          10637.40422,
          7677.435260000002,
          12917.6316,
          9578.59864,
          10547.631919999996,
          8770.73964,
          12560.130000000001,
          7090.956779999999,
          12910.87688,
          9532.916599999999,
          10607.6947,
          8370.783000000001,
          10961.631,
          9961.049999999997,
          11079.104880000003,
          10889.6997,
          9240.896999999999,
          8944.311,
          10932.97152,
          10118.841680000003,
          9111.8495,
          11054.378000000002,
          11685.3186,
          12589.959000000004,
          10201.2813,
          9927.835880000002,
          8969.439999999999,
          9637.154359999999
         ]
        },
        {
         "marker": {
          "color": "red",
          "line": {
           "width": 1
          },
          "opacity": 0.9,
          "size": 11
         },
         "mode": "markers",
         "name": "Most",
         "type": "scatter",
         "x": [
          3,
          0,
          1,
          4,
          3,
          4,
          5,
          2,
          0,
          5,
          1,
          2,
          1,
          2,
          0,
          4,
          4,
          5,
          0,
          5,
          0,
          4,
          1,
          1,
          0,
          0,
          0,
          0,
          0,
          1,
          4,
          2,
          0,
          0,
          3,
          1,
          1,
          0,
          4,
          5,
          0,
          0,
          4,
          0,
          5,
          5,
          1,
          2,
          4,
          1,
          3,
          5,
          2,
          1,
          0,
          5,
          4,
          0,
          5,
          2,
          3,
          0,
          2,
          3,
          2,
          0,
          2,
          4,
          0,
          3,
          0,
          5,
          4,
          1,
          4,
          0,
          4,
          5,
          4,
          4,
          1,
          1,
          1,
          3,
          5,
          4,
          4,
          1,
          0,
          1,
          4,
          2,
          3,
          0,
          3,
          0,
          1,
          4,
          4,
          1,
          2,
          2,
          5,
          2,
          0,
          0,
          5,
          0,
          3,
          1,
          3,
          3,
          3,
          2,
          1,
          2,
          0,
          0,
          2,
          2,
          0,
          0,
          1,
          5,
          1,
          5,
          1,
          5,
          0,
          0,
          3,
          2,
          1,
          3,
          2,
          0,
          3,
          3,
          5,
          5,
          2
         ],
         "y": [
          21507.291259999998,
          21051.05979999999,
          23476.911659999998,
          14063.489800000001,
          13725.5769,
          16336.855599999999,
          18703.606,
          19941.698119999997,
          20425.299599999995,
          15055.405180000003,
          19844.148659999995,
          25228.529479999987,
          27649.326520000002,
          16236.005799999995,
          22015.3862,
          18359.76861999999,
          16114.907500000003,
          14452.820620000004,
          20825.89199999999,
          15343.890699999993,
          13975.42408,
          14277.885359999993,
          17449.900119999995,
          22553.1085,
          13997.592560000001,
          16315.107900000003,
          16276.161119999999,
          17000.843319999993,
          17178.439399999992,
          17557.459499999994,
          23321.580000000005,
          22573.371160000002,
          18446.8529,
          16704.661200000006,
          26487.258500000007,
          17008.135879999994,
          13718.696659999994,
          22551.025959999995,
          25274.47020000001,
          13905.347119999999,
          17763.948239999994,
          19350.14634,
          16294.698100000001,
          15197.692699999998,
          20317.006699999994,
          14312.796199999995,
          18018.878999999997,
          14542.762279999995,
          18174.17176,
          14947.884019999996,
          20037.497499999998,
          16716.76171999999,
          16118.972199999993,
          21113.510700000003,
          17643.5253,
          15626.531799999999,
          15380.310059999996,
          22142.431140000004,
          19215.7699,
          19218.812979999995,
          18505.600500000008,
          13361.932579999993,
          18103.64108,
          28044.359500000002,
          13162.248900000002,
          13483.623679999999,
          13941.686199999996,
          20869.698999999997,
          16283.357739999996,
          16455.32732,
          19899.1474,
          23537.335000000003,
          14744.230880000003,
          22127.18112,
          15713.71812,
          34218.269,
          18305.9783,
          14674.001159999998,
          18099.3061,
          13708.122320000002,
          14789.447000000002,
          19852.773,
          19963.41,
          23347.838660000012,
          24527.029,
          25641.464919999995,
          18340.62916,
          14823.9685,
          13405.601299999998,
          34471.89027999999,
          16258.534,
          18109.86142,
          16573.5984,
          15376.031719999997,
          13973.777299999998,
          16487.190899999994,
          15614.215499999997,
          21918.736839999998,
          21884.184599999993,
          19113.6707,
          19493.76566000001,
          14064.011059999995,
          20138.603039999995,
          18158.460099999997,
          15009.286600000001,
          25570.494179999998,
          14537.796600000001,
          19862.575919999996,
          14415.338300000003,
          13366.531340000001,
          13625.207839999994,
          15785.377399999996,
          17199.202,
          22697.577280000005,
          18296.7474,
          20259.916000000005,
          35668.1208,
          17105.470699999998,
          15077.475679999998,
          13928.468299999999,
          24996.503099999998,
          16394.460639999998,
          27434.1676,
          14534.506179999997,
          18472.668900000004,
          22275.268900000006,
          17228.4977,
          16480.866180000005,
          16221.626799999996,
          19391.898099999995,
          15311.035600000001,
          28472.819259999993,
          15797.571879999998,
          20592.081299999994,
          16810.6866,
          18281.84948,
          22966.78,
          17613.4163,
          14709.698680000003,
          15009.472720000002,
          16362.895599999998
         ]
        }
       ],
       "layout": {
        "template": {
         "data": {
          "bar": [
           {
            "error_x": {
             "color": "#2a3f5f"
            },
            "error_y": {
             "color": "#2a3f5f"
            },
            "marker": {
             "line": {
              "color": "#E5ECF6",
              "width": 0.5
             }
            },
            "type": "bar"
           }
          ],
          "barpolar": [
           {
            "marker": {
             "line": {
              "color": "#E5ECF6",
              "width": 0.5
             }
            },
            "type": "barpolar"
           }
          ],
          "carpet": [
           {
            "aaxis": {
             "endlinecolor": "#2a3f5f",
             "gridcolor": "white",
             "linecolor": "white",
             "minorgridcolor": "white",
             "startlinecolor": "#2a3f5f"
            },
            "baxis": {
             "endlinecolor": "#2a3f5f",
             "gridcolor": "white",
             "linecolor": "white",
             "minorgridcolor": "white",
             "startlinecolor": "#2a3f5f"
            },
            "type": "carpet"
           }
          ],
          "choropleth": [
           {
            "colorbar": {
             "outlinewidth": 0,
             "ticks": ""
            },
            "type": "choropleth"
           }
          ],
          "contour": [
           {
            "colorbar": {
             "outlinewidth": 0,
             "ticks": ""
            },
            "colorscale": [
             [
              0,
              "#0d0887"
             ],
             [
              0.1111111111111111,
              "#46039f"
             ],
             [
              0.2222222222222222,
              "#7201a8"
             ],
             [
              0.3333333333333333,
              "#9c179e"
             ],
             [
              0.4444444444444444,
              "#bd3786"
             ],
             [
              0.5555555555555556,
              "#d8576b"
             ],
             [
              0.6666666666666666,
              "#ed7953"
             ],
             [
              0.7777777777777778,
              "#fb9f3a"
             ],
             [
              0.8888888888888888,
              "#fdca26"
             ],
             [
              1,
              "#f0f921"
             ]
            ],
            "type": "contour"
           }
          ],
          "contourcarpet": [
           {
            "colorbar": {
             "outlinewidth": 0,
             "ticks": ""
            },
            "type": "contourcarpet"
           }
          ],
          "heatmap": [
           {
            "colorbar": {
             "outlinewidth": 0,
             "ticks": ""
            },
            "colorscale": [
             [
              0,
              "#0d0887"
             ],
             [
              0.1111111111111111,
              "#46039f"
             ],
             [
              0.2222222222222222,
              "#7201a8"
             ],
             [
              0.3333333333333333,
              "#9c179e"
             ],
             [
              0.4444444444444444,
              "#bd3786"
             ],
             [
              0.5555555555555556,
              "#d8576b"
             ],
             [
              0.6666666666666666,
              "#ed7953"
             ],
             [
              0.7777777777777778,
              "#fb9f3a"
             ],
             [
              0.8888888888888888,
              "#fdca26"
             ],
             [
              1,
              "#f0f921"
             ]
            ],
            "type": "heatmap"
           }
          ],
          "heatmapgl": [
           {
            "colorbar": {
             "outlinewidth": 0,
             "ticks": ""
            },
            "colorscale": [
             [
              0,
              "#0d0887"
             ],
             [
              0.1111111111111111,
              "#46039f"
             ],
             [
              0.2222222222222222,
              "#7201a8"
             ],
             [
              0.3333333333333333,
              "#9c179e"
             ],
             [
              0.4444444444444444,
              "#bd3786"
             ],
             [
              0.5555555555555556,
              "#d8576b"
             ],
             [
              0.6666666666666666,
              "#ed7953"
             ],
             [
              0.7777777777777778,
              "#fb9f3a"
             ],
             [
              0.8888888888888888,
              "#fdca26"
             ],
             [
              1,
              "#f0f921"
             ]
            ],
            "type": "heatmapgl"
           }
          ],
          "histogram": [
           {
            "marker": {
             "colorbar": {
              "outlinewidth": 0,
              "ticks": ""
             }
            },
            "type": "histogram"
           }
          ],
          "histogram2d": [
           {
            "colorbar": {
             "outlinewidth": 0,
             "ticks": ""
            },
            "colorscale": [
             [
              0,
              "#0d0887"
             ],
             [
              0.1111111111111111,
              "#46039f"
             ],
             [
              0.2222222222222222,
              "#7201a8"
             ],
             [
              0.3333333333333333,
              "#9c179e"
             ],
             [
              0.4444444444444444,
              "#bd3786"
             ],
             [
              0.5555555555555556,
              "#d8576b"
             ],
             [
              0.6666666666666666,
              "#ed7953"
             ],
             [
              0.7777777777777778,
              "#fb9f3a"
             ],
             [
              0.8888888888888888,
              "#fdca26"
             ],
             [
              1,
              "#f0f921"
             ]
            ],
            "type": "histogram2d"
           }
          ],
          "histogram2dcontour": [
           {
            "colorbar": {
             "outlinewidth": 0,
             "ticks": ""
            },
            "colorscale": [
             [
              0,
              "#0d0887"
             ],
             [
              0.1111111111111111,
              "#46039f"
             ],
             [
              0.2222222222222222,
              "#7201a8"
             ],
             [
              0.3333333333333333,
              "#9c179e"
             ],
             [
              0.4444444444444444,
              "#bd3786"
             ],
             [
              0.5555555555555556,
              "#d8576b"
             ],
             [
              0.6666666666666666,
              "#ed7953"
             ],
             [
              0.7777777777777778,
              "#fb9f3a"
             ],
             [
              0.8888888888888888,
              "#fdca26"
             ],
             [
              1,
              "#f0f921"
             ]
            ],
            "type": "histogram2dcontour"
           }
          ],
          "mesh3d": [
           {
            "colorbar": {
             "outlinewidth": 0,
             "ticks": ""
            },
            "type": "mesh3d"
           }
          ],
          "parcoords": [
           {
            "line": {
             "colorbar": {
              "outlinewidth": 0,
              "ticks": ""
             }
            },
            "type": "parcoords"
           }
          ],
          "pie": [
           {
            "automargin": true,
            "type": "pie"
           }
          ],
          "scatter": [
           {
            "marker": {
             "colorbar": {
              "outlinewidth": 0,
              "ticks": ""
             }
            },
            "type": "scatter"
           }
          ],
          "scatter3d": [
           {
            "line": {
             "colorbar": {
              "outlinewidth": 0,
              "ticks": ""
             }
            },
            "marker": {
             "colorbar": {
              "outlinewidth": 0,
              "ticks": ""
             }
            },
            "type": "scatter3d"
           }
          ],
          "scattercarpet": [
           {
            "marker": {
             "colorbar": {
              "outlinewidth": 0,
              "ticks": ""
             }
            },
            "type": "scattercarpet"
           }
          ],
          "scattergeo": [
           {
            "marker": {
             "colorbar": {
              "outlinewidth": 0,
              "ticks": ""
             }
            },
            "type": "scattergeo"
           }
          ],
          "scattergl": [
           {
            "marker": {
             "colorbar": {
              "outlinewidth": 0,
              "ticks": ""
             }
            },
            "type": "scattergl"
           }
          ],
          "scattermapbox": [
           {
            "marker": {
             "colorbar": {
              "outlinewidth": 0,
              "ticks": ""
             }
            },
            "type": "scattermapbox"
           }
          ],
          "scatterpolar": [
           {
            "marker": {
             "colorbar": {
              "outlinewidth": 0,
              "ticks": ""
             }
            },
            "type": "scatterpolar"
           }
          ],
          "scatterpolargl": [
           {
            "marker": {
             "colorbar": {
              "outlinewidth": 0,
              "ticks": ""
             }
            },
            "type": "scatterpolargl"
           }
          ],
          "scatterternary": [
           {
            "marker": {
             "colorbar": {
              "outlinewidth": 0,
              "ticks": ""
             }
            },
            "type": "scatterternary"
           }
          ],
          "surface": [
           {
            "colorbar": {
             "outlinewidth": 0,
             "ticks": ""
            },
            "colorscale": [
             [
              0,
              "#0d0887"
             ],
             [
              0.1111111111111111,
              "#46039f"
             ],
             [
              0.2222222222222222,
              "#7201a8"
             ],
             [
              0.3333333333333333,
              "#9c179e"
             ],
             [
              0.4444444444444444,
              "#bd3786"
             ],
             [
              0.5555555555555556,
              "#d8576b"
             ],
             [
              0.6666666666666666,
              "#ed7953"
             ],
             [
              0.7777777777777778,
              "#fb9f3a"
             ],
             [
              0.8888888888888888,
              "#fdca26"
             ],
             [
              1,
              "#f0f921"
             ]
            ],
            "type": "surface"
           }
          ],
          "table": [
           {
            "cells": {
             "fill": {
              "color": "#EBF0F8"
             },
             "line": {
              "color": "white"
             }
            },
            "header": {
             "fill": {
              "color": "#C8D4E3"
             },
             "line": {
              "color": "white"
             }
            },
            "type": "table"
           }
          ]
         },
         "layout": {
          "annotationdefaults": {
           "arrowcolor": "#2a3f5f",
           "arrowhead": 0,
           "arrowwidth": 1
          },
          "coloraxis": {
           "colorbar": {
            "outlinewidth": 0,
            "ticks": ""
           }
          },
          "colorscale": {
           "diverging": [
            [
             0,
             "#8e0152"
            ],
            [
             0.1,
             "#c51b7d"
            ],
            [
             0.2,
             "#de77ae"
            ],
            [
             0.3,
             "#f1b6da"
            ],
            [
             0.4,
             "#fde0ef"
            ],
            [
             0.5,
             "#f7f7f7"
            ],
            [
             0.6,
             "#e6f5d0"
            ],
            [
             0.7,
             "#b8e186"
            ],
            [
             0.8,
             "#7fbc41"
            ],
            [
             0.9,
             "#4d9221"
            ],
            [
             1,
             "#276419"
            ]
           ],
           "sequential": [
            [
             0,
             "#0d0887"
            ],
            [
             0.1111111111111111,
             "#46039f"
            ],
            [
             0.2222222222222222,
             "#7201a8"
            ],
            [
             0.3333333333333333,
             "#9c179e"
            ],
            [
             0.4444444444444444,
             "#bd3786"
            ],
            [
             0.5555555555555556,
             "#d8576b"
            ],
            [
             0.6666666666666666,
             "#ed7953"
            ],
            [
             0.7777777777777778,
             "#fb9f3a"
            ],
            [
             0.8888888888888888,
             "#fdca26"
            ],
            [
             1,
             "#f0f921"
            ]
           ],
           "sequentialminus": [
            [
             0,
             "#0d0887"
            ],
            [
             0.1111111111111111,
             "#46039f"
            ],
            [
             0.2222222222222222,
             "#7201a8"
            ],
            [
             0.3333333333333333,
             "#9c179e"
            ],
            [
             0.4444444444444444,
             "#bd3786"
            ],
            [
             0.5555555555555556,
             "#d8576b"
            ],
            [
             0.6666666666666666,
             "#ed7953"
            ],
            [
             0.7777777777777778,
             "#fb9f3a"
            ],
            [
             0.8888888888888888,
             "#fdca26"
            ],
            [
             1,
             "#f0f921"
            ]
           ]
          },
          "colorway": [
           "#636efa",
           "#EF553B",
           "#00cc96",
           "#ab63fa",
           "#FFA15A",
           "#19d3f3",
           "#FF6692",
           "#B6E880",
           "#FF97FF",
           "#FECB52"
          ],
          "font": {
           "color": "#2a3f5f"
          },
          "geo": {
           "bgcolor": "white",
           "lakecolor": "white",
           "landcolor": "#E5ECF6",
           "showlakes": true,
           "showland": true,
           "subunitcolor": "white"
          },
          "hoverlabel": {
           "align": "left"
          },
          "hovermode": "closest",
          "mapbox": {
           "style": "light"
          },
          "paper_bgcolor": "white",
          "plot_bgcolor": "#E5ECF6",
          "polar": {
           "angularaxis": {
            "gridcolor": "white",
            "linecolor": "white",
            "ticks": ""
           },
           "bgcolor": "#E5ECF6",
           "radialaxis": {
            "gridcolor": "white",
            "linecolor": "white",
            "ticks": ""
           }
          },
          "scene": {
           "xaxis": {
            "backgroundcolor": "#E5ECF6",
            "gridcolor": "white",
            "gridwidth": 2,
            "linecolor": "white",
            "showbackground": true,
            "ticks": "",
            "zerolinecolor": "white"
           },
           "yaxis": {
            "backgroundcolor": "#E5ECF6",
            "gridcolor": "white",
            "gridwidth": 2,
            "linecolor": "white",
            "showbackground": true,
            "ticks": "",
            "zerolinecolor": "white"
           },
           "zaxis": {
            "backgroundcolor": "#E5ECF6",
            "gridcolor": "white",
            "gridwidth": 2,
            "linecolor": "white",
            "showbackground": true,
            "ticks": "",
            "zerolinecolor": "white"
           }
          },
          "shapedefaults": {
           "line": {
            "color": "#2a3f5f"
           }
          },
          "ternary": {
           "aaxis": {
            "gridcolor": "white",
            "linecolor": "white",
            "ticks": ""
           },
           "baxis": {
            "gridcolor": "white",
            "linecolor": "white",
            "ticks": ""
           },
           "bgcolor": "#E5ECF6",
           "caxis": {
            "gridcolor": "white",
            "linecolor": "white",
            "ticks": ""
           }
          },
          "title": {
           "x": 0.05
          },
          "xaxis": {
           "automargin": true,
           "gridcolor": "white",
           "linecolor": "white",
           "ticks": "",
           "title": {
            "standoff": 15
           },
           "zerolinecolor": "white",
           "zerolinewidth": 2
          },
          "yaxis": {
           "automargin": true,
           "gridcolor": "white",
           "linecolor": "white",
           "ticks": "",
           "title": {
            "standoff": 15
           },
           "zerolinecolor": "white",
           "zerolinewidth": 2
          }
         }
        },
        "title": {
         "text": "Recent customers generate the most revenue"
        },
        "xaxis": {
         "title": {
          "text": "Recency"
         }
        },
        "yaxis": {
         "title": {
          "text": "Monetary"
         }
        }
       }
      },
      "text/html": [
       "<div>                            <div id=\"1b1d2cd8-265f-437e-8b51-8a17a45e9ae0\" class=\"plotly-graph-div\" style=\"height:525px; width:100%;\"></div>            <script type=\"text/javascript\">                require([\"plotly\"], function(Plotly) {                    window.PLOTLYENV=window.PLOTLYENV || {};                                    if (document.getElementById(\"1b1d2cd8-265f-437e-8b51-8a17a45e9ae0\")) {                    Plotly.newPlot(                        \"1b1d2cd8-265f-437e-8b51-8a17a45e9ae0\",                        [{\"marker\": {\"color\": \"blue\", \"line\": {\"width\": 1}, \"opacity\": 0.8, \"size\": 7}, \"mode\": \"markers\", \"name\": \"Low\", \"type\": \"scatter\", \"x\": [69, 40, 144, 40, 95, 35, 67, 46, 96, 38, 37, 105, 111, 148, 41, 63, 40, 209, 47, 114, 68, 80, 63, 195, 117, 142, 83, 48, 129, 83, 147, 128, 44, 99, 43, 42, 66, 115, 63, 104, 62, 73, 80, 40, 40, 102, 55, 50, 115, 178, 35, 35, 99, 88, 125, 40, 40, 59, 85, 94, 133, 98, 49, 180, 133, 67, 73, 84, 99, 65, 141, 119, 114, 56, 62, 48, 78, 53, 51, 50, 139, 58, 45, 170, 129, 106, 214, 174, 176, 70, 48, 44, 139, 45, 75, 263, 160, 37, 144, 82, 54, 98, 39, 125, 152, 120, 43, 111, 87, 35, 58, 55, 54, 51, 49, 94, 112, 225, 95, 48, 162, 152, 95, 239, 37, 61, 157, 40, 109, 38, 78, 37, 39, 99, 39, 99, 47, 48, 81, 36, 59, 55, 95, 61, 165, 37, 48, 200, 139, 93, 132, 46, 46, 188, 106, 106, 68, 94, 95, 93, 95, 125, 161, 130, 38, 215, 158], \"y\": [403.65, 1432.986, 182.53199999999998, 431.874, 1535.7809999999997, 831.498, 180.3, 161.91, 442.32000000000005, 939.1529999999998, 999.6990000000001, 952.536, 1433.4000000000003, 819.45, 606.105, 560.745, 468.654, 1556.16, 424.53, 636.06, 650.826, 435.20399999999995, 1049.52, 208.41000000000003, 184.872, 1232.568, 1485.897, 1636.5119999999997, 1323.0720000000001, 473.11199999999997, 1110.7799999999997, 684.264, 488.85, 166.29899999999998, 361.686, 476.33399999999995, 580.614, 714.417, 129.03, 659.3399999999999, 1517.5500000000002, 1241.226, 1617.6000000000001, 1429.296, 291.564, 1503.426, 919.9740000000002, 1246.56, 756.855, 1160.43, 1026.597, 1424.7779999999998, 1174.824, 747.21, 745.6500000000001, 571.722, 586.761, 1451.49, 695.2860000000001, 1507.758, 556.314, 933.192, 318.72, 548.682, 1256.4720000000002, 689.64, 609.3000000000001, 1554.06, 328.584, 422.778, 1020.0480000000001, 948.4559999999999, 58.11, 1478.0819999999999, 469.45799999999997, 403.014, 896.391, 1628.166, 813.0600000000001, 251.322, 1573.038, 847.8269999999999, 1524.1499999999999, 1656.9660000000001, 992.784, 221.61, 454.06800000000004, 914.1779999999999, 1340.31, 1460.796, 1131.912, 281.208, 1261.449, 567.093, 487.94999999999993, 160.5, 1011.798, 782.0550000000001, 1115.37, 1374.1979999999999, 428.43, 1497.5700000000002, 1321.1490000000001, 579.336, 1116.2039999999997, 782.3879999999999, 836.9939999999999, 1615.662, 124.416, 700.692, 752.07, 622.452, 814.5720000000001, 1639.9650000000001, 488.42999999999995, 1367.268, 188.544, 300.666, 1260.702, 1350.03, 432.0, 461.87399999999997, 780.3779999999998, 950.13, 1631.3160000000003, 829.356, 391.93800000000005, 398.91900000000004, 525.9, 671.232, 613.7099999999999, 1033.2900000000002, 187.35, 1216.587, 1365.54, 1500.5880000000002, 113.064, 1468.8990000000003, 243.03000000000003, 943.26, 185.13599999999997, 354.99, 203.38799999999998, 387.051, 131.808, 1572.33, 886.23, 7.172999999999999, 420.66, 208.38000000000002, 1664.13, 223.56, 658.98, 1601.73, 1041.5700000000002, 307.8, 273.768, 1164.1499999999999, 773.604, 404.50800000000004, 205.98, 1159.3500000000001, 641.6460000000001, 301.71, 80.19, 662.28, 1540.5299999999997]}, {\"marker\": {\"color\": \"green\", \"line\": {\"width\": 1}, \"opacity\": 0.5, \"size\": 9}, \"mode\": \"markers\", \"name\": \"Mid\", \"type\": \"scatter\", \"x\": [15, 14, 23, 15, 22, 33, 18, 18, 14, 19, 28, 32, 33, 33, 24, 14, 34, 19, 24, 21, 14, 18, 18, 20, 23, 16, 26, 23, 19, 23, 29, 13, 14, 14, 14, 30, 29, 14, 14, 16, 21, 19, 19, 25, 15, 27, 33, 14, 14, 33, 25, 23, 24, 18, 32, 16, 13, 13, 15, 24, 13, 23, 18, 22, 25, 27, 28, 33, 23, 34, 14, 26, 33, 13], \"y\": [5154.83976, 4860.924000000001, 2987.8979999999997, 2870.6760000000004, 4550.322, 3179.1539999999995, 6134.987999999999, 3991.5209999999997, 1869.7709999999997, 3105.816, 4629.155999999999, 2395.716, 3709.8810000000008, 5689.263, 3294.018, 2093.6099999999997, 2513.07, 6018.071999999999, 3914.9399999999996, 5080.688999999999, 1830.7890000000002, 3357.7799999999993, 4573.584, 5369.268999999999, 3051.18, 2420.2259999999997, 2838.264, 3846.78, 4013.9940000000006, 2677.98, 1828.086, 2961.1890000000003, 3901.347, 5935.9800000000005, 1924.9110000000003, 1929.0810000000001, 2855.874, 2822.706, 1831.3380000000002, 1928.0069999999998, 1771.437, 2231.277, 5079.897, 2677.3409999999994, 4747.370999999999, 4555.716, 2184.06, 1898.4810000000002, 4294.266000000001, 2957.7149999999997, 3586.695, 3776.7000000000003, 3193.161, 1881.0060000000003, 4938.4619999999995, 3207.1800000000003, 4131.144, 2433.9420000000005, 3183.0749999999994, 3325.6080000000006, 2417.7569999999996, 3835.6259999999997, 3749.8290000000006, 2158.446, 2325.2400000000002, 5651.894999999999, 2044.278, 2028.9119999999998, 3166.5179999999996, 3331.1340000000005, 2823.8520000000008, 2064.0660000000003, 1810.7520000000002, 2668.0800000000004]}, {\"marker\": {\"color\": \"orange\", \"line\": {\"width\": 1}, \"opacity\": 0.9, \"size\": 11}, \"mode\": \"markers\", \"name\": \"High\", \"type\": \"scatter\", \"x\": [7, 12, 10, 12, 6, 12, 6, 12, 11, 12, 6, 8, 7, 11, 11, 11, 10, 9, 7, 9, 8, 11, 8, 6, 8, 7, 10, 7, 11, 8, 12, 6, 11, 6, 7, 12, 9, 9, 10, 12, 6, 11, 9, 8, 8, 10, 9, 8, 6, 8, 11, 12, 7, 10, 8, 6, 6, 7, 12, 7, 8, 6, 7, 8, 7, 9, 6, 9, 12, 6, 12, 11, 7], \"y\": [10515.862000000001, 12596.294399999993, 10758.988, 7134.304000000001, 11690.3695, 11370.465219999998, 10630.914899999996, 12801.825879999995, 11552.77814, 7825.564600000001, 10127.012660000002, 13089.8495, 13098.337999999994, 9927.898319999998, 7832.686019999999, 11157.040399999998, 11618.07552, 10321.82, 9356.779739999996, 12686.03922, 6805.941999999999, 9640.381680000002, 10917.0012, 12448.899780000002, 6918.482399999999, 12325.286960000001, 11321.2786, 8677.598999999998, 9974.274720000003, 12896.252000000002, 13057.2946, 9689.3171, 10981.230999999998, 6942.403000000001, 10085.79, 11397.064840000001, 11657.752999999997, 13035.368260000001, 10443.100100000003, 6923.2494400000005, 8189.785800000001, 10168.32526, 10887.2118, 12721.248939999998, 12075.397740000002, 10637.40422, 7677.435260000002, 12917.6316, 9578.59864, 10547.631919999996, 8770.73964, 12560.130000000001, 7090.956779999999, 12910.87688, 9532.916599999999, 10607.6947, 8370.783000000001, 10961.631, 9961.049999999997, 11079.104880000003, 10889.6997, 9240.896999999999, 8944.311, 10932.97152, 10118.841680000003, 9111.8495, 11054.378000000002, 11685.3186, 12589.959000000004, 10201.2813, 9927.835880000002, 8969.439999999999, 9637.154359999999]}, {\"marker\": {\"color\": \"red\", \"line\": {\"width\": 1}, \"opacity\": 0.9, \"size\": 11}, \"mode\": \"markers\", \"name\": \"Most\", \"type\": \"scatter\", \"x\": [3, 0, 1, 4, 3, 4, 5, 2, 0, 5, 1, 2, 1, 2, 0, 4, 4, 5, 0, 5, 0, 4, 1, 1, 0, 0, 0, 0, 0, 1, 4, 2, 0, 0, 3, 1, 1, 0, 4, 5, 0, 0, 4, 0, 5, 5, 1, 2, 4, 1, 3, 5, 2, 1, 0, 5, 4, 0, 5, 2, 3, 0, 2, 3, 2, 0, 2, 4, 0, 3, 0, 5, 4, 1, 4, 0, 4, 5, 4, 4, 1, 1, 1, 3, 5, 4, 4, 1, 0, 1, 4, 2, 3, 0, 3, 0, 1, 4, 4, 1, 2, 2, 5, 2, 0, 0, 5, 0, 3, 1, 3, 3, 3, 2, 1, 2, 0, 0, 2, 2, 0, 0, 1, 5, 1, 5, 1, 5, 0, 0, 3, 2, 1, 3, 2, 0, 3, 3, 5, 5, 2], \"y\": [21507.291259999998, 21051.05979999999, 23476.911659999998, 14063.489800000001, 13725.5769, 16336.855599999999, 18703.606, 19941.698119999997, 20425.299599999995, 15055.405180000003, 19844.148659999995, 25228.529479999987, 27649.326520000002, 16236.005799999995, 22015.3862, 18359.76861999999, 16114.907500000003, 14452.820620000004, 20825.89199999999, 15343.890699999993, 13975.42408, 14277.885359999993, 17449.900119999995, 22553.1085, 13997.592560000001, 16315.107900000003, 16276.161119999999, 17000.843319999993, 17178.439399999992, 17557.459499999994, 23321.580000000005, 22573.371160000002, 18446.8529, 16704.661200000006, 26487.258500000007, 17008.135879999994, 13718.696659999994, 22551.025959999995, 25274.47020000001, 13905.347119999999, 17763.948239999994, 19350.14634, 16294.698100000001, 15197.692699999998, 20317.006699999994, 14312.796199999995, 18018.878999999997, 14542.762279999995, 18174.17176, 14947.884019999996, 20037.497499999998, 16716.76171999999, 16118.972199999993, 21113.510700000003, 17643.5253, 15626.531799999999, 15380.310059999996, 22142.431140000004, 19215.7699, 19218.812979999995, 18505.600500000008, 13361.932579999993, 18103.64108, 28044.359500000002, 13162.248900000002, 13483.623679999999, 13941.686199999996, 20869.698999999997, 16283.357739999996, 16455.32732, 19899.1474, 23537.335000000003, 14744.230880000003, 22127.18112, 15713.71812, 34218.269, 18305.9783, 14674.001159999998, 18099.3061, 13708.122320000002, 14789.447000000002, 19852.773, 19963.41, 23347.838660000012, 24527.029, 25641.464919999995, 18340.62916, 14823.9685, 13405.601299999998, 34471.89027999999, 16258.534, 18109.86142, 16573.5984, 15376.031719999997, 13973.777299999998, 16487.190899999994, 15614.215499999997, 21918.736839999998, 21884.184599999993, 19113.6707, 19493.76566000001, 14064.011059999995, 20138.603039999995, 18158.460099999997, 15009.286600000001, 25570.494179999998, 14537.796600000001, 19862.575919999996, 14415.338300000003, 13366.531340000001, 13625.207839999994, 15785.377399999996, 17199.202, 22697.577280000005, 18296.7474, 20259.916000000005, 35668.1208, 17105.470699999998, 15077.475679999998, 13928.468299999999, 24996.503099999998, 16394.460639999998, 27434.1676, 14534.506179999997, 18472.668900000004, 22275.268900000006, 17228.4977, 16480.866180000005, 16221.626799999996, 19391.898099999995, 15311.035600000001, 28472.819259999993, 15797.571879999998, 20592.081299999994, 16810.6866, 18281.84948, 22966.78, 17613.4163, 14709.698680000003, 15009.472720000002, 16362.895599999998]}],                        {\"template\": {\"data\": {\"bar\": [{\"error_x\": {\"color\": \"#2a3f5f\"}, \"error_y\": {\"color\": \"#2a3f5f\"}, \"marker\": {\"line\": {\"color\": \"#E5ECF6\", \"width\": 0.5}}, \"type\": \"bar\"}], \"barpolar\": [{\"marker\": {\"line\": {\"color\": \"#E5ECF6\", \"width\": 0.5}}, \"type\": \"barpolar\"}], \"carpet\": [{\"aaxis\": {\"endlinecolor\": \"#2a3f5f\", \"gridcolor\": \"white\", \"linecolor\": \"white\", \"minorgridcolor\": \"white\", \"startlinecolor\": \"#2a3f5f\"}, \"baxis\": {\"endlinecolor\": \"#2a3f5f\", \"gridcolor\": \"white\", \"linecolor\": \"white\", \"minorgridcolor\": \"white\", \"startlinecolor\": \"#2a3f5f\"}, \"type\": \"carpet\"}], \"choropleth\": [{\"colorbar\": {\"outlinewidth\": 0, \"ticks\": \"\"}, \"type\": \"choropleth\"}], \"contour\": [{\"colorbar\": {\"outlinewidth\": 0, \"ticks\": \"\"}, \"colorscale\": [[0.0, \"#0d0887\"], [0.1111111111111111, \"#46039f\"], [0.2222222222222222, \"#7201a8\"], [0.3333333333333333, \"#9c179e\"], [0.4444444444444444, \"#bd3786\"], [0.5555555555555556, \"#d8576b\"], [0.6666666666666666, \"#ed7953\"], [0.7777777777777778, \"#fb9f3a\"], [0.8888888888888888, \"#fdca26\"], [1.0, \"#f0f921\"]], \"type\": \"contour\"}], \"contourcarpet\": [{\"colorbar\": {\"outlinewidth\": 0, \"ticks\": \"\"}, \"type\": \"contourcarpet\"}], \"heatmap\": [{\"colorbar\": {\"outlinewidth\": 0, \"ticks\": \"\"}, \"colorscale\": [[0.0, \"#0d0887\"], [0.1111111111111111, \"#46039f\"], [0.2222222222222222, \"#7201a8\"], [0.3333333333333333, \"#9c179e\"], [0.4444444444444444, \"#bd3786\"], [0.5555555555555556, \"#d8576b\"], [0.6666666666666666, \"#ed7953\"], [0.7777777777777778, \"#fb9f3a\"], [0.8888888888888888, \"#fdca26\"], [1.0, \"#f0f921\"]], \"type\": \"heatmap\"}], \"heatmapgl\": [{\"colorbar\": {\"outlinewidth\": 0, \"ticks\": \"\"}, \"colorscale\": [[0.0, \"#0d0887\"], [0.1111111111111111, \"#46039f\"], [0.2222222222222222, \"#7201a8\"], [0.3333333333333333, \"#9c179e\"], [0.4444444444444444, \"#bd3786\"], [0.5555555555555556, \"#d8576b\"], [0.6666666666666666, \"#ed7953\"], [0.7777777777777778, \"#fb9f3a\"], [0.8888888888888888, \"#fdca26\"], [1.0, \"#f0f921\"]], \"type\": \"heatmapgl\"}], \"histogram\": [{\"marker\": {\"colorbar\": {\"outlinewidth\": 0, \"ticks\": \"\"}}, \"type\": \"histogram\"}], \"histogram2d\": [{\"colorbar\": {\"outlinewidth\": 0, \"ticks\": \"\"}, \"colorscale\": [[0.0, \"#0d0887\"], [0.1111111111111111, \"#46039f\"], [0.2222222222222222, \"#7201a8\"], [0.3333333333333333, \"#9c179e\"], [0.4444444444444444, \"#bd3786\"], [0.5555555555555556, \"#d8576b\"], [0.6666666666666666, \"#ed7953\"], [0.7777777777777778, \"#fb9f3a\"], [0.8888888888888888, \"#fdca26\"], [1.0, \"#f0f921\"]], \"type\": \"histogram2d\"}], \"histogram2dcontour\": [{\"colorbar\": {\"outlinewidth\": 0, \"ticks\": \"\"}, \"colorscale\": [[0.0, \"#0d0887\"], [0.1111111111111111, \"#46039f\"], [0.2222222222222222, \"#7201a8\"], [0.3333333333333333, \"#9c179e\"], [0.4444444444444444, \"#bd3786\"], [0.5555555555555556, \"#d8576b\"], [0.6666666666666666, \"#ed7953\"], [0.7777777777777778, \"#fb9f3a\"], [0.8888888888888888, \"#fdca26\"], [1.0, \"#f0f921\"]], \"type\": \"histogram2dcontour\"}], \"mesh3d\": [{\"colorbar\": {\"outlinewidth\": 0, \"ticks\": \"\"}, \"type\": \"mesh3d\"}], \"parcoords\": [{\"line\": {\"colorbar\": {\"outlinewidth\": 0, \"ticks\": \"\"}}, \"type\": \"parcoords\"}], \"pie\": [{\"automargin\": true, \"type\": \"pie\"}], \"scatter\": [{\"marker\": {\"colorbar\": {\"outlinewidth\": 0, \"ticks\": \"\"}}, \"type\": \"scatter\"}], \"scatter3d\": [{\"line\": {\"colorbar\": {\"outlinewidth\": 0, \"ticks\": \"\"}}, \"marker\": {\"colorbar\": {\"outlinewidth\": 0, \"ticks\": \"\"}}, \"type\": \"scatter3d\"}], \"scattercarpet\": [{\"marker\": {\"colorbar\": {\"outlinewidth\": 0, \"ticks\": \"\"}}, \"type\": \"scattercarpet\"}], \"scattergeo\": [{\"marker\": {\"colorbar\": {\"outlinewidth\": 0, \"ticks\": \"\"}}, \"type\": \"scattergeo\"}], \"scattergl\": [{\"marker\": {\"colorbar\": {\"outlinewidth\": 0, \"ticks\": \"\"}}, \"type\": \"scattergl\"}], \"scattermapbox\": [{\"marker\": {\"colorbar\": {\"outlinewidth\": 0, \"ticks\": \"\"}}, \"type\": \"scattermapbox\"}], \"scatterpolar\": [{\"marker\": {\"colorbar\": {\"outlinewidth\": 0, \"ticks\": \"\"}}, \"type\": \"scatterpolar\"}], \"scatterpolargl\": [{\"marker\": {\"colorbar\": {\"outlinewidth\": 0, \"ticks\": \"\"}}, \"type\": \"scatterpolargl\"}], \"scatterternary\": [{\"marker\": {\"colorbar\": {\"outlinewidth\": 0, \"ticks\": \"\"}}, \"type\": \"scatterternary\"}], \"surface\": [{\"colorbar\": {\"outlinewidth\": 0, \"ticks\": \"\"}, \"colorscale\": [[0.0, \"#0d0887\"], [0.1111111111111111, \"#46039f\"], [0.2222222222222222, \"#7201a8\"], [0.3333333333333333, \"#9c179e\"], [0.4444444444444444, \"#bd3786\"], [0.5555555555555556, \"#d8576b\"], [0.6666666666666666, \"#ed7953\"], [0.7777777777777778, \"#fb9f3a\"], [0.8888888888888888, \"#fdca26\"], [1.0, \"#f0f921\"]], \"type\": \"surface\"}], \"table\": [{\"cells\": {\"fill\": {\"color\": \"#EBF0F8\"}, \"line\": {\"color\": \"white\"}}, \"header\": {\"fill\": {\"color\": \"#C8D4E3\"}, \"line\": {\"color\": \"white\"}}, \"type\": \"table\"}]}, \"layout\": {\"annotationdefaults\": {\"arrowcolor\": \"#2a3f5f\", \"arrowhead\": 0, \"arrowwidth\": 1}, \"coloraxis\": {\"colorbar\": {\"outlinewidth\": 0, \"ticks\": \"\"}}, \"colorscale\": {\"diverging\": [[0, \"#8e0152\"], [0.1, \"#c51b7d\"], [0.2, \"#de77ae\"], [0.3, \"#f1b6da\"], [0.4, \"#fde0ef\"], [0.5, \"#f7f7f7\"], [0.6, \"#e6f5d0\"], [0.7, \"#b8e186\"], [0.8, \"#7fbc41\"], [0.9, \"#4d9221\"], [1, \"#276419\"]], \"sequential\": [[0.0, \"#0d0887\"], [0.1111111111111111, \"#46039f\"], [0.2222222222222222, \"#7201a8\"], [0.3333333333333333, \"#9c179e\"], [0.4444444444444444, \"#bd3786\"], [0.5555555555555556, \"#d8576b\"], [0.6666666666666666, \"#ed7953\"], [0.7777777777777778, \"#fb9f3a\"], [0.8888888888888888, \"#fdca26\"], [1.0, \"#f0f921\"]], \"sequentialminus\": [[0.0, \"#0d0887\"], [0.1111111111111111, \"#46039f\"], [0.2222222222222222, \"#7201a8\"], [0.3333333333333333, \"#9c179e\"], [0.4444444444444444, \"#bd3786\"], [0.5555555555555556, \"#d8576b\"], [0.6666666666666666, \"#ed7953\"], [0.7777777777777778, \"#fb9f3a\"], [0.8888888888888888, \"#fdca26\"], [1.0, \"#f0f921\"]]}, \"colorway\": [\"#636efa\", \"#EF553B\", \"#00cc96\", \"#ab63fa\", \"#FFA15A\", \"#19d3f3\", \"#FF6692\", \"#B6E880\", \"#FF97FF\", \"#FECB52\"], \"font\": {\"color\": \"#2a3f5f\"}, \"geo\": {\"bgcolor\": \"white\", \"lakecolor\": \"white\", \"landcolor\": \"#E5ECF6\", \"showlakes\": true, \"showland\": true, \"subunitcolor\": \"white\"}, \"hoverlabel\": {\"align\": \"left\"}, \"hovermode\": \"closest\", \"mapbox\": {\"style\": \"light\"}, \"paper_bgcolor\": \"white\", \"plot_bgcolor\": \"#E5ECF6\", \"polar\": {\"angularaxis\": {\"gridcolor\": \"white\", \"linecolor\": \"white\", \"ticks\": \"\"}, \"bgcolor\": \"#E5ECF6\", \"radialaxis\": {\"gridcolor\": \"white\", \"linecolor\": \"white\", \"ticks\": \"\"}}, \"scene\": {\"xaxis\": {\"backgroundcolor\": \"#E5ECF6\", \"gridcolor\": \"white\", \"gridwidth\": 2, \"linecolor\": \"white\", \"showbackground\": true, \"ticks\": \"\", \"zerolinecolor\": \"white\"}, \"yaxis\": {\"backgroundcolor\": \"#E5ECF6\", \"gridcolor\": \"white\", \"gridwidth\": 2, \"linecolor\": \"white\", \"showbackground\": true, \"ticks\": \"\", \"zerolinecolor\": \"white\"}, \"zaxis\": {\"backgroundcolor\": \"#E5ECF6\", \"gridcolor\": \"white\", \"gridwidth\": 2, \"linecolor\": \"white\", \"showbackground\": true, \"ticks\": \"\", \"zerolinecolor\": \"white\"}}, \"shapedefaults\": {\"line\": {\"color\": \"#2a3f5f\"}}, \"ternary\": {\"aaxis\": {\"gridcolor\": \"white\", \"linecolor\": \"white\", \"ticks\": \"\"}, \"baxis\": {\"gridcolor\": \"white\", \"linecolor\": \"white\", \"ticks\": \"\"}, \"bgcolor\": \"#E5ECF6\", \"caxis\": {\"gridcolor\": \"white\", \"linecolor\": \"white\", \"ticks\": \"\"}}, \"title\": {\"x\": 0.05}, \"xaxis\": {\"automargin\": true, \"gridcolor\": \"white\", \"linecolor\": \"white\", \"ticks\": \"\", \"title\": {\"standoff\": 15}, \"zerolinecolor\": \"white\", \"zerolinewidth\": 2}, \"yaxis\": {\"automargin\": true, \"gridcolor\": \"white\", \"linecolor\": \"white\", \"ticks\": \"\", \"title\": {\"standoff\": 15}, \"zerolinecolor\": \"white\", \"zerolinewidth\": 2}}}, \"title\": {\"text\": \"Recent customers generate the most revenue\"}, \"xaxis\": {\"title\": {\"text\": \"Recency\"}}, \"yaxis\": {\"title\": {\"text\": \"Monetary\"}}},                        {\"responsive\": true}                    ).then(function(){\n",
       "                            \n",
       "var gd = document.getElementById('1b1d2cd8-265f-437e-8b51-8a17a45e9ae0');\n",
       "var x = new MutationObserver(function (mutations, observer) {{\n",
       "        var display = window.getComputedStyle(gd).display;\n",
       "        if (!display || display === 'none') {{\n",
       "            console.log([gd, 'removed!']);\n",
       "            Plotly.purge(gd);\n",
       "            observer.disconnect();\n",
       "        }}\n",
       "}});\n",
       "\n",
       "// Listen for the removal of the full notebook cells\n",
       "var notebookContainer = gd.closest('#notebook-container');\n",
       "if (notebookContainer) {{\n",
       "    x.observe(notebookContainer, {childList: true});\n",
       "}}\n",
       "\n",
       "// Listen for the clearing of the current output cell\n",
       "var outputEl = gd.closest('.output');\n",
       "if (outputEl) {{\n",
       "    x.observe(outputEl, {childList: true});\n",
       "}}\n",
       "\n",
       "                        })                };                });            </script>        </div>"
      ]
     },
     "metadata": {},
     "output_type": "display_data"
    }
   ],
   "source": [
    "plot_data = [\n",
    "    go.Scatter(\n",
    "        x=rfm_segmentation.query(\"RFMScore == '111'\")['Recency'],\n",
    "        y=rfm_segmentation.query(\"RFMScore == '111'\")['Monetary'],\n",
    "        mode='markers',\n",
    "        name='Low',\n",
    "        marker= dict(size= 7,\n",
    "            line= dict(width=1),\n",
    "            color= 'blue',\n",
    "            opacity= 0.8\n",
    "           )\n",
    "    ),\n",
    "        go.Scatter(\n",
    "        x=rfm_segmentation.query(\"RFMScore == '222'\")['Recency'],\n",
    "        y=rfm_segmentation.query(\"RFMScore == '222'\")['Monetary'],\n",
    "        mode='markers',\n",
    "        name='Mid',\n",
    "        marker= dict(size= 9,\n",
    "            line= dict(width=1),\n",
    "            color= 'green',\n",
    "            opacity= 0.5\n",
    "           )\n",
    "    ),\n",
    "        go.Scatter(\n",
    "        x=rfm_segmentation.query(\"RFMScore == '333' \")['Recency'],\n",
    "        y=rfm_segmentation.query(\"RFMScore == '333'\")['Monetary'],\n",
    "        mode='markers',\n",
    "        name='High',\n",
    "        marker= dict(size= 11,\n",
    "            line= dict(width=1),\n",
    "            color= 'orange',\n",
    "            opacity= 0.9\n",
    "           )\n",
    "    ),\n",
    "    go.Scatter(\n",
    "        x=rfm_segmentation.query(\"RFMScore == '444'\")['Recency'],\n",
    "        y=rfm_segmentation.query(\"RFMScore == '444'\")['Monetary'],\n",
    "        mode='markers',\n",
    "        name='Most',\n",
    "        marker= dict(size= 11,\n",
    "            line= dict(width=1),\n",
    "            color= 'red',\n",
    "            opacity= 0.9\n",
    "           )\n",
    "    )\n",
    "]\n",
    "\n",
    "plot_layout = go.Layout(\n",
    "        yaxis= {'title': \"Monetary\"},\n",
    "        xaxis= {'title': \"Recency\"},\n",
    "        title='Recent customers generate the most revenue'\n",
    "    )\n",
    "fig = go.Figure(data=plot_data, layout=plot_layout)\n",
    "pyoff.iplot(fig)"
   ]
  },
  {
   "cell_type": "code",
   "execution_count": 314,
   "metadata": {},
   "outputs": [
    {
     "data": {
      "application/vnd.plotly.v1+json": {
       "config": {
        "linkText": "Export to plot.ly",
        "plotlyServerURL": "https://plot.ly",
        "showLink": false
       },
       "data": [
        {
         "marker": {
          "color": "blue",
          "line": {
           "width": 1
          },
          "opacity": 0.8,
          "size": 7
         },
         "mode": "markers",
         "name": "Low",
         "type": "scatter",
         "x": [
          6,
          5,
          5,
          6,
          11,
          9,
          8,
          3,
          3,
          11,
          11,
          6,
          12,
          8,
          11,
          12,
          9,
          8,
          5,
          7,
          7,
          7,
          9,
          4,
          6,
          5,
          12,
          7,
          11,
          10,
          11,
          8,
          10,
          5,
          9,
          9,
          5,
          4,
          6,
          4,
          11,
          11,
          8,
          11,
          7,
          10,
          10,
          10,
          12,
          11,
          10,
          11,
          10,
          8,
          6,
          12,
          12,
          7,
          12,
          11,
          5,
          5,
          4,
          2,
          12,
          6,
          9,
          9,
          6,
          3,
          8,
          9,
          3,
          8,
          7,
          7,
          8,
          8,
          2,
          4,
          7,
          10,
          10,
          7,
          10,
          4,
          3,
          11,
          5,
          9,
          8,
          7,
          9,
          10,
          7,
          1,
          6,
          10,
          8,
          10,
          6,
          5,
          8,
          6,
          10,
          6,
          6,
          9,
          1,
          7,
          7,
          6,
          6,
          6,
          7,
          5,
          5,
          4,
          11,
          11,
          9,
          5,
          10,
          8,
          10,
          10,
          5,
          8,
          8,
          6,
          7,
          11,
          3,
          11,
          11,
          12,
          5,
          11,
          7,
          10,
          6,
          6,
          4,
          9,
          3,
          3,
          10,
          1,
          5,
          5,
          10,
          4,
          8,
          12,
          5,
          4,
          3,
          8,
          10,
          6,
          3,
          5,
          4,
          1,
          2,
          8,
          6
         ],
         "y": [
          69,
          40,
          144,
          40,
          95,
          35,
          67,
          46,
          96,
          38,
          37,
          105,
          111,
          148,
          41,
          63,
          40,
          209,
          47,
          114,
          68,
          80,
          63,
          195,
          117,
          142,
          83,
          48,
          129,
          83,
          147,
          128,
          44,
          99,
          43,
          42,
          66,
          115,
          63,
          104,
          62,
          73,
          80,
          40,
          40,
          102,
          55,
          50,
          115,
          178,
          35,
          35,
          99,
          88,
          125,
          40,
          40,
          59,
          85,
          94,
          133,
          98,
          49,
          180,
          133,
          67,
          73,
          84,
          99,
          65,
          141,
          119,
          114,
          56,
          62,
          48,
          78,
          53,
          51,
          50,
          139,
          58,
          45,
          170,
          129,
          106,
          214,
          174,
          176,
          70,
          48,
          44,
          139,
          45,
          75,
          263,
          160,
          37,
          144,
          82,
          54,
          98,
          39,
          125,
          152,
          120,
          43,
          111,
          87,
          35,
          58,
          55,
          54,
          51,
          49,
          94,
          112,
          225,
          95,
          48,
          162,
          152,
          95,
          239,
          37,
          61,
          157,
          40,
          109,
          38,
          78,
          37,
          39,
          99,
          39,
          99,
          47,
          48,
          81,
          36,
          59,
          55,
          95,
          61,
          165,
          37,
          48,
          200,
          139,
          93,
          132,
          46,
          46,
          188,
          106,
          106,
          68,
          94,
          95,
          93,
          95,
          125,
          161,
          130,
          38,
          215,
          158
         ]
        },
        {
         "marker": {
          "color": "green",
          "line": {
           "width": 1
          },
          "opacity": 0.5,
          "size": 9
         },
         "mode": "markers",
         "name": "Mid",
         "type": "scatter",
         "x": [
          26,
          15,
          24,
          13,
          17,
          15,
          25,
          19,
          21,
          14,
          22,
          18,
          15,
          21,
          21,
          15,
          14,
          25,
          14,
          17,
          14,
          16,
          18,
          26,
          16,
          15,
          13,
          15,
          18,
          18,
          18,
          21,
          22,
          21,
          17,
          16,
          15,
          13,
          13,
          17,
          18,
          26,
          23,
          15,
          22,
          15,
          24,
          16,
          18,
          27,
          19,
          18,
          22,
          16,
          24,
          21,
          18,
          15,
          21,
          19,
          18,
          20,
          16,
          14,
          20,
          19,
          17,
          13,
          21,
          17,
          13,
          14,
          17,
          18
         ],
         "y": [
          15,
          14,
          23,
          15,
          22,
          33,
          18,
          18,
          14,
          19,
          28,
          32,
          33,
          33,
          24,
          14,
          34,
          19,
          24,
          21,
          14,
          18,
          18,
          20,
          23,
          16,
          26,
          23,
          19,
          23,
          29,
          13,
          14,
          14,
          14,
          30,
          29,
          14,
          14,
          16,
          21,
          19,
          19,
          25,
          15,
          27,
          33,
          14,
          14,
          33,
          25,
          23,
          24,
          18,
          32,
          16,
          13,
          13,
          15,
          24,
          13,
          23,
          18,
          22,
          25,
          27,
          28,
          33,
          23,
          34,
          14,
          26,
          33,
          13
         ]
        },
        {
         "marker": {
          "color": "orange",
          "line": {
           "width": 1
          },
          "opacity": 0.9,
          "size": 11
         },
         "mode": "markers",
         "name": "High",
         "type": "scatter",
         "x": [
          40,
          47,
          45,
          36,
          48,
          50,
          46,
          42,
          51,
          43,
          52,
          41,
          40,
          52,
          52,
          32,
          52,
          52,
          30,
          52,
          48,
          38,
          42,
          50,
          29,
          48,
          42,
          37,
          42,
          45,
          47,
          45,
          43,
          41,
          42,
          35,
          48,
          51,
          32,
          30,
          37,
          48,
          44,
          45,
          46,
          51,
          40,
          48,
          46,
          48,
          42,
          47,
          43,
          51,
          52,
          40,
          36,
          50,
          38,
          49,
          40,
          50,
          37,
          48,
          46,
          37,
          36,
          50,
          46,
          46,
          46,
          35,
          39
         ],
         "y": [
          7,
          12,
          10,
          12,
          6,
          12,
          6,
          12,
          11,
          12,
          6,
          8,
          7,
          11,
          11,
          11,
          10,
          9,
          7,
          9,
          8,
          11,
          8,
          6,
          8,
          7,
          10,
          7,
          11,
          8,
          12,
          6,
          11,
          6,
          7,
          12,
          9,
          9,
          10,
          12,
          6,
          11,
          9,
          8,
          8,
          10,
          9,
          8,
          6,
          8,
          11,
          12,
          7,
          10,
          8,
          6,
          6,
          7,
          12,
          7,
          8,
          6,
          7,
          8,
          7,
          9,
          6,
          9,
          12,
          6,
          12,
          11,
          7
         ]
        },
        {
         "marker": {
          "color": "red",
          "line": {
           "width": 1
          },
          "opacity": 0.9,
          "size": 11
         },
         "mode": "markers",
         "name": "Most",
         "type": "scatter",
         "x": [
          79,
          61,
          54,
          60,
          58,
          63,
          54,
          60,
          75,
          61,
          60,
          85,
          70,
          58,
          90,
          70,
          70,
          59,
          69,
          73,
          61,
          55,
          75,
          67,
          55,
          69,
          66,
          58,
          70,
          71,
          89,
          54,
          68,
          79,
          81,
          65,
          57,
          60,
          97,
          56,
          63,
          55,
          54,
          60,
          68,
          59,
          62,
          66,
          65,
          58,
          77,
          72,
          60,
          68,
          64,
          54,
          62,
          58,
          57,
          63,
          65,
          58,
          62,
          65,
          62,
          58,
          72,
          58,
          65,
          60,
          66,
          70,
          58,
          68,
          53,
          59,
          59,
          59,
          61,
          54,
          73,
          53,
          65,
          64,
          69,
          71,
          53,
          63,
          65,
          74,
          61,
          64,
          60,
          55,
          59,
          54,
          71,
          75,
          72,
          72,
          68,
          55,
          68,
          76,
          54,
          85,
          53,
          57,
          67,
          53,
          83,
          57,
          56,
          79,
          62,
          70,
          65,
          59,
          66,
          54,
          68,
          70,
          79,
          67,
          59,
          74,
          84,
          71,
          59,
          60,
          59,
          84,
          57,
          63,
          63,
          54,
          62,
          59,
          65,
          64,
          54
         ],
         "y": [
          3,
          0,
          1,
          4,
          3,
          4,
          5,
          2,
          0,
          5,
          1,
          2,
          1,
          2,
          0,
          4,
          4,
          5,
          0,
          5,
          0,
          4,
          1,
          1,
          0,
          0,
          0,
          0,
          0,
          1,
          4,
          2,
          0,
          0,
          3,
          1,
          1,
          0,
          4,
          5,
          0,
          0,
          4,
          0,
          5,
          5,
          1,
          2,
          4,
          1,
          3,
          5,
          2,
          1,
          0,
          5,
          4,
          0,
          5,
          2,
          3,
          0,
          2,
          3,
          2,
          0,
          2,
          4,
          0,
          3,
          0,
          5,
          4,
          1,
          4,
          0,
          4,
          5,
          4,
          4,
          1,
          1,
          1,
          3,
          5,
          4,
          4,
          1,
          0,
          1,
          4,
          2,
          3,
          0,
          3,
          0,
          1,
          4,
          4,
          1,
          2,
          2,
          5,
          2,
          0,
          0,
          5,
          0,
          3,
          1,
          3,
          3,
          3,
          2,
          1,
          2,
          0,
          0,
          2,
          2,
          0,
          0,
          1,
          5,
          1,
          5,
          1,
          5,
          0,
          0,
          3,
          2,
          1,
          3,
          2,
          0,
          3,
          3,
          5,
          5,
          2
         ]
        }
       ],
       "layout": {
        "template": {
         "data": {
          "bar": [
           {
            "error_x": {
             "color": "#2a3f5f"
            },
            "error_y": {
             "color": "#2a3f5f"
            },
            "marker": {
             "line": {
              "color": "#E5ECF6",
              "width": 0.5
             }
            },
            "type": "bar"
           }
          ],
          "barpolar": [
           {
            "marker": {
             "line": {
              "color": "#E5ECF6",
              "width": 0.5
             }
            },
            "type": "barpolar"
           }
          ],
          "carpet": [
           {
            "aaxis": {
             "endlinecolor": "#2a3f5f",
             "gridcolor": "white",
             "linecolor": "white",
             "minorgridcolor": "white",
             "startlinecolor": "#2a3f5f"
            },
            "baxis": {
             "endlinecolor": "#2a3f5f",
             "gridcolor": "white",
             "linecolor": "white",
             "minorgridcolor": "white",
             "startlinecolor": "#2a3f5f"
            },
            "type": "carpet"
           }
          ],
          "choropleth": [
           {
            "colorbar": {
             "outlinewidth": 0,
             "ticks": ""
            },
            "type": "choropleth"
           }
          ],
          "contour": [
           {
            "colorbar": {
             "outlinewidth": 0,
             "ticks": ""
            },
            "colorscale": [
             [
              0,
              "#0d0887"
             ],
             [
              0.1111111111111111,
              "#46039f"
             ],
             [
              0.2222222222222222,
              "#7201a8"
             ],
             [
              0.3333333333333333,
              "#9c179e"
             ],
             [
              0.4444444444444444,
              "#bd3786"
             ],
             [
              0.5555555555555556,
              "#d8576b"
             ],
             [
              0.6666666666666666,
              "#ed7953"
             ],
             [
              0.7777777777777778,
              "#fb9f3a"
             ],
             [
              0.8888888888888888,
              "#fdca26"
             ],
             [
              1,
              "#f0f921"
             ]
            ],
            "type": "contour"
           }
          ],
          "contourcarpet": [
           {
            "colorbar": {
             "outlinewidth": 0,
             "ticks": ""
            },
            "type": "contourcarpet"
           }
          ],
          "heatmap": [
           {
            "colorbar": {
             "outlinewidth": 0,
             "ticks": ""
            },
            "colorscale": [
             [
              0,
              "#0d0887"
             ],
             [
              0.1111111111111111,
              "#46039f"
             ],
             [
              0.2222222222222222,
              "#7201a8"
             ],
             [
              0.3333333333333333,
              "#9c179e"
             ],
             [
              0.4444444444444444,
              "#bd3786"
             ],
             [
              0.5555555555555556,
              "#d8576b"
             ],
             [
              0.6666666666666666,
              "#ed7953"
             ],
             [
              0.7777777777777778,
              "#fb9f3a"
             ],
             [
              0.8888888888888888,
              "#fdca26"
             ],
             [
              1,
              "#f0f921"
             ]
            ],
            "type": "heatmap"
           }
          ],
          "heatmapgl": [
           {
            "colorbar": {
             "outlinewidth": 0,
             "ticks": ""
            },
            "colorscale": [
             [
              0,
              "#0d0887"
             ],
             [
              0.1111111111111111,
              "#46039f"
             ],
             [
              0.2222222222222222,
              "#7201a8"
             ],
             [
              0.3333333333333333,
              "#9c179e"
             ],
             [
              0.4444444444444444,
              "#bd3786"
             ],
             [
              0.5555555555555556,
              "#d8576b"
             ],
             [
              0.6666666666666666,
              "#ed7953"
             ],
             [
              0.7777777777777778,
              "#fb9f3a"
             ],
             [
              0.8888888888888888,
              "#fdca26"
             ],
             [
              1,
              "#f0f921"
             ]
            ],
            "type": "heatmapgl"
           }
          ],
          "histogram": [
           {
            "marker": {
             "colorbar": {
              "outlinewidth": 0,
              "ticks": ""
             }
            },
            "type": "histogram"
           }
          ],
          "histogram2d": [
           {
            "colorbar": {
             "outlinewidth": 0,
             "ticks": ""
            },
            "colorscale": [
             [
              0,
              "#0d0887"
             ],
             [
              0.1111111111111111,
              "#46039f"
             ],
             [
              0.2222222222222222,
              "#7201a8"
             ],
             [
              0.3333333333333333,
              "#9c179e"
             ],
             [
              0.4444444444444444,
              "#bd3786"
             ],
             [
              0.5555555555555556,
              "#d8576b"
             ],
             [
              0.6666666666666666,
              "#ed7953"
             ],
             [
              0.7777777777777778,
              "#fb9f3a"
             ],
             [
              0.8888888888888888,
              "#fdca26"
             ],
             [
              1,
              "#f0f921"
             ]
            ],
            "type": "histogram2d"
           }
          ],
          "histogram2dcontour": [
           {
            "colorbar": {
             "outlinewidth": 0,
             "ticks": ""
            },
            "colorscale": [
             [
              0,
              "#0d0887"
             ],
             [
              0.1111111111111111,
              "#46039f"
             ],
             [
              0.2222222222222222,
              "#7201a8"
             ],
             [
              0.3333333333333333,
              "#9c179e"
             ],
             [
              0.4444444444444444,
              "#bd3786"
             ],
             [
              0.5555555555555556,
              "#d8576b"
             ],
             [
              0.6666666666666666,
              "#ed7953"
             ],
             [
              0.7777777777777778,
              "#fb9f3a"
             ],
             [
              0.8888888888888888,
              "#fdca26"
             ],
             [
              1,
              "#f0f921"
             ]
            ],
            "type": "histogram2dcontour"
           }
          ],
          "mesh3d": [
           {
            "colorbar": {
             "outlinewidth": 0,
             "ticks": ""
            },
            "type": "mesh3d"
           }
          ],
          "parcoords": [
           {
            "line": {
             "colorbar": {
              "outlinewidth": 0,
              "ticks": ""
             }
            },
            "type": "parcoords"
           }
          ],
          "pie": [
           {
            "automargin": true,
            "type": "pie"
           }
          ],
          "scatter": [
           {
            "marker": {
             "colorbar": {
              "outlinewidth": 0,
              "ticks": ""
             }
            },
            "type": "scatter"
           }
          ],
          "scatter3d": [
           {
            "line": {
             "colorbar": {
              "outlinewidth": 0,
              "ticks": ""
             }
            },
            "marker": {
             "colorbar": {
              "outlinewidth": 0,
              "ticks": ""
             }
            },
            "type": "scatter3d"
           }
          ],
          "scattercarpet": [
           {
            "marker": {
             "colorbar": {
              "outlinewidth": 0,
              "ticks": ""
             }
            },
            "type": "scattercarpet"
           }
          ],
          "scattergeo": [
           {
            "marker": {
             "colorbar": {
              "outlinewidth": 0,
              "ticks": ""
             }
            },
            "type": "scattergeo"
           }
          ],
          "scattergl": [
           {
            "marker": {
             "colorbar": {
              "outlinewidth": 0,
              "ticks": ""
             }
            },
            "type": "scattergl"
           }
          ],
          "scattermapbox": [
           {
            "marker": {
             "colorbar": {
              "outlinewidth": 0,
              "ticks": ""
             }
            },
            "type": "scattermapbox"
           }
          ],
          "scatterpolar": [
           {
            "marker": {
             "colorbar": {
              "outlinewidth": 0,
              "ticks": ""
             }
            },
            "type": "scatterpolar"
           }
          ],
          "scatterpolargl": [
           {
            "marker": {
             "colorbar": {
              "outlinewidth": 0,
              "ticks": ""
             }
            },
            "type": "scatterpolargl"
           }
          ],
          "scatterternary": [
           {
            "marker": {
             "colorbar": {
              "outlinewidth": 0,
              "ticks": ""
             }
            },
            "type": "scatterternary"
           }
          ],
          "surface": [
           {
            "colorbar": {
             "outlinewidth": 0,
             "ticks": ""
            },
            "colorscale": [
             [
              0,
              "#0d0887"
             ],
             [
              0.1111111111111111,
              "#46039f"
             ],
             [
              0.2222222222222222,
              "#7201a8"
             ],
             [
              0.3333333333333333,
              "#9c179e"
             ],
             [
              0.4444444444444444,
              "#bd3786"
             ],
             [
              0.5555555555555556,
              "#d8576b"
             ],
             [
              0.6666666666666666,
              "#ed7953"
             ],
             [
              0.7777777777777778,
              "#fb9f3a"
             ],
             [
              0.8888888888888888,
              "#fdca26"
             ],
             [
              1,
              "#f0f921"
             ]
            ],
            "type": "surface"
           }
          ],
          "table": [
           {
            "cells": {
             "fill": {
              "color": "#EBF0F8"
             },
             "line": {
              "color": "white"
             }
            },
            "header": {
             "fill": {
              "color": "#C8D4E3"
             },
             "line": {
              "color": "white"
             }
            },
            "type": "table"
           }
          ]
         },
         "layout": {
          "annotationdefaults": {
           "arrowcolor": "#2a3f5f",
           "arrowhead": 0,
           "arrowwidth": 1
          },
          "coloraxis": {
           "colorbar": {
            "outlinewidth": 0,
            "ticks": ""
           }
          },
          "colorscale": {
           "diverging": [
            [
             0,
             "#8e0152"
            ],
            [
             0.1,
             "#c51b7d"
            ],
            [
             0.2,
             "#de77ae"
            ],
            [
             0.3,
             "#f1b6da"
            ],
            [
             0.4,
             "#fde0ef"
            ],
            [
             0.5,
             "#f7f7f7"
            ],
            [
             0.6,
             "#e6f5d0"
            ],
            [
             0.7,
             "#b8e186"
            ],
            [
             0.8,
             "#7fbc41"
            ],
            [
             0.9,
             "#4d9221"
            ],
            [
             1,
             "#276419"
            ]
           ],
           "sequential": [
            [
             0,
             "#0d0887"
            ],
            [
             0.1111111111111111,
             "#46039f"
            ],
            [
             0.2222222222222222,
             "#7201a8"
            ],
            [
             0.3333333333333333,
             "#9c179e"
            ],
            [
             0.4444444444444444,
             "#bd3786"
            ],
            [
             0.5555555555555556,
             "#d8576b"
            ],
            [
             0.6666666666666666,
             "#ed7953"
            ],
            [
             0.7777777777777778,
             "#fb9f3a"
            ],
            [
             0.8888888888888888,
             "#fdca26"
            ],
            [
             1,
             "#f0f921"
            ]
           ],
           "sequentialminus": [
            [
             0,
             "#0d0887"
            ],
            [
             0.1111111111111111,
             "#46039f"
            ],
            [
             0.2222222222222222,
             "#7201a8"
            ],
            [
             0.3333333333333333,
             "#9c179e"
            ],
            [
             0.4444444444444444,
             "#bd3786"
            ],
            [
             0.5555555555555556,
             "#d8576b"
            ],
            [
             0.6666666666666666,
             "#ed7953"
            ],
            [
             0.7777777777777778,
             "#fb9f3a"
            ],
            [
             0.8888888888888888,
             "#fdca26"
            ],
            [
             1,
             "#f0f921"
            ]
           ]
          },
          "colorway": [
           "#636efa",
           "#EF553B",
           "#00cc96",
           "#ab63fa",
           "#FFA15A",
           "#19d3f3",
           "#FF6692",
           "#B6E880",
           "#FF97FF",
           "#FECB52"
          ],
          "font": {
           "color": "#2a3f5f"
          },
          "geo": {
           "bgcolor": "white",
           "lakecolor": "white",
           "landcolor": "#E5ECF6",
           "showlakes": true,
           "showland": true,
           "subunitcolor": "white"
          },
          "hoverlabel": {
           "align": "left"
          },
          "hovermode": "closest",
          "mapbox": {
           "style": "light"
          },
          "paper_bgcolor": "white",
          "plot_bgcolor": "#E5ECF6",
          "polar": {
           "angularaxis": {
            "gridcolor": "white",
            "linecolor": "white",
            "ticks": ""
           },
           "bgcolor": "#E5ECF6",
           "radialaxis": {
            "gridcolor": "white",
            "linecolor": "white",
            "ticks": ""
           }
          },
          "scene": {
           "xaxis": {
            "backgroundcolor": "#E5ECF6",
            "gridcolor": "white",
            "gridwidth": 2,
            "linecolor": "white",
            "showbackground": true,
            "ticks": "",
            "zerolinecolor": "white"
           },
           "yaxis": {
            "backgroundcolor": "#E5ECF6",
            "gridcolor": "white",
            "gridwidth": 2,
            "linecolor": "white",
            "showbackground": true,
            "ticks": "",
            "zerolinecolor": "white"
           },
           "zaxis": {
            "backgroundcolor": "#E5ECF6",
            "gridcolor": "white",
            "gridwidth": 2,
            "linecolor": "white",
            "showbackground": true,
            "ticks": "",
            "zerolinecolor": "white"
           }
          },
          "shapedefaults": {
           "line": {
            "color": "#2a3f5f"
           }
          },
          "ternary": {
           "aaxis": {
            "gridcolor": "white",
            "linecolor": "white",
            "ticks": ""
           },
           "baxis": {
            "gridcolor": "white",
            "linecolor": "white",
            "ticks": ""
           },
           "bgcolor": "#E5ECF6",
           "caxis": {
            "gridcolor": "white",
            "linecolor": "white",
            "ticks": ""
           }
          },
          "title": {
           "x": 0.05
          },
          "xaxis": {
           "automargin": true,
           "gridcolor": "white",
           "linecolor": "white",
           "ticks": "",
           "title": {
            "standoff": 15
           },
           "zerolinecolor": "white",
           "zerolinewidth": 2
          },
          "yaxis": {
           "automargin": true,
           "gridcolor": "white",
           "linecolor": "white",
           "ticks": "",
           "title": {
            "standoff": 15
           },
           "zerolinecolor": "white",
           "zerolinewidth": 2
          }
         }
        },
        "title": {
         "text": "Frequent Customers are the Most Recent customers"
        },
        "xaxis": {
         "title": {
          "text": "Frequency"
         }
        },
        "yaxis": {
         "title": {
          "text": "Recency"
         }
        }
       }
      },
      "text/html": [
       "<div>                            <div id=\"9d12bd26-37f9-4804-bd36-6ada0dfb6856\" class=\"plotly-graph-div\" style=\"height:525px; width:100%;\"></div>            <script type=\"text/javascript\">                require([\"plotly\"], function(Plotly) {                    window.PLOTLYENV=window.PLOTLYENV || {};                                    if (document.getElementById(\"9d12bd26-37f9-4804-bd36-6ada0dfb6856\")) {                    Plotly.newPlot(                        \"9d12bd26-37f9-4804-bd36-6ada0dfb6856\",                        [{\"marker\": {\"color\": \"blue\", \"line\": {\"width\": 1}, \"opacity\": 0.8, \"size\": 7}, \"mode\": \"markers\", \"name\": \"Low\", \"type\": \"scatter\", \"x\": [6, 5, 5, 6, 11, 9, 8, 3, 3, 11, 11, 6, 12, 8, 11, 12, 9, 8, 5, 7, 7, 7, 9, 4, 6, 5, 12, 7, 11, 10, 11, 8, 10, 5, 9, 9, 5, 4, 6, 4, 11, 11, 8, 11, 7, 10, 10, 10, 12, 11, 10, 11, 10, 8, 6, 12, 12, 7, 12, 11, 5, 5, 4, 2, 12, 6, 9, 9, 6, 3, 8, 9, 3, 8, 7, 7, 8, 8, 2, 4, 7, 10, 10, 7, 10, 4, 3, 11, 5, 9, 8, 7, 9, 10, 7, 1, 6, 10, 8, 10, 6, 5, 8, 6, 10, 6, 6, 9, 1, 7, 7, 6, 6, 6, 7, 5, 5, 4, 11, 11, 9, 5, 10, 8, 10, 10, 5, 8, 8, 6, 7, 11, 3, 11, 11, 12, 5, 11, 7, 10, 6, 6, 4, 9, 3, 3, 10, 1, 5, 5, 10, 4, 8, 12, 5, 4, 3, 8, 10, 6, 3, 5, 4, 1, 2, 8, 6], \"y\": [69, 40, 144, 40, 95, 35, 67, 46, 96, 38, 37, 105, 111, 148, 41, 63, 40, 209, 47, 114, 68, 80, 63, 195, 117, 142, 83, 48, 129, 83, 147, 128, 44, 99, 43, 42, 66, 115, 63, 104, 62, 73, 80, 40, 40, 102, 55, 50, 115, 178, 35, 35, 99, 88, 125, 40, 40, 59, 85, 94, 133, 98, 49, 180, 133, 67, 73, 84, 99, 65, 141, 119, 114, 56, 62, 48, 78, 53, 51, 50, 139, 58, 45, 170, 129, 106, 214, 174, 176, 70, 48, 44, 139, 45, 75, 263, 160, 37, 144, 82, 54, 98, 39, 125, 152, 120, 43, 111, 87, 35, 58, 55, 54, 51, 49, 94, 112, 225, 95, 48, 162, 152, 95, 239, 37, 61, 157, 40, 109, 38, 78, 37, 39, 99, 39, 99, 47, 48, 81, 36, 59, 55, 95, 61, 165, 37, 48, 200, 139, 93, 132, 46, 46, 188, 106, 106, 68, 94, 95, 93, 95, 125, 161, 130, 38, 215, 158]}, {\"marker\": {\"color\": \"green\", \"line\": {\"width\": 1}, \"opacity\": 0.5, \"size\": 9}, \"mode\": \"markers\", \"name\": \"Mid\", \"type\": \"scatter\", \"x\": [26, 15, 24, 13, 17, 15, 25, 19, 21, 14, 22, 18, 15, 21, 21, 15, 14, 25, 14, 17, 14, 16, 18, 26, 16, 15, 13, 15, 18, 18, 18, 21, 22, 21, 17, 16, 15, 13, 13, 17, 18, 26, 23, 15, 22, 15, 24, 16, 18, 27, 19, 18, 22, 16, 24, 21, 18, 15, 21, 19, 18, 20, 16, 14, 20, 19, 17, 13, 21, 17, 13, 14, 17, 18], \"y\": [15, 14, 23, 15, 22, 33, 18, 18, 14, 19, 28, 32, 33, 33, 24, 14, 34, 19, 24, 21, 14, 18, 18, 20, 23, 16, 26, 23, 19, 23, 29, 13, 14, 14, 14, 30, 29, 14, 14, 16, 21, 19, 19, 25, 15, 27, 33, 14, 14, 33, 25, 23, 24, 18, 32, 16, 13, 13, 15, 24, 13, 23, 18, 22, 25, 27, 28, 33, 23, 34, 14, 26, 33, 13]}, {\"marker\": {\"color\": \"orange\", \"line\": {\"width\": 1}, \"opacity\": 0.9, \"size\": 11}, \"mode\": \"markers\", \"name\": \"High\", \"type\": \"scatter\", \"x\": [40, 47, 45, 36, 48, 50, 46, 42, 51, 43, 52, 41, 40, 52, 52, 32, 52, 52, 30, 52, 48, 38, 42, 50, 29, 48, 42, 37, 42, 45, 47, 45, 43, 41, 42, 35, 48, 51, 32, 30, 37, 48, 44, 45, 46, 51, 40, 48, 46, 48, 42, 47, 43, 51, 52, 40, 36, 50, 38, 49, 40, 50, 37, 48, 46, 37, 36, 50, 46, 46, 46, 35, 39], \"y\": [7, 12, 10, 12, 6, 12, 6, 12, 11, 12, 6, 8, 7, 11, 11, 11, 10, 9, 7, 9, 8, 11, 8, 6, 8, 7, 10, 7, 11, 8, 12, 6, 11, 6, 7, 12, 9, 9, 10, 12, 6, 11, 9, 8, 8, 10, 9, 8, 6, 8, 11, 12, 7, 10, 8, 6, 6, 7, 12, 7, 8, 6, 7, 8, 7, 9, 6, 9, 12, 6, 12, 11, 7]}, {\"marker\": {\"color\": \"red\", \"line\": {\"width\": 1}, \"opacity\": 0.9, \"size\": 11}, \"mode\": \"markers\", \"name\": \"Most\", \"type\": \"scatter\", \"x\": [79, 61, 54, 60, 58, 63, 54, 60, 75, 61, 60, 85, 70, 58, 90, 70, 70, 59, 69, 73, 61, 55, 75, 67, 55, 69, 66, 58, 70, 71, 89, 54, 68, 79, 81, 65, 57, 60, 97, 56, 63, 55, 54, 60, 68, 59, 62, 66, 65, 58, 77, 72, 60, 68, 64, 54, 62, 58, 57, 63, 65, 58, 62, 65, 62, 58, 72, 58, 65, 60, 66, 70, 58, 68, 53, 59, 59, 59, 61, 54, 73, 53, 65, 64, 69, 71, 53, 63, 65, 74, 61, 64, 60, 55, 59, 54, 71, 75, 72, 72, 68, 55, 68, 76, 54, 85, 53, 57, 67, 53, 83, 57, 56, 79, 62, 70, 65, 59, 66, 54, 68, 70, 79, 67, 59, 74, 84, 71, 59, 60, 59, 84, 57, 63, 63, 54, 62, 59, 65, 64, 54], \"y\": [3, 0, 1, 4, 3, 4, 5, 2, 0, 5, 1, 2, 1, 2, 0, 4, 4, 5, 0, 5, 0, 4, 1, 1, 0, 0, 0, 0, 0, 1, 4, 2, 0, 0, 3, 1, 1, 0, 4, 5, 0, 0, 4, 0, 5, 5, 1, 2, 4, 1, 3, 5, 2, 1, 0, 5, 4, 0, 5, 2, 3, 0, 2, 3, 2, 0, 2, 4, 0, 3, 0, 5, 4, 1, 4, 0, 4, 5, 4, 4, 1, 1, 1, 3, 5, 4, 4, 1, 0, 1, 4, 2, 3, 0, 3, 0, 1, 4, 4, 1, 2, 2, 5, 2, 0, 0, 5, 0, 3, 1, 3, 3, 3, 2, 1, 2, 0, 0, 2, 2, 0, 0, 1, 5, 1, 5, 1, 5, 0, 0, 3, 2, 1, 3, 2, 0, 3, 3, 5, 5, 2]}],                        {\"template\": {\"data\": {\"bar\": [{\"error_x\": {\"color\": \"#2a3f5f\"}, \"error_y\": {\"color\": \"#2a3f5f\"}, \"marker\": {\"line\": {\"color\": \"#E5ECF6\", \"width\": 0.5}}, \"type\": \"bar\"}], \"barpolar\": [{\"marker\": {\"line\": {\"color\": \"#E5ECF6\", \"width\": 0.5}}, \"type\": \"barpolar\"}], \"carpet\": [{\"aaxis\": {\"endlinecolor\": \"#2a3f5f\", \"gridcolor\": \"white\", \"linecolor\": \"white\", \"minorgridcolor\": \"white\", \"startlinecolor\": \"#2a3f5f\"}, \"baxis\": {\"endlinecolor\": \"#2a3f5f\", \"gridcolor\": \"white\", \"linecolor\": \"white\", \"minorgridcolor\": \"white\", \"startlinecolor\": \"#2a3f5f\"}, \"type\": \"carpet\"}], \"choropleth\": [{\"colorbar\": {\"outlinewidth\": 0, \"ticks\": \"\"}, \"type\": \"choropleth\"}], \"contour\": [{\"colorbar\": {\"outlinewidth\": 0, \"ticks\": \"\"}, \"colorscale\": [[0.0, \"#0d0887\"], [0.1111111111111111, \"#46039f\"], [0.2222222222222222, \"#7201a8\"], [0.3333333333333333, \"#9c179e\"], [0.4444444444444444, \"#bd3786\"], [0.5555555555555556, \"#d8576b\"], [0.6666666666666666, \"#ed7953\"], [0.7777777777777778, \"#fb9f3a\"], [0.8888888888888888, \"#fdca26\"], [1.0, \"#f0f921\"]], \"type\": \"contour\"}], \"contourcarpet\": [{\"colorbar\": {\"outlinewidth\": 0, \"ticks\": \"\"}, \"type\": \"contourcarpet\"}], \"heatmap\": [{\"colorbar\": {\"outlinewidth\": 0, \"ticks\": \"\"}, \"colorscale\": [[0.0, \"#0d0887\"], [0.1111111111111111, \"#46039f\"], [0.2222222222222222, \"#7201a8\"], [0.3333333333333333, \"#9c179e\"], [0.4444444444444444, \"#bd3786\"], [0.5555555555555556, \"#d8576b\"], [0.6666666666666666, \"#ed7953\"], [0.7777777777777778, \"#fb9f3a\"], [0.8888888888888888, \"#fdca26\"], [1.0, \"#f0f921\"]], \"type\": \"heatmap\"}], \"heatmapgl\": [{\"colorbar\": {\"outlinewidth\": 0, \"ticks\": \"\"}, \"colorscale\": [[0.0, \"#0d0887\"], [0.1111111111111111, \"#46039f\"], [0.2222222222222222, \"#7201a8\"], [0.3333333333333333, \"#9c179e\"], [0.4444444444444444, \"#bd3786\"], [0.5555555555555556, \"#d8576b\"], [0.6666666666666666, \"#ed7953\"], [0.7777777777777778, \"#fb9f3a\"], [0.8888888888888888, \"#fdca26\"], [1.0, \"#f0f921\"]], \"type\": \"heatmapgl\"}], \"histogram\": [{\"marker\": {\"colorbar\": {\"outlinewidth\": 0, \"ticks\": \"\"}}, \"type\": \"histogram\"}], \"histogram2d\": [{\"colorbar\": {\"outlinewidth\": 0, \"ticks\": \"\"}, \"colorscale\": [[0.0, \"#0d0887\"], [0.1111111111111111, \"#46039f\"], [0.2222222222222222, \"#7201a8\"], [0.3333333333333333, \"#9c179e\"], [0.4444444444444444, \"#bd3786\"], [0.5555555555555556, \"#d8576b\"], [0.6666666666666666, \"#ed7953\"], [0.7777777777777778, \"#fb9f3a\"], [0.8888888888888888, \"#fdca26\"], [1.0, \"#f0f921\"]], \"type\": \"histogram2d\"}], \"histogram2dcontour\": [{\"colorbar\": {\"outlinewidth\": 0, \"ticks\": \"\"}, \"colorscale\": [[0.0, \"#0d0887\"], [0.1111111111111111, \"#46039f\"], [0.2222222222222222, \"#7201a8\"], [0.3333333333333333, \"#9c179e\"], [0.4444444444444444, \"#bd3786\"], [0.5555555555555556, \"#d8576b\"], [0.6666666666666666, \"#ed7953\"], [0.7777777777777778, \"#fb9f3a\"], [0.8888888888888888, \"#fdca26\"], [1.0, \"#f0f921\"]], \"type\": \"histogram2dcontour\"}], \"mesh3d\": [{\"colorbar\": {\"outlinewidth\": 0, \"ticks\": \"\"}, \"type\": \"mesh3d\"}], \"parcoords\": [{\"line\": {\"colorbar\": {\"outlinewidth\": 0, \"ticks\": \"\"}}, \"type\": \"parcoords\"}], \"pie\": [{\"automargin\": true, \"type\": \"pie\"}], \"scatter\": [{\"marker\": {\"colorbar\": {\"outlinewidth\": 0, \"ticks\": \"\"}}, \"type\": \"scatter\"}], \"scatter3d\": [{\"line\": {\"colorbar\": {\"outlinewidth\": 0, \"ticks\": \"\"}}, \"marker\": {\"colorbar\": {\"outlinewidth\": 0, \"ticks\": \"\"}}, \"type\": \"scatter3d\"}], \"scattercarpet\": [{\"marker\": {\"colorbar\": {\"outlinewidth\": 0, \"ticks\": \"\"}}, \"type\": \"scattercarpet\"}], \"scattergeo\": [{\"marker\": {\"colorbar\": {\"outlinewidth\": 0, \"ticks\": \"\"}}, \"type\": \"scattergeo\"}], \"scattergl\": [{\"marker\": {\"colorbar\": {\"outlinewidth\": 0, \"ticks\": \"\"}}, \"type\": \"scattergl\"}], \"scattermapbox\": [{\"marker\": {\"colorbar\": {\"outlinewidth\": 0, \"ticks\": \"\"}}, \"type\": \"scattermapbox\"}], \"scatterpolar\": [{\"marker\": {\"colorbar\": {\"outlinewidth\": 0, \"ticks\": \"\"}}, \"type\": \"scatterpolar\"}], \"scatterpolargl\": [{\"marker\": {\"colorbar\": {\"outlinewidth\": 0, \"ticks\": \"\"}}, \"type\": \"scatterpolargl\"}], \"scatterternary\": [{\"marker\": {\"colorbar\": {\"outlinewidth\": 0, \"ticks\": \"\"}}, \"type\": \"scatterternary\"}], \"surface\": [{\"colorbar\": {\"outlinewidth\": 0, \"ticks\": \"\"}, \"colorscale\": [[0.0, \"#0d0887\"], [0.1111111111111111, \"#46039f\"], [0.2222222222222222, \"#7201a8\"], [0.3333333333333333, \"#9c179e\"], [0.4444444444444444, \"#bd3786\"], [0.5555555555555556, \"#d8576b\"], [0.6666666666666666, \"#ed7953\"], [0.7777777777777778, \"#fb9f3a\"], [0.8888888888888888, \"#fdca26\"], [1.0, \"#f0f921\"]], \"type\": \"surface\"}], \"table\": [{\"cells\": {\"fill\": {\"color\": \"#EBF0F8\"}, \"line\": {\"color\": \"white\"}}, \"header\": {\"fill\": {\"color\": \"#C8D4E3\"}, \"line\": {\"color\": \"white\"}}, \"type\": \"table\"}]}, \"layout\": {\"annotationdefaults\": {\"arrowcolor\": \"#2a3f5f\", \"arrowhead\": 0, \"arrowwidth\": 1}, \"coloraxis\": {\"colorbar\": {\"outlinewidth\": 0, \"ticks\": \"\"}}, \"colorscale\": {\"diverging\": [[0, \"#8e0152\"], [0.1, \"#c51b7d\"], [0.2, \"#de77ae\"], [0.3, \"#f1b6da\"], [0.4, \"#fde0ef\"], [0.5, \"#f7f7f7\"], [0.6, \"#e6f5d0\"], [0.7, \"#b8e186\"], [0.8, \"#7fbc41\"], [0.9, \"#4d9221\"], [1, \"#276419\"]], \"sequential\": [[0.0, \"#0d0887\"], [0.1111111111111111, \"#46039f\"], [0.2222222222222222, \"#7201a8\"], [0.3333333333333333, \"#9c179e\"], [0.4444444444444444, \"#bd3786\"], [0.5555555555555556, \"#d8576b\"], [0.6666666666666666, \"#ed7953\"], [0.7777777777777778, \"#fb9f3a\"], [0.8888888888888888, \"#fdca26\"], [1.0, \"#f0f921\"]], \"sequentialminus\": [[0.0, \"#0d0887\"], [0.1111111111111111, \"#46039f\"], [0.2222222222222222, \"#7201a8\"], [0.3333333333333333, \"#9c179e\"], [0.4444444444444444, \"#bd3786\"], [0.5555555555555556, \"#d8576b\"], [0.6666666666666666, \"#ed7953\"], [0.7777777777777778, \"#fb9f3a\"], [0.8888888888888888, \"#fdca26\"], [1.0, \"#f0f921\"]]}, \"colorway\": [\"#636efa\", \"#EF553B\", \"#00cc96\", \"#ab63fa\", \"#FFA15A\", \"#19d3f3\", \"#FF6692\", \"#B6E880\", \"#FF97FF\", \"#FECB52\"], \"font\": {\"color\": \"#2a3f5f\"}, \"geo\": {\"bgcolor\": \"white\", \"lakecolor\": \"white\", \"landcolor\": \"#E5ECF6\", \"showlakes\": true, \"showland\": true, \"subunitcolor\": \"white\"}, \"hoverlabel\": {\"align\": \"left\"}, \"hovermode\": \"closest\", \"mapbox\": {\"style\": \"light\"}, \"paper_bgcolor\": \"white\", \"plot_bgcolor\": \"#E5ECF6\", \"polar\": {\"angularaxis\": {\"gridcolor\": \"white\", \"linecolor\": \"white\", \"ticks\": \"\"}, \"bgcolor\": \"#E5ECF6\", \"radialaxis\": {\"gridcolor\": \"white\", \"linecolor\": \"white\", \"ticks\": \"\"}}, \"scene\": {\"xaxis\": {\"backgroundcolor\": \"#E5ECF6\", \"gridcolor\": \"white\", \"gridwidth\": 2, \"linecolor\": \"white\", \"showbackground\": true, \"ticks\": \"\", \"zerolinecolor\": \"white\"}, \"yaxis\": {\"backgroundcolor\": \"#E5ECF6\", \"gridcolor\": \"white\", \"gridwidth\": 2, \"linecolor\": \"white\", \"showbackground\": true, \"ticks\": \"\", \"zerolinecolor\": \"white\"}, \"zaxis\": {\"backgroundcolor\": \"#E5ECF6\", \"gridcolor\": \"white\", \"gridwidth\": 2, \"linecolor\": \"white\", \"showbackground\": true, \"ticks\": \"\", \"zerolinecolor\": \"white\"}}, \"shapedefaults\": {\"line\": {\"color\": \"#2a3f5f\"}}, \"ternary\": {\"aaxis\": {\"gridcolor\": \"white\", \"linecolor\": \"white\", \"ticks\": \"\"}, \"baxis\": {\"gridcolor\": \"white\", \"linecolor\": \"white\", \"ticks\": \"\"}, \"bgcolor\": \"#E5ECF6\", \"caxis\": {\"gridcolor\": \"white\", \"linecolor\": \"white\", \"ticks\": \"\"}}, \"title\": {\"x\": 0.05}, \"xaxis\": {\"automargin\": true, \"gridcolor\": \"white\", \"linecolor\": \"white\", \"ticks\": \"\", \"title\": {\"standoff\": 15}, \"zerolinecolor\": \"white\", \"zerolinewidth\": 2}, \"yaxis\": {\"automargin\": true, \"gridcolor\": \"white\", \"linecolor\": \"white\", \"ticks\": \"\", \"title\": {\"standoff\": 15}, \"zerolinecolor\": \"white\", \"zerolinewidth\": 2}}}, \"title\": {\"text\": \"Frequent Customers are the Most Recent customers\"}, \"xaxis\": {\"title\": {\"text\": \"Frequency\"}}, \"yaxis\": {\"title\": {\"text\": \"Recency\"}}},                        {\"responsive\": true}                    ).then(function(){\n",
       "                            \n",
       "var gd = document.getElementById('9d12bd26-37f9-4804-bd36-6ada0dfb6856');\n",
       "var x = new MutationObserver(function (mutations, observer) {{\n",
       "        var display = window.getComputedStyle(gd).display;\n",
       "        if (!display || display === 'none') {{\n",
       "            console.log([gd, 'removed!']);\n",
       "            Plotly.purge(gd);\n",
       "            observer.disconnect();\n",
       "        }}\n",
       "}});\n",
       "\n",
       "// Listen for the removal of the full notebook cells\n",
       "var notebookContainer = gd.closest('#notebook-container');\n",
       "if (notebookContainer) {{\n",
       "    x.observe(notebookContainer, {childList: true});\n",
       "}}\n",
       "\n",
       "// Listen for the clearing of the current output cell\n",
       "var outputEl = gd.closest('.output');\n",
       "if (outputEl) {{\n",
       "    x.observe(outputEl, {childList: true});\n",
       "}}\n",
       "\n",
       "                        })                };                });            </script>        </div>"
      ]
     },
     "metadata": {},
     "output_type": "display_data"
    }
   ],
   "source": [
    "plot_data = [\n",
    "    go.Scatter(\n",
    "        x=rfm_segmentation.query(\"RFMScore == '111'\")['Frequency'],\n",
    "        y=rfm_segmentation.query(\"RFMScore == '111'\")['Recency'],\n",
    "        mode='markers',\n",
    "        name='Low',\n",
    "        marker= dict(size= 7,\n",
    "            line= dict(width=1),\n",
    "            color= 'blue',\n",
    "            opacity= 0.8\n",
    "           )\n",
    "    ),\n",
    "        go.Scatter(\n",
    "        x=rfm_segmentation.query(\"RFMScore == '222'\")['Frequency'],\n",
    "        y=rfm_segmentation.query(\"RFMScore == '222'\")['Recency'],\n",
    "        mode='markers',\n",
    "        name='Mid',\n",
    "        marker= dict(size= 9,\n",
    "            line= dict(width=1),\n",
    "            color= 'green',\n",
    "            opacity= 0.5\n",
    "           )\n",
    "    ),\n",
    "        go.Scatter(\n",
    "        x=rfm_segmentation.query(\"RFMScore == '333' \")['Frequency'],\n",
    "        y=rfm_segmentation.query(\"RFMScore == '333'\")['Recency'],\n",
    "        mode='markers',\n",
    "        name='High',\n",
    "        marker= dict(size= 11,\n",
    "            line= dict(width=1),\n",
    "            color= 'orange',\n",
    "            opacity= 0.9\n",
    "           )\n",
    "    ),\n",
    "    go.Scatter(\n",
    "        x=rfm_segmentation.query(\"RFMScore == '444'\")['Frequency'],\n",
    "        y=rfm_segmentation.query(\"RFMScore == '444'\")['Recency'],\n",
    "        mode='markers',\n",
    "        name='Most',\n",
    "        marker= dict(size= 11,\n",
    "            line= dict(width=1),\n",
    "            color= 'red',\n",
    "            opacity= 0.9\n",
    "           )\n",
    "    )\n",
    "]\n",
    "\n",
    "plot_layout = go.Layout(\n",
    "        yaxis= {'title': \"Recency\"},\n",
    "        xaxis= {'title': \"Frequency\"},\n",
    "        title='Frequent Customers are the Most Recent customers'\n",
    "    )\n",
    "fig = go.Figure(data=plot_data, layout=plot_layout)\n",
    "pyoff.iplot(fig)"
   ]
  },
  {
   "cell_type": "markdown",
   "metadata": {},
   "source": [
    "## Customer Lifetime Values"
   ]
  },
  {
   "cell_type": "code",
   "execution_count": 315,
   "metadata": {},
   "outputs": [
    {
     "data": {
      "text/html": [
       "<div>\n",
       "<style scoped>\n",
       "    .dataframe tbody tr th:only-of-type {\n",
       "        vertical-align: middle;\n",
       "    }\n",
       "\n",
       "    .dataframe tbody tr th {\n",
       "        vertical-align: top;\n",
       "    }\n",
       "\n",
       "    .dataframe thead th {\n",
       "        text-align: right;\n",
       "    }\n",
       "</style>\n",
       "<table border=\"1\" class=\"dataframe\">\n",
       "  <thead>\n",
       "    <tr style=\"text-align: right;\">\n",
       "      <th></th>\n",
       "      <th>Order_Date</th>\n",
       "      <th>Order_ID</th>\n",
       "      <th>Quantity</th>\n",
       "      <th>Sales</th>\n",
       "      <th>Profit</th>\n",
       "    </tr>\n",
       "    <tr>\n",
       "      <th>Customer_ID</th>\n",
       "      <th></th>\n",
       "      <th></th>\n",
       "      <th></th>\n",
       "      <th></th>\n",
       "      <th></th>\n",
       "    </tr>\n",
       "  </thead>\n",
       "  <tbody>\n",
       "    <tr>\n",
       "      <th>AA-10315</th>\n",
       "      <td>275</td>\n",
       "      <td>42</td>\n",
       "      <td>145</td>\n",
       "      <td>13747.41300</td>\n",
       "      <td>447.69050</td>\n",
       "    </tr>\n",
       "    <tr>\n",
       "      <th>AA-10375</th>\n",
       "      <td>316</td>\n",
       "      <td>42</td>\n",
       "      <td>139</td>\n",
       "      <td>5884.19500</td>\n",
       "      <td>677.47740</td>\n",
       "    </tr>\n",
       "    <tr>\n",
       "      <th>AA-10480</th>\n",
       "      <td>351</td>\n",
       "      <td>38</td>\n",
       "      <td>150</td>\n",
       "      <td>17695.58978</td>\n",
       "      <td>1516.47518</td>\n",
       "    </tr>\n",
       "    <tr>\n",
       "      <th>AA-10645</th>\n",
       "      <td>348</td>\n",
       "      <td>73</td>\n",
       "      <td>267</td>\n",
       "      <td>15343.89070</td>\n",
       "      <td>3051.43900</td>\n",
       "    </tr>\n",
       "    <tr>\n",
       "      <th>AA-315</th>\n",
       "      <td>237</td>\n",
       "      <td>8</td>\n",
       "      <td>20</td>\n",
       "      <td>2243.25600</td>\n",
       "      <td>535.56600</td>\n",
       "    </tr>\n",
       "  </tbody>\n",
       "</table>\n",
       "</div>"
      ],
      "text/plain": [
       "             Order_Date  Order_ID  Quantity        Sales      Profit\n",
       "Customer_ID                                                         \n",
       "AA-10315            275        42       145  13747.41300   447.69050\n",
       "AA-10375            316        42       139   5884.19500   677.47740\n",
       "AA-10480            351        38       150  17695.58978  1516.47518\n",
       "AA-10645            348        73       267  15343.89070  3051.43900\n",
       "AA-315              237         8        20   2243.25600   535.56600"
      ]
     },
     "execution_count": 315,
     "metadata": {},
     "output_type": "execute_result"
    }
   ],
   "source": [
    "data_group=data.groupby('Customer_ID').agg({'Order_Date': lambda date: (date.max() - date.min()).days,\n",
    "                                        'Order_ID': lambda num: len(num),\n",
    "                                        'Quantity': lambda quant: quant.sum(),\n",
    "                                        'Sales': lambda price: price.sum(),\n",
    "                                        'Profit':lambda profit: profit.sum()})\n",
    "data_group.head(5)"
   ]
  },
  {
   "cell_type": "markdown",
   "metadata": {},
   "source": [
    "### AOV"
   ]
  },
  {
   "cell_type": "code",
   "execution_count": 316,
   "metadata": {},
   "outputs": [],
   "source": [
    "data_group['AOV']=data_group['Sales']/data_group['Order_ID']"
   ]
  },
  {
   "cell_type": "code",
   "execution_count": 317,
   "metadata": {},
   "outputs": [
    {
     "data": {
      "text/html": [
       "<div>\n",
       "<style scoped>\n",
       "    .dataframe tbody tr th:only-of-type {\n",
       "        vertical-align: middle;\n",
       "    }\n",
       "\n",
       "    .dataframe tbody tr th {\n",
       "        vertical-align: top;\n",
       "    }\n",
       "\n",
       "    .dataframe thead th {\n",
       "        text-align: right;\n",
       "    }\n",
       "</style>\n",
       "<table border=\"1\" class=\"dataframe\">\n",
       "  <thead>\n",
       "    <tr style=\"text-align: right;\">\n",
       "      <th></th>\n",
       "      <th>Order_Date</th>\n",
       "      <th>Order_ID</th>\n",
       "      <th>Quantity</th>\n",
       "      <th>Sales</th>\n",
       "      <th>Profit</th>\n",
       "      <th>AOV</th>\n",
       "    </tr>\n",
       "    <tr>\n",
       "      <th>Customer_ID</th>\n",
       "      <th></th>\n",
       "      <th></th>\n",
       "      <th></th>\n",
       "      <th></th>\n",
       "      <th></th>\n",
       "      <th></th>\n",
       "    </tr>\n",
       "  </thead>\n",
       "  <tbody>\n",
       "    <tr>\n",
       "      <th>AA-10315</th>\n",
       "      <td>275</td>\n",
       "      <td>42</td>\n",
       "      <td>145</td>\n",
       "      <td>13747.41300</td>\n",
       "      <td>447.69050</td>\n",
       "      <td>327.319357</td>\n",
       "    </tr>\n",
       "    <tr>\n",
       "      <th>AA-10375</th>\n",
       "      <td>316</td>\n",
       "      <td>42</td>\n",
       "      <td>139</td>\n",
       "      <td>5884.19500</td>\n",
       "      <td>677.47740</td>\n",
       "      <td>140.099881</td>\n",
       "    </tr>\n",
       "    <tr>\n",
       "      <th>AA-10480</th>\n",
       "      <td>351</td>\n",
       "      <td>38</td>\n",
       "      <td>150</td>\n",
       "      <td>17695.58978</td>\n",
       "      <td>1516.47518</td>\n",
       "      <td>465.673415</td>\n",
       "    </tr>\n",
       "    <tr>\n",
       "      <th>AA-10645</th>\n",
       "      <td>348</td>\n",
       "      <td>73</td>\n",
       "      <td>267</td>\n",
       "      <td>15343.89070</td>\n",
       "      <td>3051.43900</td>\n",
       "      <td>210.190284</td>\n",
       "    </tr>\n",
       "    <tr>\n",
       "      <th>AA-315</th>\n",
       "      <td>237</td>\n",
       "      <td>8</td>\n",
       "      <td>20</td>\n",
       "      <td>2243.25600</td>\n",
       "      <td>535.56600</td>\n",
       "      <td>280.407000</td>\n",
       "    </tr>\n",
       "  </tbody>\n",
       "</table>\n",
       "</div>"
      ],
      "text/plain": [
       "             Order_Date  Order_ID  Quantity        Sales      Profit  \\\n",
       "Customer_ID                                                            \n",
       "AA-10315            275        42       145  13747.41300   447.69050   \n",
       "AA-10375            316        42       139   5884.19500   677.47740   \n",
       "AA-10480            351        38       150  17695.58978  1516.47518   \n",
       "AA-10645            348        73       267  15343.89070  3051.43900   \n",
       "AA-315              237         8        20   2243.25600   535.56600   \n",
       "\n",
       "                    AOV  \n",
       "Customer_ID              \n",
       "AA-10315     327.319357  \n",
       "AA-10375     140.099881  \n",
       "AA-10480     465.673415  \n",
       "AA-10645     210.190284  \n",
       "AA-315       280.407000  "
      ]
     },
     "execution_count": 317,
     "metadata": {},
     "output_type": "execute_result"
    }
   ],
   "source": [
    "data_group.head(5)"
   ]
  },
  {
   "cell_type": "markdown",
   "metadata": {},
   "source": [
    "### Purchase Frequency"
   ]
  },
  {
   "cell_type": "code",
   "execution_count": 318,
   "metadata": {},
   "outputs": [],
   "source": [
    "purchase_frequency=sum(data_group['Order_ID'])/data_group.shape[0]"
   ]
  },
  {
   "cell_type": "markdown",
   "metadata": {},
   "source": [
    "### Repeat Rate and Churn Rate"
   ]
  },
  {
   "cell_type": "code",
   "execution_count": 319,
   "metadata": {},
   "outputs": [],
   "source": [
    "# Repeat Rate\n",
    "repeat_rate=data_group[data_group.Order_ID > 1].shape[0]/data_group.shape[0]"
   ]
  },
  {
   "cell_type": "code",
   "execution_count": 320,
   "metadata": {},
   "outputs": [],
   "source": [
    "#Churn Rate\n",
    "churn_rate=1-repeat_rate"
   ]
  },
  {
   "cell_type": "code",
   "execution_count": 321,
   "metadata": {},
   "outputs": [
    {
     "data": {
      "text/plain": [
       "(32.257861635220124, 0.9955974842767296, 0.004402515723270439)"
      ]
     },
     "execution_count": 321,
     "metadata": {},
     "output_type": "execute_result"
    }
   ],
   "source": [
    "purchase_frequency,repeat_rate,churn_rate"
   ]
  },
  {
   "cell_type": "markdown",
   "metadata": {},
   "source": [
    "### Customer Lifetime Value\n",
    "CLTV = ((Average Order Value x Purchase Frequency)/Churn Rate) x Profit margin."
   ]
  },
  {
   "cell_type": "code",
   "execution_count": 322,
   "metadata": {},
   "outputs": [
    {
     "data": {
      "text/html": [
       "<div>\n",
       "<style scoped>\n",
       "    .dataframe tbody tr th:only-of-type {\n",
       "        vertical-align: middle;\n",
       "    }\n",
       "\n",
       "    .dataframe tbody tr th {\n",
       "        vertical-align: top;\n",
       "    }\n",
       "\n",
       "    .dataframe thead th {\n",
       "        text-align: right;\n",
       "    }\n",
       "</style>\n",
       "<table border=\"1\" class=\"dataframe\">\n",
       "  <thead>\n",
       "    <tr style=\"text-align: right;\">\n",
       "      <th></th>\n",
       "      <th>Order_Date</th>\n",
       "      <th>Order_ID</th>\n",
       "      <th>Quantity</th>\n",
       "      <th>Sales</th>\n",
       "      <th>Profit</th>\n",
       "      <th>AOV</th>\n",
       "      <th>CLV</th>\n",
       "      <th>Cust_Lifetime_Value</th>\n",
       "    </tr>\n",
       "    <tr>\n",
       "      <th>Customer_ID</th>\n",
       "      <th></th>\n",
       "      <th></th>\n",
       "      <th></th>\n",
       "      <th></th>\n",
       "      <th></th>\n",
       "      <th></th>\n",
       "      <th></th>\n",
       "      <th></th>\n",
       "    </tr>\n",
       "  </thead>\n",
       "  <tbody>\n",
       "    <tr>\n",
       "      <th>AA-10315</th>\n",
       "      <td>275</td>\n",
       "      <td>42</td>\n",
       "      <td>145</td>\n",
       "      <td>13747.41300</td>\n",
       "      <td>447.69050</td>\n",
       "      <td>327.319357</td>\n",
       "      <td>2.398316e+06</td>\n",
       "      <td>1.073703e+09</td>\n",
       "    </tr>\n",
       "    <tr>\n",
       "      <th>AA-10375</th>\n",
       "      <td>316</td>\n",
       "      <td>42</td>\n",
       "      <td>139</td>\n",
       "      <td>5884.19500</td>\n",
       "      <td>677.47740</td>\n",
       "      <td>140.099881</td>\n",
       "      <td>1.026532e+06</td>\n",
       "      <td>6.954521e+08</td>\n",
       "    </tr>\n",
       "    <tr>\n",
       "      <th>AA-10480</th>\n",
       "      <td>351</td>\n",
       "      <td>38</td>\n",
       "      <td>150</td>\n",
       "      <td>17695.58978</td>\n",
       "      <td>1516.47518</td>\n",
       "      <td>465.673415</td>\n",
       "      <td>3.412056e+06</td>\n",
       "      <td>5.174298e+09</td>\n",
       "    </tr>\n",
       "    <tr>\n",
       "      <th>AA-10645</th>\n",
       "      <td>348</td>\n",
       "      <td>73</td>\n",
       "      <td>267</td>\n",
       "      <td>15343.89070</td>\n",
       "      <td>3051.43900</td>\n",
       "      <td>210.190284</td>\n",
       "      <td>1.540094e+06</td>\n",
       "      <td>4.699504e+09</td>\n",
       "    </tr>\n",
       "    <tr>\n",
       "      <th>AA-315</th>\n",
       "      <td>237</td>\n",
       "      <td>8</td>\n",
       "      <td>20</td>\n",
       "      <td>2243.25600</td>\n",
       "      <td>535.56600</td>\n",
       "      <td>280.407000</td>\n",
       "      <td>2.054582e+06</td>\n",
       "      <td>1.100364e+09</td>\n",
       "    </tr>\n",
       "  </tbody>\n",
       "</table>\n",
       "</div>"
      ],
      "text/plain": [
       "             Order_Date  Order_ID  Quantity        Sales      Profit  \\\n",
       "Customer_ID                                                            \n",
       "AA-10315            275        42       145  13747.41300   447.69050   \n",
       "AA-10375            316        42       139   5884.19500   677.47740   \n",
       "AA-10480            351        38       150  17695.58978  1516.47518   \n",
       "AA-10645            348        73       267  15343.89070  3051.43900   \n",
       "AA-315              237         8        20   2243.25600   535.56600   \n",
       "\n",
       "                    AOV           CLV  Cust_Lifetime_Value  \n",
       "Customer_ID                                                 \n",
       "AA-10315     327.319357  2.398316e+06         1.073703e+09  \n",
       "AA-10375     140.099881  1.026532e+06         6.954521e+08  \n",
       "AA-10480     465.673415  3.412056e+06         5.174298e+09  \n",
       "AA-10645     210.190284  1.540094e+06         4.699504e+09  \n",
       "AA-315       280.407000  2.054582e+06         1.100364e+09  "
      ]
     },
     "execution_count": 322,
     "metadata": {},
     "output_type": "execute_result"
    }
   ],
   "source": [
    "# Customer Value\n",
    "data_group['CLV']=(data_group['AOV']*purchase_frequency)/churn_rate\n",
    "\n",
    "#Customer Lifetime Value\n",
    "data_group['Cust_Lifetime_Value']=data_group['CLV']*data_group['Profit']\n",
    "\n",
    "data_group.head()"
   ]
  },
  {
   "cell_type": "code",
   "execution_count": 323,
   "metadata": {},
   "outputs": [],
   "source": [
    "data.to_csv(\"data.csv\", index=False)"
   ]
  },
  {
   "cell_type": "code",
   "execution_count": 324,
   "metadata": {},
   "outputs": [
    {
     "data": {
      "text/plain": [
       "Row_ID                     int64\n",
       "Order_ID                  object\n",
       "Order_Date        datetime64[ns]\n",
       "Ship_Date                 object\n",
       "Ship_Mode                 object\n",
       "Customer_ID               object\n",
       "Customer_Name             object\n",
       "Segment                   object\n",
       "City                      object\n",
       "State                     object\n",
       "Country                   object\n",
       "Postal_Code              float64\n",
       "Market                    object\n",
       "Region                    object\n",
       "ProductID                  int64\n",
       "Category                  object\n",
       "Sub-Category              object\n",
       "ProductName               object\n",
       "Sales                    float64\n",
       "Quantity                   int64\n",
       "Discount                 float64\n",
       "Profit                   float64\n",
       "Shipping_Cost            float64\n",
       "Order_Priority            object\n",
       "Review                     int64\n",
       "Recency                    int64\n",
       "Frequency                  int64\n",
       "Monetary                 float64\n",
       "Rank                     float64\n",
       "R_Quartile                 int64\n",
       "F_Quartile                 int64\n",
       "M_Quartile                 int64\n",
       "RFMScore                  object\n",
       "Type                      object\n",
       "dtype: object"
      ]
     },
     "execution_count": 324,
     "metadata": {},
     "output_type": "execute_result"
    }
   ],
   "source": [
    "data.dtypes"
   ]
  },
  {
   "cell_type": "code",
   "execution_count": null,
   "metadata": {},
   "outputs": [],
   "source": []
  }
 ],
 "metadata": {
  "kernelspec": {
   "display_name": "Python 3",
   "language": "python",
   "name": "python3"
  },
  "language_info": {
   "codemirror_mode": {
    "name": "ipython",
    "version": 3
   },
   "file_extension": ".py",
   "mimetype": "text/x-python",
   "name": "python",
   "nbconvert_exporter": "python",
   "pygments_lexer": "ipython3",
   "version": "3.7.6"
  }
 },
 "nbformat": 4,
 "nbformat_minor": 4
}
